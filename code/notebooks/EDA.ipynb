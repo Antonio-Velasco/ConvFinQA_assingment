{
 "cells": [
  {
   "cell_type": "markdown",
   "metadata": {},
   "source": [
    "# Introduction\n",
    "Welcome to this Exploratory Data Analysis (EDA) notebook. In this notebook, we will dive into the dataset to uncover initial insights, identify patterns, and understand the underlying structure of the data. EDA is a crucial step in the data science workflow as it helps in formulating hypotheses, detecting anomalies, and guiding further analysis.\n",
    "\n",
    "## Objectives\n",
    "- Load and clean the dataset\n",
    "- Perform descriptive statistics\n",
    "- Visualize data distributions and relationships\n",
    "- Identify and handle missing values\n",
    "- Highlight key findings and potential areas for further investigation"
   ]
  },
  {
   "cell_type": "markdown",
   "metadata": {},
   "source": [
    "#### Imports and config"
   ]
  },
  {
   "cell_type": "code",
   "execution_count": 22,
   "metadata": {},
   "outputs": [],
   "source": [
    "import json\n",
    "import pandas as pd\n",
    "import random"
   ]
  },
  {
   "cell_type": "code",
   "execution_count": 7,
   "metadata": {},
   "outputs": [],
   "source": [
    "with open(\"../../data/train.json\") as f:\n",
    "    data = json.load(f)"
   ]
  },
  {
   "cell_type": "markdown",
   "metadata": {},
   "source": [
    "### Data Understanding"
   ]
  },
  {
   "cell_type": "code",
   "execution_count": 30,
   "metadata": {},
   "outputs": [
    {
     "data": {
      "text/plain": [
       "3037"
      ]
     },
     "execution_count": 30,
     "metadata": {},
     "output_type": "execute_result"
    }
   ],
   "source": [
    "len(data)"
   ]
  },
  {
   "cell_type": "code",
   "execution_count": 31,
   "metadata": {},
   "outputs": [
    {
     "data": {
      "text/plain": [
       "['26 | 2009 annual report in fiscal 2008 , revenues in the credit union systems and services business segment increased 14% ( 14 % ) from fiscal 2007 .',\n",
       " 'all revenue components within the segment experienced growth during fiscal 2008 .',\n",
       " 'license revenue generated the largest dollar growth in revenue as episys ae , our flagship core processing system aimed at larger credit unions , experienced strong sales throughout the year .',\n",
       " 'support and service revenue , which is the largest component of total revenues for the credit union segment , experienced 34 percent growth in eft support and 10 percent growth in in-house support .',\n",
       " 'gross profit in this business segment increased $ 9344 in fiscal 2008 compared to fiscal 2007 , due primarily to the increase in license revenue , which carries the highest margins .',\n",
       " 'liquidity and capital resources we have historically generated positive cash flow from operations and have generally used funds generated from operations and short-term borrowings on our revolving credit facility to meet capital requirements .',\n",
       " 'we expect this trend to continue in the future .',\n",
       " 'the company 2019s cash and cash equivalents increased to $ 118251 at june 30 , 2009 from $ 65565 at june 30 , 2008 .',\n",
       " 'the following table summarizes net cash from operating activities in the statement of cash flows : 2009 2008 2007 .']"
      ]
     },
     "execution_count": 31,
     "metadata": {},
     "output_type": "execute_result"
    }
   ],
   "source": [
    "data[0]['pre_text']"
   ]
  },
  {
   "cell_type": "code",
   "execution_count": 32,
   "metadata": {},
   "outputs": [
    {
     "data": {
      "text/plain": [
       "[['2008',\n",
       "  'year ended june 30 2009 2008',\n",
       "  'year ended june 30 2009 2008',\n",
       "  'year ended june 30 2009'],\n",
       " ['net income', '$ 103102', '$ 104222', '$ 104681'],\n",
       " ['non-cash expenses', '74397', '70420', '56348'],\n",
       " ['change in receivables', '21214', '-2913 ( 2913 )', '-28853 ( 28853 )'],\n",
       " ['change in deferred revenue', '21943', '5100', '24576'],\n",
       " ['change in other assets and liabilities',\n",
       "  '-14068 ( 14068 )',\n",
       "  '4172',\n",
       "  '17495'],\n",
       " ['net cash from operating activities', '$ 206588', '$ 181001', '$ 174247']]"
      ]
     },
     "execution_count": 32,
     "metadata": {},
     "output_type": "execute_result"
    }
   ],
   "source": [
    "data[0]['table']"
   ]
  },
  {
   "cell_type": "code",
   "execution_count": 33,
   "metadata": {},
   "outputs": [
    {
     "data": {
      "text/plain": [
       "['year ended june 30 , cash provided by operations increased $ 25587 to $ 206588 for the fiscal year ended june 30 , 2009 as compared to $ 181001 for the fiscal year ended june 30 , 2008 .',\n",
       " 'this increase is primarily attributable to a decrease in receivables compared to the same period a year ago of $ 21214 .',\n",
       " 'this decrease is largely the result of fiscal 2010 annual software maintenance billings being provided to customers earlier than in the prior year , which allowed more cash to be collected before the end of the fiscal year than in previous years .',\n",
       " 'further , we collected more cash overall related to revenues that will be recognized in subsequent periods in the current year than in fiscal 2008 .',\n",
       " 'cash used in investing activities for the fiscal year ended june 2009 was $ 59227 and includes $ 3027 in contingent consideration paid on prior years 2019 acquisitions .',\n",
       " 'cash used in investing activities for the fiscal year ended june 2008 was $ 102148 and includes payments for acquisitions of $ 48109 , plus $ 1215 in contingent consideration paid on prior years 2019 acquisitions .',\n",
       " 'capital expenditures for fiscal 2009 were $ 31562 compared to $ 31105 for fiscal 2008 .',\n",
       " 'cash used for software development in fiscal 2009 was $ 24684 compared to $ 23736 during the prior year .',\n",
       " 'net cash used in financing activities for the current fiscal year was $ 94675 and includes the repurchase of 3106 shares of our common stock for $ 58405 , the payment of dividends of $ 26903 and $ 13489 net repayment on our revolving credit facilities .',\n",
       " 'cash used in financing activities was partially offset by proceeds of $ 3773 from the exercise of stock options and the sale of common stock ( through the employee stock purchase plan ) and $ 348 excess tax benefits from stock option exercises .',\n",
       " 'during fiscal 2008 , net cash used in financing activities for the fiscal year was $ 101905 and includes the repurchase of 4200 shares of our common stock for $ 100996 , the payment of dividends of $ 24683 and $ 429 net repayment on our revolving credit facilities .',\n",
       " 'cash used in financing activities was partially offset by proceeds of $ 20394 from the exercise of stock options and the sale of common stock and $ 3809 excess tax benefits from stock option exercises .',\n",
       " 'beginning during fiscal 2008 , us financial markets and many of the largest us financial institutions have been shaken by negative developments in the home mortgage industry and the mortgage markets , and particularly the markets for subprime mortgage-backed securities .',\n",
       " 'since that time , these and other such developments have resulted in a broad , global economic downturn .',\n",
       " 'while we , as is the case with most companies , have experienced the effects of this downturn , we have not experienced any significant issues with our current collection efforts , and we believe that any future impact to our liquidity will be minimized by cash generated by recurring sources of revenue and due to our access to available lines of credit. .']"
      ]
     },
     "execution_count": 33,
     "metadata": {},
     "output_type": "execute_result"
    }
   ],
   "source": [
    "data[0]['post_text']"
   ]
  },
  {
   "cell_type": "code",
   "execution_count": 34,
   "metadata": {},
   "outputs": [
    {
     "data": {
      "text/plain": [
       "'Single_JKHY/2009/page_28.pdf-3'"
      ]
     },
     "execution_count": 34,
     "metadata": {},
     "output_type": "execute_result"
    }
   ],
   "source": [
    "data[0]['id']"
   ]
  },
  {
   "cell_type": "code",
   "execution_count": 35,
   "metadata": {},
   "outputs": [
    {
     "data": {
      "text/plain": [
       "{'amt_table': \"<table class='wikitable'><tr><td>1</td><td>2008</td><td>year ended june 30 2009 2008</td><td>year ended june 30 2009 2008</td><td>year ended june 30 2009</td></tr><tr><td>2</td><td>net income</td><td>$ 103102</td><td>$ 104222</td><td>$ 104681</td></tr><tr><td>3</td><td>non-cash expenses</td><td>74397</td><td>70420</td><td>56348</td></tr><tr><td>4</td><td>change in receivables</td><td>21214</td><td>-2913 ( 2913 )</td><td>-28853 ( 28853 )</td></tr><tr><td>5</td><td>change in deferred revenue</td><td>21943</td><td>5100</td><td>24576</td></tr><tr><td>6</td><td>change in other assets and liabilities</td><td>-14068 ( 14068 )</td><td>4172</td><td>17495</td></tr><tr><td>7</td><td>net cash from operating activities</td><td>$ 206588</td><td>$ 181001</td><td>$ 174247</td></tr></table>\",\n",
       " 'amt_pre_text': '26 | 2009 annual report in fiscal 2008 , revenues in the credit union systems and services business segment increased 14% ( 14 % ) from fiscal 2007 . all revenue components within the segment experienced growth during fiscal 2008 . license revenue generated the largest dollar growth in revenue as episys ae , our flagship core processing system aimed at larger credit unions , experienced strong sales throughout the year . support and service revenue , which is the largest component of total revenues for the credit union segment , experienced 34 percent growth in eft support and 10 percent growth in in-house support . gross profit in this business segment increased $ 9344 in fiscal 2008 compared to fiscal 2007 , due primarily to the increase in license revenue , which carries the highest margins . liquidity and capital resources we have historically generated positive cash flow from operations and have generally used funds generated from operations and short-term borrowings on our revolving credit facility to meet capital requirements . we expect this trend to continue in the future . the company 2019s cash and cash equivalents increased to $ 118251 at june 30 , 2009 from $ 65565 at june 30 , 2008 . the following table summarizes net cash from operating activities in the statement of cash flows : 2009 2008 2007 .',\n",
       " 'amt_post_text': 'year ended june 30 , cash provided by operations increased $ 25587 to $ 206588 for the fiscal year ended june 30 , 2009 as compared to $ 181001 for the fiscal year ended june 30 , 2008 . this increase is primarily attributable to a decrease in receivables compared to the same period a year ago of $ 21214 . this decrease is largely the result of fiscal 2010 annual software maintenance billings being provided to customers earlier than in the prior year , which allowed more cash to be collected before the end of the fiscal year than in previous years . further , we collected more cash overall related to revenues that will be recognized in subsequent periods in the current year than in fiscal 2008 . cash used in investing activities for the fiscal year ended june 2009 was $ 59227 and includes $ 3027 in contingent consideration paid on prior years 2019 acquisitions . cash used in investing activities for the fiscal year ended june 2008 was $ 102148 and includes payments for acquisitions of $ 48109 , plus $ 1215 in contingent consideration paid on prior years 2019 acquisitions . capital expenditures for fiscal 2009 were $ 31562 compared to $ 31105 for fiscal 2008 . cash used for software development in fiscal 2009 was $ 24684 compared to $ 23736 during the prior year . net cash used in financing activities for the current fiscal year was $ 94675 and includes the repurchase of 3106 shares of our common stock for $ 58405 , the payment of dividends of $ 26903 and $ 13489 net repayment on our revolving credit facilities . cash used in financing activities was partially offset by proceeds of $ 3773 from the exercise of stock options and the sale of common stock ( through the employee stock purchase plan ) and $ 348 excess tax benefits from stock option exercises . during fiscal 2008 , net cash used in financing activities for the fiscal year was $ 101905 and includes the repurchase of 4200 shares of our common stock for $ 100996 , the payment of dividends of $ 24683 and $ 429 net repayment on our revolving credit facilities . cash used in financing activities was partially offset by proceeds of $ 20394 from the exercise of stock options and the sale of common stock and $ 3809 excess tax benefits from stock option exercises . beginning during fiscal 2008 , us financial markets and many of the largest us financial institutions have been shaken by negative developments in the home mortgage industry and the mortgage markets , and particularly the markets for subprime mortgage-backed securities . since that time , these and other such developments have resulted in a broad , global economic downturn . while we , as is the case with most companies , have experienced the effects of this downturn , we have not experienced any significant issues with our current collection efforts , and we believe that any future impact to our liquidity will be minimized by cash generated by recurring sources of revenue and due to our access to available lines of credit. .',\n",
       " 'original_program': 'subtract(206588, 181001), divide(A0, 181001)',\n",
       " 'step_list': ['Ask for number 206588',\n",
       "  'Ask for number 181001',\n",
       "  'subtract(206588, 181001)',\n",
       "  'divide(A0, 181001)'],\n",
       " 'answer_list': ['206588', '181001', 'A0', 'A1'],\n",
       " 'dialogue_break': ['what is the net cash from operating activities in 2009?',\n",
       "  'what about in 2008?',\n",
       "  'what is the difference?',\n",
       "  'what percentage change does this represent?'],\n",
       " 'turn_program_ori': ['206588',\n",
       "  '181001',\n",
       "  'subtract(206588, 181001)',\n",
       "  'subtract(206588, 181001), divide(#0, 181001)'],\n",
       " 'dialogue_break_ori': ['what is the net cash from operating activities in 2009?',\n",
       "  'what about in 2008?',\n",
       "  'what is the difference?',\n",
       "  'what percentage change does this represent?'],\n",
       " 'turn_program': ['206588',\n",
       "  '181001',\n",
       "  'subtract(206588, 181001)',\n",
       "  'subtract(206588, 181001), divide(#0, 181001)'],\n",
       " 'qa_split': [0, 0, 0, 0],\n",
       " 'exe_ans_list': [206588.0, 181001.0, 25587.0, 0.14136]}"
      ]
     },
     "execution_count": 35,
     "metadata": {},
     "output_type": "execute_result"
    }
   ],
   "source": [
    "data[0]['annotation']"
   ]
  },
  {
   "cell_type": "code",
   "execution_count": 36,
   "metadata": {},
   "outputs": [
    {
     "data": {
      "text/plain": [
       "{'question': 'what was the percentage change in the net cash from operating activities from 2008 to 2009',\n",
       " 'answer': '14.1%',\n",
       " 'explanation': '',\n",
       " 'ann_table_rows': [6],\n",
       " 'ann_text_rows': [],\n",
       " 'steps': [{'op': 'minus2-1',\n",
       "   'arg1': '206588',\n",
       "   'arg2': '181001',\n",
       "   'res': '25587'},\n",
       "  {'op': 'divide2-2', 'arg1': '#0', 'arg2': '181001', 'res': '14.1%'}],\n",
       " 'program': 'subtract(206588, 181001), divide(#0, 181001)',\n",
       " 'gold_inds': {'table_6': '2008 the net cash from operating activities of year ended june 30 2009 2008 is $ 206588 ; the net cash from operating activities of year ended june 30 2009 2008 is $ 181001 ; the net cash from operating activities of year ended june 30 2009 is $ 174247 ;'},\n",
       " 'exe_ans': 0.14136,\n",
       " 'program_re': 'divide(subtract(206588, 181001), 181001)'}"
      ]
     },
     "execution_count": 36,
     "metadata": {},
     "output_type": "execute_result"
    }
   ],
   "source": [
    "data[0]['qa']"
   ]
  },
  {
   "cell_type": "markdown",
   "metadata": {},
   "source": [
    "### Data Joining \n",
    "\n",
    "Joinin 'pre_text', 'table' and 'post_text' for simplicity.\n",
    "\n",
    "Tables are also written in markdown format for easier handling by the LLMs"
   ]
  },
  {
   "cell_type": "code",
   "execution_count": 15,
   "metadata": {},
   "outputs": [
    {
     "name": "stdout",
     "output_type": "stream",
     "text": [
      "26 | 2009 annual report in fiscal 2008 , revenues in the credit union systems and services business segment increased 14% ( 14 % ) from fiscal 2007 .\n",
      "all revenue components within the segment experienced growth during fiscal 2008 .\n",
      "license revenue generated the largest dollar growth in revenue as episys ae , our flagship core processing system aimed at larger credit unions , experienced strong sales throughout the year .\n",
      "support and service revenue , which is the largest component of total revenues for the credit union segment , experienced 34 percent growth in eft support and 10 percent growth in in-house support .\n",
      "gross profit in this business segment increased $ 9344 in fiscal 2008 compared to fiscal 2007 , due primarily to the increase in license revenue , which carries the highest margins .\n",
      "liquidity and capital resources we have historically generated positive cash flow from operations and have generally used funds generated from operations and short-term borrowings on our revolving credit facility to meet capital requirements .\n",
      "we expect this trend to continue in the future .\n",
      "the company 2019s cash and cash equivalents increased to $ 118251 at june 30 , 2009 from $ 65565 at june 30 , 2008 .\n",
      "the following table summarizes net cash from operating activities in the statement of cash flows : 2009 2008 2007 .\n",
      "\n",
      "| 2008 | year ended june 30 2009 2008 | year ended june 30 2009 2008 | year ended june 30 2009 |\n",
      "| net income | $ 103102 | $ 104222 | $ 104681 |\n",
      "| non-cash expenses | 74397 | 70420 | 56348 |\n",
      "| change in receivables | 21214 | -2913 ( 2913 ) | -28853 ( 28853 ) |\n",
      "| change in deferred revenue | 21943 | 5100 | 24576 |\n",
      "| change in other assets and liabilities | -14068 ( 14068 ) | 4172 | 17495 |\n",
      "| net cash from operating activities | $ 206588 | $ 181001 | $ 174247 |\n",
      "\n",
      "year ended june 30 , cash provided by operations increased $ 25587 to $ 206588 for the fiscal year ended june 30 , 2009 as compared to $ 181001 for the fiscal year ended june 30 , 2008 .\n",
      "this increase is primarily attributable to a decrease in receivables compared to the same period a year ago of $ 21214 .\n",
      "this decrease is largely the result of fiscal 2010 annual software maintenance billings being provided to customers earlier than in the prior year , which allowed more cash to be collected before the end of the fiscal year than in previous years .\n",
      "further , we collected more cash overall related to revenues that will be recognized in subsequent periods in the current year than in fiscal 2008 .\n",
      "cash used in investing activities for the fiscal year ended june 2009 was $ 59227 and includes $ 3027 in contingent consideration paid on prior years 2019 acquisitions .\n",
      "cash used in investing activities for the fiscal year ended june 2008 was $ 102148 and includes payments for acquisitions of $ 48109 , plus $ 1215 in contingent consideration paid on prior years 2019 acquisitions .\n",
      "capital expenditures for fiscal 2009 were $ 31562 compared to $ 31105 for fiscal 2008 .\n",
      "cash used for software development in fiscal 2009 was $ 24684 compared to $ 23736 during the prior year .\n",
      "net cash used in financing activities for the current fiscal year was $ 94675 and includes the repurchase of 3106 shares of our common stock for $ 58405 , the payment of dividends of $ 26903 and $ 13489 net repayment on our revolving credit facilities .\n",
      "cash used in financing activities was partially offset by proceeds of $ 3773 from the exercise of stock options and the sale of common stock ( through the employee stock purchase plan ) and $ 348 excess tax benefits from stock option exercises .\n",
      "during fiscal 2008 , net cash used in financing activities for the fiscal year was $ 101905 and includes the repurchase of 4200 shares of our common stock for $ 100996 , the payment of dividends of $ 24683 and $ 429 net repayment on our revolving credit facilities .\n",
      "cash used in financing activities was partially offset by proceeds of $ 20394 from the exercise of stock options and the sale of common stock and $ 3809 excess tax benefits from stock option exercises .\n",
      "beginning during fiscal 2008 , us financial markets and many of the largest us financial institutions have been shaken by negative developments in the home mortgage industry and the mortgage markets , and particularly the markets for subprime mortgage-backed securities .\n",
      "since that time , these and other such developments have resulted in a broad , global economic downturn .\n",
      "while we , as is the case with most companies , have experienced the effects of this downturn , we have not experienced any significant issues with our current collection efforts , and we believe that any future impact to our liquidity will be minimized by cash generated by recurring sources of revenue and due to our access to available lines of credit. .\n"
     ]
    }
   ],
   "source": [
    "def join_text(entry: dict) -> str:\n",
    "    page = \"\"\n",
    "\n",
    "    page += ('\\n'.join(map(str, entry['pre_text'])) + '\\n\\n')\n",
    "    for table in entry['table']:\n",
    "        page += ('| ' +' | '.join(map(str, table)) + ' |\\n')\n",
    "    page += ('\\n' + '\\n'.join(map(str, entry['post_text'])))\n",
    "\n",
    "    return page\n",
    "\n",
    "print(join_text(data[0]))"
   ]
  },
  {
   "cell_type": "markdown",
   "metadata": {},
   "source": [
    "### Study token limitations on the corpus"
   ]
  },
  {
   "cell_type": "code",
   "execution_count": 16,
   "metadata": {},
   "outputs": [],
   "source": [
    "import tiktoken\n",
    "\n",
    "# Initialize the tokenizer\n",
    "tokenizer = tiktoken.get_encoding(\"cl100k_base\")"
   ]
  },
  {
   "cell_type": "code",
   "execution_count": 17,
   "metadata": {},
   "outputs": [],
   "source": [
    "for entry in data:\n",
    "    page = join_text(entry)\n",
    "    entry['join_text'] = page\n",
    "    entry['input_tokens'] = len(tokenizer.encode(page))"
   ]
  },
  {
   "cell_type": "code",
   "execution_count": 18,
   "metadata": {},
   "outputs": [],
   "source": [
    "import numpy as np\n",
    "import matplotlib.pyplot as plt\n",
    "\n",
    "values = np.array([entry[\"input_tokens\"] for entry in data])\n",
    "labels = [entry[\"id\"] for entry in data]"
   ]
  },
  {
   "cell_type": "code",
   "execution_count": 19,
   "metadata": {},
   "outputs": [
    {
     "data": {
      "text/plain": [
       "array([1074,  858, 1007, ...,  703,  674, 1015])"
      ]
     },
     "execution_count": 19,
     "metadata": {},
     "output_type": "execute_result"
    }
   ],
   "source": [
    "values"
   ]
  },
  {
   "cell_type": "code",
   "execution_count": 20,
   "metadata": {},
   "outputs": [
    {
     "data": {
      "text/plain": [
       "np.int64(2832)"
      ]
     },
     "execution_count": 20,
     "metadata": {},
     "output_type": "execute_result"
    }
   ],
   "source": [
    "max(values)"
   ]
  },
  {
   "cell_type": "markdown",
   "metadata": {},
   "source": [
    "#### Shouldn't be a problem"
   ]
  },
  {
   "cell_type": "code",
   "execution_count": 21,
   "metadata": {},
   "outputs": [
    {
     "data": {
      "image/png": "[encoded data removed]",
      "text/plain": [
       "<Figure size 640x480 with 1 Axes>"
      ]
     },
     "metadata": {},
     "output_type": "display_data"
    }
   ],
   "source": [
    "# Sort the values and labels in descending order\n",
    "sorted_indices = np.argsort(values)[::-1]\n",
    "sorted_values = values[sorted_indices]\n",
    "sorted_labels = np.array(labels)[sorted_indices]\n",
    "\n",
    "# Create a bar graph\n",
    "plt.bar(sorted_labels, sorted_values)\n",
    "\n",
    "# Add title and labels to the graph\n",
    "plt.title(\"Bar Graph of Values\")\n",
    "plt.xlabel(\"Names\")\n",
    "plt.ylabel(\"Values\")\n",
    "\n",
    "# Show the graph\n",
    "plt.show()"
   ]
  },
  {
   "cell_type": "markdown",
   "metadata": {},
   "source": [
    "### df exploration"
   ]
  },
  {
   "cell_type": "code",
   "execution_count": 23,
   "metadata": {},
   "outputs": [],
   "source": [
    "df = pd.DataFrame(random.sample(data, 100))"
   ]
  },
  {
   "cell_type": "code",
   "execution_count": 25,
   "metadata": {},
   "outputs": [
    {
     "data": {
      "text/html": [
       "<div>\n",
       "<style scoped>\n",
       "    .dataframe tbody tr th:only-of-type {\n",
       "        vertical-align: middle;\n",
       "    }\n",
       "\n",
       "    .dataframe tbody tr th {\n",
       "        vertical-align: top;\n",
       "    }\n",
       "\n",
       "    .dataframe thead th {\n",
       "        text-align: right;\n",
       "    }\n",
       "</style>\n",
       "<table border=\"1\" class=\"dataframe\">\n",
       "  <thead>\n",
       "    <tr style=\"text-align: right;\">\n",
       "      <th></th>\n",
       "      <th>pre_text</th>\n",
       "      <th>post_text</th>\n",
       "      <th>filename</th>\n",
       "      <th>table_ori</th>\n",
       "      <th>table</th>\n",
       "      <th>qa</th>\n",
       "      <th>id</th>\n",
       "      <th>annotation</th>\n",
       "      <th>join_text</th>\n",
       "      <th>input_tokens</th>\n",
       "      <th>qa_0</th>\n",
       "      <th>qa_1</th>\n",
       "    </tr>\n",
       "  </thead>\n",
       "  <tbody>\n",
       "    <tr>\n",
       "      <th>0</th>\n",
       "      <td>[entergy corporation and subsidiaries notes to...</td>\n",
       "      <td>[.]</td>\n",
       "      <td>ETR/2016/page_175.pdf</td>\n",
       "      <td>[[, Amount (In Thousands)], [2017, $17,188], [...</td>\n",
       "      <td>[[, amount ( in thousands )], [2017, $ 17188],...</td>\n",
       "      <td>{'question': 'what are the implicit interest c...</td>\n",
       "      <td>Single_ETR/2016/page_175.pdf-3</td>\n",
       "      <td>{'amt_table': '&lt;table class='wikitable'&gt;&lt;tr&gt;&lt;t...</td>\n",
       "      <td>entergy corporation and subsidiaries notes to ...</td>\n",
       "      <td>649</td>\n",
       "      <td>NaN</td>\n",
       "      <td>NaN</td>\n",
       "    </tr>\n",
       "    <tr>\n",
       "      <th>1</th>\n",
       "      <td>[58 2018 ppg annual report and 10-k the crown ...</td>\n",
       "      <td>[( a ) the net deferred income tax liability i...</td>\n",
       "      <td>PPG/2018/page_60.pdf</td>\n",
       "      <td>[[Current assets, $38], [Property, plant, and ...</td>\n",
       "      <td>[[current assets, $ 38], [property plant and e...</td>\n",
       "      <td>{'question': 'for metokote , what percentage o...</td>\n",
       "      <td>Single_PPG/2018/page_60.pdf-2</td>\n",
       "      <td>{'amt_table': '&lt;table class='wikitable'&gt;&lt;tr&gt;&lt;t...</td>\n",
       "      <td>58 2018 ppg annual report and 10-k the crown g...</td>\n",
       "      <td>1056</td>\n",
       "      <td>NaN</td>\n",
       "      <td>NaN</td>\n",
       "    </tr>\n",
       "    <tr>\n",
       "      <th>2</th>\n",
       "      <td>[in 2017 , the company granted 440076 shares o...</td>\n",
       "      <td>[the total fair value of restricted stock , re...</td>\n",
       "      <td>CME/2017/page_99.pdf</td>\n",
       "      <td>[[, Number of Shares, WeightedAverageGrant Dat...</td>\n",
       "      <td>[[, number of shares, weightedaveragegrant dat...</td>\n",
       "      <td>{'question': 'in millions , how much compensat...</td>\n",
       "      <td>Single_CME/2017/page_99.pdf-2</td>\n",
       "      <td>{'amt_table': '&lt;table class='wikitable'&gt;&lt;tr&gt;&lt;t...</td>\n",
       "      <td>in 2017 , the company granted 440076 shares of...</td>\n",
       "      <td>701</td>\n",
       "      <td>NaN</td>\n",
       "      <td>NaN</td>\n",
       "    </tr>\n",
       "    <tr>\n",
       "      <th>3</th>\n",
       "      <td>[have access to liquidity by issuing bonds to ...</td>\n",
       "      <td>[operating activities lower net income in 2009...</td>\n",
       "      <td>UNP/2009/page_38.pdf</td>\n",
       "      <td>[[&lt;i&gt;Millions of Dollars&lt;/i&gt;, &lt;i&gt;2009&lt;/i&gt;, 200...</td>\n",
       "      <td>[[millions of dollars, 2009, 2008, 2007], [cas...</td>\n",
       "      <td>{'question': 'what was the percentage change i...</td>\n",
       "      <td>Single_UNP/2009/page_38.pdf-4</td>\n",
       "      <td>{'amt_table': '&lt;table class='wikitable'&gt;&lt;tr&gt;&lt;t...</td>\n",
       "      <td>have access to liquidity by issuing bonds to p...</td>\n",
       "      <td>500</td>\n",
       "      <td>NaN</td>\n",
       "      <td>NaN</td>\n",
       "    </tr>\n",
       "    <tr>\n",
       "      <th>4</th>\n",
       "      <td>[entergy new orleans , inc ., and subsidiaries...</td>\n",
       "      <td>[see note 4 to the financial statements for a ...</td>\n",
       "      <td>ETR/2016/page_403.pdf</td>\n",
       "      <td>[[2016, 2015, 2014, 2013], [(In Thousands)], [...</td>\n",
       "      <td>[[2016, 2015, 2014, 2013], [( in thousands ), ...</td>\n",
       "      <td>{'question': 'what is the maximum target autho...</td>\n",
       "      <td>Single_ETR/2016/page_403.pdf-2</td>\n",
       "      <td>{'amt_table': '&lt;table class='wikitable'&gt;&lt;tr&gt;&lt;t...</td>\n",
       "      <td>entergy new orleans , inc .\\nand subsidiaries ...</td>\n",
       "      <td>853</td>\n",
       "      <td>NaN</td>\n",
       "      <td>NaN</td>\n",
       "    </tr>\n",
       "  </tbody>\n",
       "</table>\n",
       "</div>"
      ],
      "text/plain": [
       "                                            pre_text  \\\n",
       "0  [entergy corporation and subsidiaries notes to...   \n",
       "1  [58 2018 ppg annual report and 10-k the crown ...   \n",
       "2  [in 2017 , the company granted 440076 shares o...   \n",
       "3  [have access to liquidity by issuing bonds to ...   \n",
       "4  [entergy new orleans , inc ., and subsidiaries...   \n",
       "\n",
       "                                           post_text               filename  \\\n",
       "0                                                [.]  ETR/2016/page_175.pdf   \n",
       "1  [( a ) the net deferred income tax liability i...   PPG/2018/page_60.pdf   \n",
       "2  [the total fair value of restricted stock , re...   CME/2017/page_99.pdf   \n",
       "3  [operating activities lower net income in 2009...   UNP/2009/page_38.pdf   \n",
       "4  [see note 4 to the financial statements for a ...  ETR/2016/page_403.pdf   \n",
       "\n",
       "                                           table_ori  \\\n",
       "0  [[, Amount (In Thousands)], [2017, $17,188], [...   \n",
       "1  [[Current assets, $38], [Property, plant, and ...   \n",
       "2  [[, Number of Shares, WeightedAverageGrant Dat...   \n",
       "3  [[<i>Millions of Dollars</i>, <i>2009</i>, 200...   \n",
       "4  [[2016, 2015, 2014, 2013], [(In Thousands)], [...   \n",
       "\n",
       "                                               table  \\\n",
       "0  [[, amount ( in thousands )], [2017, $ 17188],...   \n",
       "1  [[current assets, $ 38], [property plant and e...   \n",
       "2  [[, number of shares, weightedaveragegrant dat...   \n",
       "3  [[millions of dollars, 2009, 2008, 2007], [cas...   \n",
       "4  [[2016, 2015, 2014, 2013], [( in thousands ), ...   \n",
       "\n",
       "                                                  qa  \\\n",
       "0  {'question': 'what are the implicit interest c...   \n",
       "1  {'question': 'for metokote , what percentage o...   \n",
       "2  {'question': 'in millions , how much compensat...   \n",
       "3  {'question': 'what was the percentage change i...   \n",
       "4  {'question': 'what is the maximum target autho...   \n",
       "\n",
       "                               id  \\\n",
       "0  Single_ETR/2016/page_175.pdf-3   \n",
       "1   Single_PPG/2018/page_60.pdf-2   \n",
       "2   Single_CME/2017/page_99.pdf-2   \n",
       "3   Single_UNP/2009/page_38.pdf-4   \n",
       "4  Single_ETR/2016/page_403.pdf-2   \n",
       "\n",
       "                                          annotation  \\\n",
       "0  {'amt_table': '<table class='wikitable'><tr><t...   \n",
       "1  {'amt_table': '<table class='wikitable'><tr><t...   \n",
       "2  {'amt_table': '<table class='wikitable'><tr><t...   \n",
       "3  {'amt_table': '<table class='wikitable'><tr><t...   \n",
       "4  {'amt_table': '<table class='wikitable'><tr><t...   \n",
       "\n",
       "                                           join_text  input_tokens qa_0 qa_1  \n",
       "0  entergy corporation and subsidiaries notes to ...           649  NaN  NaN  \n",
       "1  58 2018 ppg annual report and 10-k the crown g...          1056  NaN  NaN  \n",
       "2  in 2017 , the company granted 440076 shares of...           701  NaN  NaN  \n",
       "3  have access to liquidity by issuing bonds to p...           500  NaN  NaN  \n",
       "4  entergy new orleans , inc .\\nand subsidiaries ...           853  NaN  NaN  "
      ]
     },
     "execution_count": 25,
     "metadata": {},
     "output_type": "execute_result"
    }
   ],
   "source": [
    "df.head()"
   ]
  },
  {
   "cell_type": "markdown",
   "metadata": {},
   "source": [
    "# Saving a version of the data with the context joined"
   ]
  },
  {
   "cell_type": "code",
   "execution_count": 45,
   "metadata": {},
   "outputs": [],
   "source": [
    "with open(\"../../data/train_extended.json\", \"w\") as json_file:\n",
    "    json.dump(data, json_file, indent=4)\n",
    "    "
   ]
  }
 ],
 "metadata": {
  "kernelspec": {
   "display_name": ".venv",
   "language": "python",
   "name": "python3"
  },
  "language_info": {
   "codemirror_mode": {
    "name": "ipython",
    "version": 3
   },
   "file_extension": ".py",
   "mimetype": "text/x-python",
   "name": "python",
   "nbconvert_exporter": "python",
   "pygments_lexer": "ipython3",
   "version": "3.12.0"
  }
 },
 "nbformat": 4,
 "nbformat_minor": 2
}
