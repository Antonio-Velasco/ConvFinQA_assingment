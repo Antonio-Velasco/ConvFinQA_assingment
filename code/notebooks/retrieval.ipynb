{
 "cells": [
  {
   "cell_type": "markdown",
   "metadata": {},
   "source": [
    "# Question Answering Solution\n",
    "\n",
    "### Introduction\n",
    "- **Objective**: Develop and evaluate a question-answering model using the ConvFinQA dataset.\n",
    "\n",
    "### Retrieval Technique\n",
    "- **Approach**: Implement a retrieval-based method to find relevant information from the dataset. This involves using an embeddings index and context augmentation.\n",
    "\n",
    "### Evaluation Metrics\n",
    "- **Recall**: Measure the proportion of relevant information successfully retrieved by the model. Recall is calculated as the number of relevant documents retrieved divided by the total number of relevant documents in the dataset. This metric helps assess the effectiveness of the retrieval technique in finding all pertinent information needed to answer the questions accurately.\n"
   ]
  },
  {
   "cell_type": "code",
   "execution_count": 74,
   "metadata": {},
   "outputs": [],
   "source": [
    "import json\n",
    "from openai import OpenAI\n",
    "import os\n",
    "from dotenv import load_dotenv\n",
    "import random\n",
    "import pandas as pd\n",
    "import re"
   ]
  },
  {
   "cell_type": "code",
   "execution_count": 2,
   "metadata": {},
   "outputs": [],
   "source": [
    "with open(\"../../data/train_extended.json\") as f:\n",
    "    data = json.load(f)"
   ]
  },
  {
   "cell_type": "markdown",
   "metadata": {},
   "source": [
    "#### Sampling 100 random entries for swiftness"
   ]
  },
  {
   "cell_type": "code",
   "execution_count": 3,
   "metadata": {},
   "outputs": [],
   "source": [
    "df = pd.DataFrame(random.sample(data, 100))"
   ]
  },
  {
   "cell_type": "code",
   "execution_count": 4,
   "metadata": {},
   "outputs": [
    {
     "data": {
      "text/html": [
       "<div>\n",
       "<style scoped>\n",
       "    .dataframe tbody tr th:only-of-type {\n",
       "        vertical-align: middle;\n",
       "    }\n",
       "\n",
       "    .dataframe tbody tr th {\n",
       "        vertical-align: top;\n",
       "    }\n",
       "\n",
       "    .dataframe thead th {\n",
       "        text-align: right;\n",
       "    }\n",
       "</style>\n",
       "<table border=\"1\" class=\"dataframe\">\n",
       "  <thead>\n",
       "    <tr style=\"text-align: right;\">\n",
       "      <th></th>\n",
       "      <th>pre_text</th>\n",
       "      <th>post_text</th>\n",
       "      <th>filename</th>\n",
       "      <th>table_ori</th>\n",
       "      <th>table</th>\n",
       "      <th>id</th>\n",
       "      <th>annotation</th>\n",
       "      <th>qa_0</th>\n",
       "      <th>qa_1</th>\n",
       "      <th>join_text</th>\n",
       "      <th>input_tokens</th>\n",
       "      <th>qa</th>\n",
       "    </tr>\n",
       "  </thead>\n",
       "  <tbody>\n",
       "    <tr>\n",
       "      <th>0</th>\n",
       "      <td>[hii expects to incur higher costs to complete...</td>\n",
       "      <td>[.]</td>\n",
       "      <td>HII/2011/page_90.pdf</td>\n",
       "      <td>[[($ in millions), Employee Compensation, Othe...</td>\n",
       "      <td>[[( $ in millions ), employee compensation, ot...</td>\n",
       "      <td>Double_HII/2011/page_90.pdf</td>\n",
       "      <td>{'amt_table': '&lt;table class='wikitable'&gt;&lt;tr&gt;&lt;t...</td>\n",
       "      <td>{'question': 'what is the net change in employ...</td>\n",
       "      <td>{'question': 'what is the net change in employ...</td>\n",
       "      <td>hii expects to incur higher costs to complete ...</td>\n",
       "      <td>1002</td>\n",
       "      <td>NaN</td>\n",
       "    </tr>\n",
       "    <tr>\n",
       "      <th>1</th>\n",
       "      <td>[business subsequent to the acquisition ., the...</td>\n",
       "      <td>[rental expense for operating leases was appro...</td>\n",
       "      <td>LKQ/2018/page_102.pdf</td>\n",
       "      <td>[[2019, $294,269], [2020, 256,172], [2021, 210...</td>\n",
       "      <td>[[2019, $ 294269], [2020, 256172], [2021, 2106...</td>\n",
       "      <td>Single_LKQ/2018/page_102.pdf-2</td>\n",
       "      <td>{'amt_table': '&lt;table class='wikitable'&gt;&lt;tr&gt;&lt;t...</td>\n",
       "      <td>NaN</td>\n",
       "      <td>NaN</td>\n",
       "      <td>business subsequent to the acquisition .\\nthe ...</td>\n",
       "      <td>919</td>\n",
       "      <td>{'question': 'what was the percentage change i...</td>\n",
       "    </tr>\n",
       "    <tr>\n",
       "      <th>2</th>\n",
       "      <td>[item 6 ., selected financial data the followi...</td>\n",
       "      <td>[basic earnings ( loss ) per share ( 3 ) $ 2.9...</td>\n",
       "      <td>HII/2012/page_47.pdf</td>\n",
       "      <td>[[, Year Ended December 31], [($ in millions, ...</td>\n",
       "      <td>[[( $ in millions except per share amounts ), ...</td>\n",
       "      <td>Single_HII/2012/page_47.pdf-1</td>\n",
       "      <td>{'amt_table': '&lt;table class='wikitable'&gt;&lt;tr&gt;&lt;t...</td>\n",
       "      <td>NaN</td>\n",
       "      <td>NaN</td>\n",
       "      <td>item 6 .\\nselected financial data the followin...</td>\n",
       "      <td>780</td>\n",
       "      <td>{'question': 'what was the net increase in tot...</td>\n",
       "    </tr>\n",
       "    <tr>\n",
       "      <th>3</th>\n",
       "      <td>[american tower corporation and subsidiaries n...</td>\n",
       "      <td>[aggregate rent expense ( including the effect...</td>\n",
       "      <td>AMT/2004/page_91.pdf</td>\n",
       "      <td>[[2005, $106,116], [2006, 106,319], [2007, 106...</td>\n",
       "      <td>[[2005, $ 106116], [2006, 106319], [2007, 1060...</td>\n",
       "      <td>Single_AMT/2004/page_91.pdf-3</td>\n",
       "      <td>{'amt_table': '&lt;table class='wikitable'&gt;&lt;tr&gt;&lt;t...</td>\n",
       "      <td>NaN</td>\n",
       "      <td>NaN</td>\n",
       "      <td>american tower corporation and subsidiaries no...</td>\n",
       "      <td>869</td>\n",
       "      <td>{'question': 'what was the average rental expe...</td>\n",
       "    </tr>\n",
       "    <tr>\n",
       "      <th>4</th>\n",
       "      <td>[backlog applied manufactures systems to meet ...</td>\n",
       "      <td>[applied 2019s backlog on any particular date ...</td>\n",
       "      <td>AMAT/2015/page_14.pdf</td>\n",
       "      <td>[[, 2015, 2014, , (In millions, except percent...</td>\n",
       "      <td>[[, 2015, 2014, , ( in millions except percent...</td>\n",
       "      <td>Single_AMAT/2015/page_14.pdf-2</td>\n",
       "      <td>{'amt_table': '&lt;table class='wikitable'&gt;&lt;tr&gt;&lt;t...</td>\n",
       "      <td>NaN</td>\n",
       "      <td>NaN</td>\n",
       "      <td>backlog applied manufactures systems to meet d...</td>\n",
       "      <td>600</td>\n",
       "      <td>{'question': 'what is the growth rate in the s...</td>\n",
       "    </tr>\n",
       "  </tbody>\n",
       "</table>\n",
       "</div>"
      ],
      "text/plain": [
       "                                            pre_text  \\\n",
       "0  [hii expects to incur higher costs to complete...   \n",
       "1  [business subsequent to the acquisition ., the...   \n",
       "2  [item 6 ., selected financial data the followi...   \n",
       "3  [american tower corporation and subsidiaries n...   \n",
       "4  [backlog applied manufactures systems to meet ...   \n",
       "\n",
       "                                           post_text               filename  \\\n",
       "0                                                [.]   HII/2011/page_90.pdf   \n",
       "1  [rental expense for operating leases was appro...  LKQ/2018/page_102.pdf   \n",
       "2  [basic earnings ( loss ) per share ( 3 ) $ 2.9...   HII/2012/page_47.pdf   \n",
       "3  [aggregate rent expense ( including the effect...   AMT/2004/page_91.pdf   \n",
       "4  [applied 2019s backlog on any particular date ...  AMAT/2015/page_14.pdf   \n",
       "\n",
       "                                           table_ori  \\\n",
       "0  [[($ in millions), Employee Compensation, Othe...   \n",
       "1  [[2019, $294,269], [2020, 256,172], [2021, 210...   \n",
       "2  [[, Year Ended December 31], [($ in millions, ...   \n",
       "3  [[2005, $106,116], [2006, 106,319], [2007, 106...   \n",
       "4  [[, 2015, 2014, , (In millions, except percent...   \n",
       "\n",
       "                                               table  \\\n",
       "0  [[( $ in millions ), employee compensation, ot...   \n",
       "1  [[2019, $ 294269], [2020, 256172], [2021, 2106...   \n",
       "2  [[( $ in millions except per share amounts ), ...   \n",
       "3  [[2005, $ 106116], [2006, 106319], [2007, 1060...   \n",
       "4  [[, 2015, 2014, , ( in millions except percent...   \n",
       "\n",
       "                               id  \\\n",
       "0     Double_HII/2011/page_90.pdf   \n",
       "1  Single_LKQ/2018/page_102.pdf-2   \n",
       "2   Single_HII/2012/page_47.pdf-1   \n",
       "3   Single_AMT/2004/page_91.pdf-3   \n",
       "4  Single_AMAT/2015/page_14.pdf-2   \n",
       "\n",
       "                                          annotation  \\\n",
       "0  {'amt_table': '<table class='wikitable'><tr><t...   \n",
       "1  {'amt_table': '<table class='wikitable'><tr><t...   \n",
       "2  {'amt_table': '<table class='wikitable'><tr><t...   \n",
       "3  {'amt_table': '<table class='wikitable'><tr><t...   \n",
       "4  {'amt_table': '<table class='wikitable'><tr><t...   \n",
       "\n",
       "                                                qa_0  \\\n",
       "0  {'question': 'what is the net change in employ...   \n",
       "1                                                NaN   \n",
       "2                                                NaN   \n",
       "3                                                NaN   \n",
       "4                                                NaN   \n",
       "\n",
       "                                                qa_1  \\\n",
       "0  {'question': 'what is the net change in employ...   \n",
       "1                                                NaN   \n",
       "2                                                NaN   \n",
       "3                                                NaN   \n",
       "4                                                NaN   \n",
       "\n",
       "                                           join_text  input_tokens  \\\n",
       "0  hii expects to incur higher costs to complete ...          1002   \n",
       "1  business subsequent to the acquisition .\\nthe ...           919   \n",
       "2  item 6 .\\nselected financial data the followin...           780   \n",
       "3  american tower corporation and subsidiaries no...           869   \n",
       "4  backlog applied manufactures systems to meet d...           600   \n",
       "\n",
       "                                                  qa  \n",
       "0                                                NaN  \n",
       "1  {'question': 'what was the percentage change i...  \n",
       "2  {'question': 'what was the net increase in tot...  \n",
       "3  {'question': 'what was the average rental expe...  \n",
       "4  {'question': 'what is the growth rate in the s...  "
      ]
     },
     "execution_count": 4,
     "metadata": {},
     "output_type": "execute_result"
    }
   ],
   "source": [
    "df.head()"
   ]
  },
  {
   "cell_type": "code",
   "execution_count": 5,
   "metadata": {},
   "outputs": [
    {
     "data": {
      "text/plain": [
       "70"
      ]
     },
     "execution_count": 5,
     "metadata": {},
     "output_type": "execute_result"
    }
   ],
   "source": [
    "len(df['qa'].dropna())"
   ]
  },
  {
   "cell_type": "markdown",
   "metadata": {},
   "source": [
    "#### Will take one question per document.\n",
    "#### Further questions beyond the first will be ignored."
   ]
  },
  {
   "cell_type": "code",
   "execution_count": 6,
   "metadata": {},
   "outputs": [
    {
     "data": {
      "text/plain": [
       "100"
      ]
     },
     "execution_count": 6,
     "metadata": {},
     "output_type": "execute_result"
    }
   ],
   "source": [
    "df['qa'] = df['qa'].fillna(df['qa_0'])\n",
    "df = df.drop(['qa_0', 'qa_1'], axis=1)\n",
    "len(df['qa'].dropna())"
   ]
  },
  {
   "cell_type": "markdown",
   "metadata": {},
   "source": [
    "### Client\n",
    "Working with LMStudio we can use OpenAI's python library for local models too"
   ]
  },
  {
   "cell_type": "code",
   "execution_count": 7,
   "metadata": {},
   "outputs": [],
   "source": [
    "# client = OpenAI(\n",
    "#     api_key = \"lm-studio\",  \n",
    "#     base_url=\"http://localhost:1234/v1\"\n",
    "# )\n",
    "\n",
    "load_dotenv()\n",
    "\n",
    "client = OpenAI(\n",
    "    api_key = os.getenv('SECRET_OPENAI_API_KEY'), \n",
    ")"
   ]
  },
  {
   "cell_type": "markdown",
   "metadata": {},
   "source": [
    "### Retrieval"
   ]
  },
  {
   "cell_type": "code",
   "execution_count": 8,
   "metadata": {},
   "outputs": [],
   "source": [
    "from langchain_core.documents.base import Document\n",
    "\n",
    "pages = []\n",
    "for i, entry in enumerate(df['join_text']):\n",
    "    doc_with_metadata = Document(\n",
    "        page_content=(entry),\n",
    "        metadata={\"page\": i})\n",
    "    pages.append(doc_with_metadata)"
   ]
  },
  {
   "cell_type": "code",
   "execution_count": 9,
   "metadata": {},
   "outputs": [
    {
     "name": "stderr",
     "output_type": "stream",
     "text": [
      "C:\\Users\\AntonioVelasco\\AppData\\Local\\Temp\\ipykernel_19268\\3587671496.py:5: LangChainDeprecationWarning: The class `HuggingFaceEmbeddings` was deprecated in LangChain 0.2.2 and will be removed in 1.0. An updated version of the class exists in the :class:`~langchain-huggingface package and should be used instead. To use it run `pip install -U :class:`~langchain-huggingface` and import as `from :class:`~langchain_huggingface import HuggingFaceEmbeddings``.\n",
      "  embedding_function = SentenceTransformerEmbeddings(\n",
      "c:\\Users\\AntonioVelasco\\local_projects\\tomoro\\ConvFinQA\\.venv\\Lib\\site-packages\\tqdm\\auto.py:21: TqdmWarning: IProgress not found. Please update jupyter and ipywidgets. See https://ipywidgets.readthedocs.io/en/stable/user_install.html\n",
      "  from .autonotebook import tqdm as notebook_tqdm\n"
     ]
    }
   ],
   "source": [
    "from langchain_community.embeddings import SentenceTransformerEmbeddings\n",
    "from langchain_community.vectorstores import Chroma\n",
    "\n",
    "# create the open-source embedding function\n",
    "embedding_function = SentenceTransformerEmbeddings(\n",
    "    model_name=\"all-MiniLM-L6-v2\")\n",
    "# load it into Chroma\n",
    "db = Chroma.from_documents(pages, embedding_function)"
   ]
  },
  {
   "cell_type": "code",
   "execution_count": null,
   "metadata": {},
   "outputs": [],
   "source": [
    "def context_augment(\n",
    "                query,\n",
    "                client,\n",
    "                model=\"gpt-3.5-turbo\",\n",
    "                ):\n",
    "    context_augmented = client.chat.completions.create(\n",
    "            messages=[\n",
    "                {\n",
    "                    \"role\": \"system\",\n",
    "                    \"content\": \"\"\"\n",
    "                        You are a helpful assistant that given a question, will produce a set of related terms to provide a better context for the retireval tool.\n",
    "                        make sure to give just points being concise and only listing concepts\n",
    "                        \"\"\"\n",
    "                },\n",
    "                {\n",
    "                    \"role\": \"user\",\n",
    "                    \"content\": f\"\"\"\n",
    "                        USER_QUERY: {query}\n",
    "                        \"\"\",\n",
    "                }\n",
    "            ],\n",
    "            model=model,\n",
    "        ).choices[0].message.content\n",
    "    return context_augmented"
   ]
  },
  {
   "cell_type": "code",
   "execution_count": 11,
   "metadata": {},
   "outputs": [
    {
     "name": "stdout",
     "output_type": "stream",
     "text": [
      "- Employee compensation\n",
      "- Net change\n",
      "- 2011\n",
      "- Financial report\n",
      "- HR records\n"
     ]
    }
   ],
   "source": [
    "augmented_query = context_augment(df['qa'][0]['question'], client)\n",
    "print(augmented_query)"
   ]
  },
  {
   "cell_type": "code",
   "execution_count": 12,
   "metadata": {},
   "outputs": [],
   "source": [
    "retrieved = db.similarity_search(df['qa'][i]['question'] + augmented_query, k=10)"
   ]
  },
  {
   "cell_type": "code",
   "execution_count": 13,
   "metadata": {},
   "outputs": [],
   "source": [
    "# Function to extract numbers from text\n",
    "def extract_number(text):\n",
    "    text = text.replace(',', '')\n",
    "    numbers = re.findall(r'\\d+\\.\\d+|\\d+', text)\n",
    "    numbers = [float(num) for num in numbers]\n",
    "    return numbers[0] if numbers else None\n",
    "\n",
    "# Function to self-evaluate\n",
    "def classifier(\n",
    "                doc,\n",
    "                query,\n",
    "                client,\n",
    "                model=\"gpt-3.5-turbo\",\n",
    "                verbose=False\n",
    "                ):\n",
    "    response = client.chat.completions.create(\n",
    "        messages=[\n",
    "            {\n",
    "                \"role\": \"system\",\n",
    "                \"content\": \"\"\"You are a helpfull classifier that sorts context documents for a LLM\n",
    "                Given a DOCUMENT and a USER_QUERY, you will reply with 1 if the content is relevant.\n",
    "                Otherwise you will reply 0.\n",
    "                \"\"\"\n",
    "            },\n",
    "            {\n",
    "                \"role\": \"user\",\n",
    "                \"content\": f\"\"\"\n",
    "                    USER_QUERY: {query}\n",
    "                    DOCUMENT: {doc}\n",
    "                    \"\"\",\n",
    "            },\n",
    "            {\n",
    "                \"role\": \"assistant\",\n",
    "                \"content\": f\"\"\"\n",
    "                    Write exclusively a number as your output. Eg: 1\n",
    "                    \"\"\",\n",
    "            }\n",
    "        ],\n",
    "        model=model,\n",
    "    ).choices[0].message.content\n",
    "    if verbose:\n",
    "        return response, extract_number(response)\n",
    "    return extract_number(response)"
   ]
  },
  {
   "cell_type": "code",
   "execution_count": 14,
   "metadata": {},
   "outputs": [
    {
     "data": {
      "text/plain": [
       "0.0"
      ]
     },
     "execution_count": 14,
     "metadata": {},
     "output_type": "execute_result"
    }
   ],
   "source": [
    "classifier(retrieved[0].page_content, df['qa'][i]['question'], client)"
   ]
  },
  {
   "cell_type": "code",
   "execution_count": 16,
   "metadata": {},
   "outputs": [
    {
     "data": {
      "text/plain": [
       "[Document(metadata={'page': 30}, page_content='management 2019s discussion and analysis of financial condition and results of operations 2013 ( continued ) ( amounts in millions , except per share amounts ) corporate and other expenses increased slightly during 2013 by $ 3.5 to $ 140.8 compared to 2012 , primarily due to an increase in salaries and related expenses , mainly attributable to higher base salaries , benefits and temporary help , partially offset by lower severance expenses and a decrease in office and general expenses .\\nliquidity and capital resources cash flow overview the following tables summarize key financial data relating to our liquidity , capital resources and uses of capital. .\\n\\n| cash flow data | years ended december 31 , 2014 | years ended december 31 , 2013 | years ended december 31 , 2012 |\\n| net income adjusted to reconcile net income to net cashprovided by operating activities1 | $ 831.2 | $ 598.4 | $ 697.2 |\\n| net cash used in working capital b2 | -131.1 ( 131.1 ) | -9.6 ( 9.6 ) | -293.2 ( 293.2 ) |\\n| changes in other non-current assets and liabilities using cash | -30.6 ( 30.6 ) | 4.1 | -46.8 ( 46.8 ) |\\n| net cash provided by operating activities | $ 669.5 | $ 592.9 | $ 357.2 |\\n| net cash used in investing activities | -200.8 ( 200.8 ) | -224.5 ( 224.5 ) | -210.2 ( 210.2 ) |\\n| net cash ( used in ) provided by financing activities | -343.9 ( 343.9 ) | -1212.3 ( 1212.3 ) | 131.3 |\\n\\n1 reflects net income adjusted primarily for depreciation and amortization of fixed assets and intangible assets , amortization of restricted stock and other non-cash compensation , non-cash ( gain ) loss related to early extinguishment of debt , and deferred income taxes .\\n2 reflects changes in accounts receivable , expenditures billable to clients , other current assets , accounts payable and accrued liabilities .\\noperating activities net cash provided by operating activities during 2014 was $ 669.5 , which was an improvement of $ 76.6 as compared to 2013 , primarily as a result of an increase in net income , offset by an increase in working capital usage of $ 121.5 .\\ndue to the seasonality of our business , we typically generate cash from working capital in the second half of a year and use cash from working capital in the first half of a year , with the largest impacts in the first and fourth quarters .\\nour net working capital usage in 2014 was impacted by our media businesses .\\nnet cash provided by operating activities during 2013 was $ 592.9 , which was an increase of $ 235.7 as compared to 2012 , primarily as a result of an improvement in working capital usage of $ 283.6 , offset by a decrease in net income .\\nthe improvement in working capital in 2013 was impacted by our media businesses and an ongoing focus on working capital management at our agencies .\\nthe timing of media buying on behalf of our clients affects our working capital and operating cash flow .\\nin most of our businesses , our agencies enter into commitments to pay production and media costs on behalf of clients .\\nto the extent possible we pay production and media charges after we have received funds from our clients .\\nthe amounts involved substantially exceed our revenues and primarily affect the level of accounts receivable , expenditures billable to clients , accounts payable and accrued liabilities .\\nour assets include both cash received and accounts receivable from clients for these pass-through arrangements , while our liabilities include amounts owed on behalf of clients to media and production suppliers .\\nour accrued liabilities are also affected by the timing of certain other payments .\\nfor example , while annual cash incentive awards are accrued throughout the year , they are generally paid during the first quarter of the subsequent year .\\ninvesting activities net cash used in investing activities during 2014 primarily related to payments for capital expenditures and acquisitions .\\ncapital expenditures of $ 148.7 related primarily to computer hardware and software and leasehold improvements .\\nwe made payments of $ 67.8 related to acquisitions completed during 2014 , net of cash acquired. .'),\n",
       " Document(metadata={'page': 41}, page_content='table of contents interest expense , net of capitalized interest increased $ 64 million , or 9.8% ( 9.8 % ) , to $ 710 million in 2013 from $ 646 million in 2012 primarily due to special charges of $ 92 million to recognize post-petition interest expense on unsecured obligations pursuant to the plan and penalty interest related to 10.5% ( 10.5 % ) secured notes and 7.50% ( 7.50 % ) senior secured notes .\\nother nonoperating expense , net of $ 84 million in 2013 consists principally of net foreign currency losses of $ 55 million and early debt extinguishment charges of $ 48 million .\\nother nonoperating income in 2012 consisted principally of a $ 280 million special credit related to the settlement of a commercial dispute partially offset by net foreign currency losses .\\nreorganization items , net reorganization items refer to revenues , expenses ( including professional fees ) , realized gains and losses and provisions for losses that are realized or incurred as a direct result of the chapter 11 cases .\\nthe following table summarizes the components included in reorganization items , net on american 2019s consolidated statements of operations for the years ended december 31 , 2013 and 2012 ( in millions ) : .\\n\\n|  | 2013 | 2012 |\\n| pension and postretirement benefits | $ 2014 | $ -66 ( 66 ) |\\n| labor-related deemed claim ( 1 ) | 1733 | 2014 |\\n| aircraft and facility financing renegotiations and rejections ( 2 ) ( 3 ) | 320 | 1951 |\\n| fair value of conversion discount ( 4 ) | 218 | 2014 |\\n| professional fees | 199 | 227 |\\n| other | 170 | 67 |\\n| total reorganization items net | $ 2640 | $ 2179 |\\n\\n( 1 ) in exchange for employees 2019 contributions to the successful reorganization , including agreeing to reductions in pay and benefits , american agreed in the plan to provide each employee group a deemed claim , which was used to provide a distribution of a portion of the equity of the reorganized entity to those employees .\\neach employee group received a deemed claim amount based upon a portion of the value of cost savings provided by that group through reductions to pay and benefits as well as through certain work rule changes .\\nthe total value of this deemed claim was approximately $ 1.7 billion .\\n( 2 ) amounts include allowed claims ( claims approved by the bankruptcy court ) and estimated allowed claims relating to ( i ) the rejection or modification of financings related to aircraft and ( ii ) entry of orders treated as unsecured claims with respect to facility agreements supporting certain issuances of special facility revenue bonds .\\nthe debtors recorded an estimated claim associated with the rejection or modification of a financing or facility agreement when the applicable motion was filed with the bankruptcy court to reject or modify such financing or facility agreement and the debtors believed that it was probable the motion would be approved , and there was sufficient information to estimate the claim .\\nsee note 2 to american 2019s consolidated financial statements in part ii , item 8b for further information .\\n( 3 ) pursuant to the plan , the debtors agreed to allow certain post-petition unsecured claims on obligations .\\nas a result , during the year ended december 31 , 2013 , american recorded reorganization charges to adjust estimated allowed claim amounts previously recorded on rejected special facility revenue bonds of $ 180 million , allowed general unsecured claims related to the 1990 and 1994 series of special facility revenue bonds that financed certain improvements at jfk , and rejected bonds that financed certain improvements at ord , which are included in the table above .\\n( 4 ) the plan allowed unsecured creditors receiving aag series a preferred stock a conversion discount of 3.5% ( 3.5 % ) .\\naccordingly , american recorded the fair value of such discount upon the confirmation of the plan by the bankruptcy court. .'),\n",
       " Document(metadata={'page': 29}, page_content='cash flows from operations .\\n\\n| in millions | fiscal year 2018 | fiscal year 2017 | fiscal year 2016 |\\n| net earnings including earnings attributable to redeemable and noncontrollinginterests | $ 2163.0 | $ 1701.1 | $ 1736.8 |\\n| depreciation and amortization | 618.8 | 603.6 | 608.1 |\\n| after-taxearnings from joint ventures | -84.7 ( 84.7 ) | -85.0 ( 85.0 ) | -88.4 ( 88.4 ) |\\n| distributions of earnings from joint ventures | 113.2 | 75.6 | 75.1 |\\n| stock-based compensation | 77.0 | 95.7 | 89.8 |\\n| deferred income taxes | -504.3 ( 504.3 ) | 183.9 | 120.6 |\\n| pension and other postretirement benefit plan contributions | -31.8 ( 31.8 ) | -45.4 ( 45.4 ) | -47.8 ( 47.8 ) |\\n| pension and other postretirement benefit plan costs | 4.6 | 35.7 | 118.1 |\\n| divestitures loss ( gain ) | - | 13.5 | -148.2 ( 148.2 ) |\\n| restructuring impairment and other exit costs | 126.0 | 117.0 | 107.2 |\\n| changes in current assets and liabilities excluding the effects of acquisitions anddivestitures | 542.1 | -194.2 ( 194.2 ) | 298.5 |\\n| other net | -182.9 ( 182.9 ) | -86.3 ( 86.3 ) | -105.6 ( 105.6 ) |\\n| net cash provided by operating activities | $ 2841.0 | $ 2415.2 | $ 2764.2 |\\n\\nin fiscal 2018 , cash provided by operations was $ 2.8 billion compared to $ 2.4 billion in fiscal 2017 .\\nthe $ 426 million increase was primarily driven by the $ 462 million increase in net earnings and the $ 736 million change in current assets and liabilities , partially offset by a $ 688 million change in deferred income taxes .\\nthe change in deferred income taxes was primarily related to the $ 638 million provisional benefit from revaluing our net u.s .\\ndeferred tax liabilities to reflect the new u.s .\\ncorporate tax rate as a result of the tcja .\\nthe $ 736 million change in current assets and liabilities was primarily due to changes in accounts payable of $ 476 million related to the extension of payment terms and timing of payments , and $ 264 million of changes in other current liabilities primarily driven by changes in income taxes payable , trade and advertising accruals , and incentive accruals .\\nwe strive to grow core working capital at or below the rate of growth in our net sales .\\nfor fiscal 2018 , core working capital decreased 27 percent , compared to a net sales increase of 1 percent .\\nin fiscal 2017 , core working capital increased 9 percent , compared to a net sales decline of 6 percent , and in fiscal 2016 , core working capital decreased 41 percent , compared to net sales decline of 6 percent .\\nin fiscal 2017 , our operations generated $ 2.4 billion of cash , compared to $ 2.8 billion in fiscal 2016 .\\nthe $ 349 million decrease was primarily driven by a $ 493 million change in current assets and liabilities .\\nthe $ 493 million change in current assets and liabilities was primarily due to changes in other current liabilities driven by changes in income taxes payable , a decrease in incentive accruals , and changes in trade and advertising accruals due to reduced spending .\\nthe change in current assets and liabilities was also impacted by the timing of accounts payable .\\nadditionally , we recorded a $ 14 million loss on a divestiture during fiscal 2017 , compared to a $ 148 million net gain on divestitures during fiscal 2016 , and classified the related cash flows as investing activities. .'),\n",
       " Document(metadata={'page': 23}, page_content=\".\\n\\n| contractual obligations | payments due by period ( in thousands ) total | payments due by period ( in thousands ) 2017 | payments due by period ( in thousands ) 2018 | payments due by period ( in thousands ) 2019 | payments due by period ( in thousands ) 2020 | payments due by period ( in thousands ) 2021 | payments due by period ( in thousands ) thereafter |\\n| long-term debt ( 1 ) | $ 3508789 | $ 203244 | $ 409257 | $ 366456 | $ 461309 | $ 329339 | $ 1739184 |\\n| line of credit ( 2 ) | 56127 | 2650 | 2650 | 2650 | 48177 | 2014 | 2014 |\\n| share of unconsolidated joint ventures' debt ( 3 ) | 91235 | 2444 | 28466 | 5737 | 11598 | 1236 | 41754 |\\n| ground leases | 311120 | 10745 | 5721 | 5758 | 5793 | 5822 | 277281 |\\n| development and construction backlog costs ( 4 ) | 344700 | 331553 | 13147 | 2014 | 2014 | 2014 | 2014 |\\n| other | 43357 | 7502 | 7342 | 5801 | 4326 | 3906 | 14480 |\\n| total contractual obligations | $ 4355328 | $ 558138 | $ 466583 | $ 386402 | $ 531203 | $ 340303 | $ 2072699 |\\n\\n( 1 ) our long-term debt consists of both secured and unsecured debt and includes both principal and interest .\\ninterest payments for variable rate debt were calculated using the interest rates as of december 31 , 2016 .\\nrepayment of our $ 250.0 million variable rate term note , which has a contractual maturity date in january 2019 , is reflected as a 2020 obligation in the table above based on the ability to exercise a one-year extension , which we may exercise at our discretion .\\n( 2 ) our unsecured line of credit has a contractual maturity date in january 2019 , but is reflected as a 2020 obligation in the table above based on the ability to exercise a one-year extension , which we may exercise at our discretion .\\ninterest payments for our unsecured line of credit were calculated using the most recent stated interest rate that was in effect.ff ( 3 ) our share of unconsolidated joint venture debt includes both principal and interest .\\ninterest expense for variable rate debt was calculated using the interest rate at december 31 , 2016 .\\n( 4 ) represents estimated remaining costs on the completion of owned development projects and third-party construction projects .\\nrelated party y transactionstt we provide property and asset management , leasing , construction and other tenant-related services to ww unconsolidated companies in which we have equity interests .\\nfor the years ended december 31 , 2016 , 2015 and 2014 we earned management fees of $ 4.5 million , $ 6.8 million and $ 8.5 million , leasing fees of $ 2.4 million , $ 3.0 million and $ 3.4 million and construction and development fees of $ 8.0 million , $ 6.1 million and $ 5.8 million , respectively , from these companies , prior to elimination of our ownership percentage .\\nyy we recorded these fees based ww on contractual terms that approximate market rates for these types of services and have eliminated our ownership percentages of these fees in the consolidated financial statements .\\ncommitments and contingenciesg the partnership has guaranteed the repayment of $ 32.9 million of economic development bonds issued by various municipalities in connection with certain commercial developments .\\nwe will be required to make payments under ww our guarantees to the extent that incremental taxes from specified developments are not sufficient to pay the bond ff debt service .\\nmanagement does not believe that it is probable that we will be required to make any significant payments in satisfaction of these guarantees .\\nthe partnership also has guaranteed the repayment of an unsecured loan of one of our unconsolidated subsidiaries .\\nat december 31 , 2016 , the maximum guarantee exposure for this loan was approximately $ 52.1 million .\\nwe lease certain land positions with terms extending toww march 2114 , with a total future payment obligation of $ 311.1 million .\\nthe payments on these ground leases , which are classified as operating leases , are not material in any individual year .\\nin addition to ground leases , we are party to other operating leases as part of conducting our business , including leases of office space from third parties , with a total future payment obligation of ff $ 43.4 million at december 31 , 2016 .\\nno future payments on these leases are material in any individual year .\\nwe are subject to various legal proceedings and claims that arise in the ordinary course of business .\\nin the opinion ww of management , the amount of any ultimate liability with respect to these actions is not expected to materially affect ff our consolidated financial statements or results of operations .\\nwe own certain parcels of land that are subject to special property tax assessments levied by quasi municipalww entities .\\nto the extent that such special assessments are fixed and determinable , the discounted value of the fulltt .\"),\n",
       " Document(metadata={'page': 39}, page_content='( 2 ) for purposes of calculating the ratio of earnings to fixed charges , earnings consist of earnings before income taxes minus income from equity investees plus fixed charges .\\nfixed charges consist of interest expense and the portion of rental expense we believe is representative of the interest component of rental expense .\\n( a ) for the years ended december 31 , 2010 and 2009 , earnings available for fixed charges were inadequate to cover fixed charges by $ 37.0 million and $ 461.2 million , respectively .\\n( 3 ) ebitda is defined as consolidated net income ( loss ) before interest expense , income tax expense ( benefit ) , depreciation , and amortization .\\nadjusted ebitda , which is a measure defined in our credit agreements , is calculated by adjusting ebitda for certain items of income and expense including ( but not limited to ) the following : ( a ) non-cash equity-based compensation ; ( b ) goodwill impairment charges ; ( c ) sponsor fees ; ( d ) certain consulting fees ; ( e ) debt-related legal and accounting costs ; ( f ) equity investment income and losses ; ( g ) certain severance and retention costs ; ( h ) gains and losses from the early extinguishment of debt ; ( i ) gains and losses from asset dispositions outside the ordinary course of business ; and ( j ) non-recurring , extraordinary or unusual gains or losses or expenses .\\nwe have included a reconciliation of ebitda and adjusted ebitda in the table below .\\nboth ebitda and adjusted ebitda are considered non-gaap financial measures .\\ngenerally , a non-gaap financial measure is a numerical measure of a company 2019s performance , financial position or cash flows that either excludes or includes amounts that are not normally included or excluded in the most directly comparable measure calculated and presented in accordance with gaap .\\nnon-gaap measures used by the company may differ from similar measures used by other companies , even when similar terms are used to identify such measures .\\nwe believe that ebitda and adjusted ebitda provide helpful information with respect to our operating performance and cash flows including our ability to meet our future debt service , capital expenditures and working capital requirements .\\nadjusted ebitda also provides helpful information as it is the primary measure used in certain financial covenants contained in our credit agreements .\\nthe following unaudited table sets forth reconciliations of net income ( loss ) to ebitda and ebitda to adjusted ebitda for the periods presented: .\\n\\n| ( in millions ) | years ended december 31 , 2013 | years ended december 31 , 2012 | years ended december 31 , 2011 | years ended december 31 , 2010 | years ended december 31 , 2009 |\\n| net income ( loss ) | $ 132.8 | $ 119.0 | $ 17.1 | $ -29.2 ( 29.2 ) | $ -373.4 ( 373.4 ) |\\n| depreciation and amortization | 208.2 | 210.2 | 204.9 | 209.4 | 218.2 |\\n| income tax expense ( benefit ) | 62.7 | 67.1 | 11.2 | -7.8 ( 7.8 ) | -87.8 ( 87.8 ) |\\n| interest expense net | 250.1 | 307.4 | 324.2 | 391.9 | 431.7 |\\n| ebitda | 653.8 | 703.7 | 557.4 | 564.3 | 188.7 |\\n| non-cash equity-based compensation | 8.6 | 22.1 | 19.5 | 11.5 | 15.9 |\\n| sponsor fees | 2.5 | 5.0 | 5.0 | 5.0 | 5.0 |\\n| consulting and debt-related professional fees | 0.1 | 0.6 | 5.1 | 15.1 | 14.1 |\\n| goodwill impairment | 2014 | 2014 | 2014 | 2014 | 241.8 |\\n| net loss ( gain ) on extinguishments of long-term debt | 64.0 | 17.2 | 118.9 | -2.0 ( 2.0 ) | 2014 |\\n| litigation net ( i ) | -4.1 ( 4.1 ) | 4.3 | 2014 | 2014 | 2014 |\\n| ipo- and secondary-offering related expenses | 75.0 | 2014 | 2014 | 2014 | 2014 |\\n| other adjustments ( ii ) | 8.6 | 13.7 | 11.4 | 7.9 | -0.1 ( 0.1 ) |\\n| adjusted ebitda | $ 808.5 | $ 766.6 | $ 717.3 | $ 601.8 | $ 465.4 |\\n\\n( i ) relates to unusual , non-recurring litigation matters .\\n( ii ) includes certain retention costs and equity investment income , certain severance costs in 2009 and a gain related to the sale of the informacast software and equipment in 2009. .'),\n",
       " Document(metadata={'page': 2}, page_content='item 6 .\\nselected financial data the following table represents our selected financial data .\\nthe table should be read in conjunction with item 7 and item 8 of this report .\\nthe table below reflects immaterial error corrections discussed in note 2 : summary of significant accounting policies in item 8. .\\n\\n| ( $ in millions except per share amounts ) | year ended december 31 2012 | year ended december 31 2011 | year ended december 31 2010 | year ended december 31 2009 | year ended december 31 2008 |\\n| sales and service revenues | $ 6708 | $ 6575 | $ 6723 | $ 6292 | $ 6189 |\\n| goodwill impairment | 2014 | 290 | 2014 | 2014 | 2465 |\\n| operating income ( loss ) | 358 | 100 | 241 | 203 | -2332 ( 2332 ) |\\n| net earnings ( loss ) | 146 | -100 ( 100 ) | 131 | 119 | -2397 ( 2397 ) |\\n| total assets | 6392 | 6069 | 5270 | 5097 | 4821 |\\n| long-term debt ( 1 ) | 1779 | 1830 | 105 | 283 | 283 |\\n| total long-term obligations | 4341 | 3838 | 1637 | 1708 | 1823 |\\n| free cash flow ( 2 ) | 170 | 331 | 168 | -269 ( 269 ) | 121 |\\n| dividends declared per share | $ 0.10 | $ 2014 | $ 2014 | $ 2014 | $ 2014 |\\n| basic earnings ( loss ) per share ( 3 ) | $ 2.96 | $ -2.05 ( 2.05 ) | $ 2.68 | $ 2.44 | $ -49.14 ( 49.14 ) |\\n| diluted earnings ( loss ) per share ( 3 ) | $ 2.91 | $ -2.05 ( 2.05 ) | $ 2.68 | $ 2.44 | $ -49.14 ( 49.14 ) |\\n\\nbasic earnings ( loss ) per share ( 3 ) $ 2.96 $ ( 2.05 ) $ 2.68 $ 2.44 $ ( 49.14 ) diluted earnings ( loss ) per share ( 3 ) $ 2.91 $ ( 2.05 ) $ 2.68 $ 2.44 $ ( 49.14 ) ( 1 ) long-term debt does not include amounts payable to our former parent as of and before december 31 , 2010 , as these amounts were due upon demand and included in current liabilities .\\n( 2 ) free cash flow is a non-gaap financial measure and represents cash from operating activities less capital expenditures .\\nsee liquidity and capital resources in item 7 for more information on this measure .\\n( 3 ) on march 30 , 2011 , the record date of the stock distribution associated with the spin-off from northrop grumman , approximately 48.8 million shares of $ 0.01 par value hii common stock were distributed to northrop grumman stockholders .\\nthis share amount was utilized for the calculation of basic and diluted earnings ( loss ) per share for the three months ended march 31 , 2011 , and all prior periods , as no common stock of the company existed prior to march 30 , 2011 , and the impact of dilutive securities in the three month period ended march 31 , 2011 , was not meaningful. .'),\n",
       " Document(metadata={'page': 79}, page_content='operating expenses millions 2010 2009 2008 % (  % ) change 2010 v 2009 % (  % ) change 2009 v 2008 .\\n\\n| millions | 2010 | 2009 | 2008 | % (  % ) change 2010 v 2009 | % (  % ) change2009 v 2008 |\\n| compensation and benefits | $ 4314 | $ 4063 | $ 4457 | 6% ( 6 % ) | ( 9 ) % (  % ) |\\n| fuel | 2486 | 1763 | 3983 | 41 | -56 ( 56 ) |\\n| purchased services and materials | 1836 | 1644 | 1928 | 12 | -15 ( 15 ) |\\n| depreciation | 1487 | 1427 | 1366 | 4 | 4 |\\n| equipment and other rents | 1142 | 1180 | 1326 | -3 ( 3 ) | -11 ( 11 ) |\\n| other | 719 | 687 | 840 | 5 | -18 ( 18 ) |\\n| total | $ 11984 | $ 10764 | $ 13900 | 11% ( 11 % ) | ( 23 ) % (  % ) |\\n\\noperating expenses increased $ 1.2 billion in 2010 versus 2009 .\\nour fuel price per gallon increased 31% ( 31 % ) during the year , accounting for $ 566 million of the increase .\\nwage and benefit inflation , depreciation , volume-related costs , and property taxes also contributed to higher expenses during 2010 compared to 2009 .\\ncost savings from productivity improvements and better resource utilization partially offset these increases .\\noperating expenses decreased $ 3.1 billion in 2009 versus 2008 .\\nour fuel price per gallon declined 44% ( 44 % ) during 2009 , decreasing operating expenses by $ 1.3 billion compared to 2008 .\\ncost savings from lower volume , productivity improvements , and better resource utilization also decreased operating expenses in 2009 .\\nin addition , lower casualty expense resulting primarily from improving trends in safety performance decreased operating expenses in 2009 .\\nconversely , wage and benefit inflation partially offset these reductions .\\ncompensation and benefits 2013 compensation and benefits include wages , payroll taxes , health and welfare costs , pension costs , other postretirement benefits , and incentive costs .\\ngeneral wage and benefit inflation increased costs by approximately $ 190 million in 2010 compared to 2009 .\\nvolume- related expenses and higher equity and incentive compensation also drove costs up during the year .\\nworkforce levels declined 1% ( 1 % ) in 2010 compared to 2009 as network efficiencies and ongoing productivity initiatives enabled us to effectively handle the 13% ( 13 % ) increase in volume levels with fewer employees .\\nlower volume and productivity initiatives led to a 10% ( 10 % ) decline in our workforce in 2009 compared to 2008 , saving $ 516 million during the year .\\nconversely , general wage and benefit inflation increased expenses , partially offsetting these savings .\\nfuel 2013 fuel includes locomotive fuel and gasoline for highway and non-highway vehicles and heavy equipment .\\nhigher diesel fuel prices , which averaged $ 2.29 per gallon ( including taxes and transportation costs ) in 2010 compared to $ 1.75 per gallon in 2009 , increased expenses by $ 566 million .\\nvolume , as measured by gross ton-miles , increased 10% ( 10 % ) in 2010 versus 2009 , driving fuel expense up by $ 166 million .\\nconversely , the use of newer , more fuel efficient locomotives , our fuel conservation programs and efficient network operations drove a 3% ( 3 % ) improvement in our fuel consumption rate in 2010 , resulting in $ 40 million of cost savings versus 2009 at the 2009 average fuel price .\\nlower diesel fuel prices , which averaged $ 1.75 per gallon ( including taxes and transportation costs ) in 2009 compared to $ 3.15 per gallon in 2008 , reduced expenses by $ 1.3 billion in 2009 .\\nvolume , as measured by gross ton-miles , decreased 17% ( 17 % ) in 2009 , lowering expenses by $ 664 million compared to 2008 .\\nour fuel consumption rate improved 4% ( 4 % ) in 2009 , resulting in $ 147 million of cost savings versus 2008 at the 2008 average fuel price .\\nthe consumption rate savings versus 2008 using the lower 2009 fuel price was $ 68 million .\\nnewer , more fuel efficient locomotives , reflecting locomotive acquisitions in recent years and the impact of a smaller fleet due to storage of some of our older locomotives ; increased use of 2010 operating expenses .'),\n",
       " Document(metadata={'page': 20}, page_content='management 2019s discussion and analysis of financial condition and results of operations 2013 ( continued ) ( amounts in millions , except per share amounts ) net cash used in investing activities during 2012 primarily related to payments for capital expenditures and acquisitions , partially offset by the net proceeds of $ 94.8 received from the sale of our remaining holdings in facebook .\\ncapital expenditures of $ 169.2 primarily related to computer hardware and software , and leasehold improvements .\\ncapital expenditures increased in 2012 compared to the prior year , primarily due to an increase in leasehold improvements made during the year .\\npayments for acquisitions of $ 145.5 primarily related to payments for new acquisitions .\\nfinancing activities net cash used in financing activities during 2013 primarily related to the purchase of long-term debt , the repurchase of our common stock , and payment of dividends .\\nwe redeemed all $ 600.0 in aggregate principal amount of our 10.00% ( 10.00 % ) notes .\\nin addition , we repurchased 31.8 shares of our common stock for an aggregate cost of $ 481.8 , including fees , and made dividend payments of $ 126.0 on our common stock .\\nnet cash provided by financing activities during 2012 primarily reflected net proceeds from our debt transactions .\\nwe issued $ 300.0 in aggregate principal amount of 2.25% ( 2.25 % ) senior notes due 2017 ( the 201c2.25% ( 201c2.25 % ) notes 201d ) , $ 500.0 in aggregate principal amount of 3.75% ( 3.75 % ) senior notes due 2023 ( the 201c3.75% ( 201c3.75 % ) notes 201d ) and $ 250.0 in aggregate principal amount of 4.00% ( 4.00 % ) senior notes due 2022 ( the 201c4.00% ( 201c4.00 % ) notes 201d ) .\\nthe proceeds from the issuance of the 4.00% ( 4.00 % ) notes were applied towards the repurchase and redemption of $ 399.6 in aggregate principal amount of our 4.25% ( 4.25 % ) notes .\\noffsetting the net proceeds from our debt transactions was the repurchase of 32.7 shares of our common stock for an aggregate cost of $ 350.5 , including fees , and dividend payments of $ 103.4 on our common stock .\\nforeign exchange rate changes the effect of foreign exchange rate changes on cash and cash equivalents included in the consolidated statements of cash flows resulted in a decrease of $ 94.1 in 2013 .\\nthe decrease was primarily a result of the u.s .\\ndollar being stronger than several foreign currencies , including the australian dollar , brazilian real , japanese yen , canadian dollar and south african rand as of december 31 , 2013 compared to december 31 , 2012 .\\nthe effect of foreign exchange rate changes on cash and cash equivalents included in the consolidated statements of cash flows resulted in a decrease of $ 6.2 in 2012 .\\nthe decrease was a result of the u.s .\\ndollar being stronger than several foreign currencies , including the brazilian real and south african rand , offset by the u.s .\\ndollar being weaker than other foreign currencies , including the australian dollar , british pound and the euro , as of as of december 31 , 2012 compared to december 31 , 2011. .\\n\\n| balance sheet data | december 31 , 2013 | december 31 , 2012 |\\n| cash cash equivalents and marketable securities | $ 1642.1 | $ 2590.8 |\\n| short-term borrowings | $ 179.1 | $ 172.1 |\\n| current portion of long-term debt | 353.6 | 216.6 |\\n| long-term debt | 1129.8 | 2060.8 |\\n| total debt | $ 1662.5 | $ 2449.5 |\\n\\nliquidity outlook we expect our cash flow from operations , cash and cash equivalents to be sufficient to meet our anticipated operating requirements at a minimum for the next twelve months .\\nwe also have a committed corporate credit facility as well as uncommitted facilities available to support our operating needs .\\nwe continue to maintain a disciplined approach to managing liquidity , with flexibility over significant uses of cash , including our capital expenditures , cash used for new acquisitions , our common stock repurchase program and our common stock dividends. .'),\n",
       " Document(metadata={'page': 86}, page_content='table of contents ( e ) other adjustments primarily include certain historical retention costs , unusual , non-recurring litigation matters , secondary-offering-related expenses and expenses related to the consolidation of office locations north of chicago .\\nduring the year ended december 31 , 2013 , we recorded ipo- and secondary-offering related expenses of $ 75.0 million .\\nfor additional information on the ipo- and secondary-offering related expenses , see note 10 ( stockholder 2019s equity ) to the accompanying consolidated financial statements .\\n( f ) includes the impact of consolidating five months for the year ended december 31 , 2015 of kelway 2019s financial results .\\n( 4 ) non-gaap net income excludes , among other things , charges related to the amortization of acquisition-related intangible assets , non-cash equity-based compensation , acquisition and integration expenses , and gains and losses from the extinguishment of long-term debt .\\nnon-gaap net income is considered a non-gaap financial measure .\\ngenerally , a non-gaap financial measure is a numerical measure of a company 2019s performance , financial position or cash flows that either excludes or includes amounts that are not normally included or excluded in the most directly comparable measure calculated and presented in accordance with gaap .\\nnon-gaap measures used by us may differ from similar measures used by other companies , even when similar terms are used to identify such measures .\\nwe believe that non-gaap net income provides meaningful information regarding our operating performance and cash flows including our ability to meet our future debt service , capital expenditures and working capital requirements .\\nthe following unaudited table sets forth a reconciliation of net income to non-gaap net income for the periods presented: .\\n\\n| ( in millions ) | years ended december 31 , 2015 | years ended december 31 , 2014 | years ended december 31 , 2013 | years ended december 31 , 2012 | years ended december 31 , 2011 |\\n| net income | $ 403.1 | $ 244.9 | $ 132.8 | $ 119.0 | $ 17.1 |\\n| amortization of intangibles ( a ) | 173.9 | 161.2 | 161.2 | 163.7 | 165.7 |\\n| non-cash equity-based compensation | 31.2 | 16.4 | 8.6 | 22.1 | 19.5 |\\n| non-cash equity-based compensation related to equity investment ( b ) | 20.0 | 2014 | 2014 | 2014 | 2014 |\\n| net loss on extinguishments of long-term debt | 24.3 | 90.7 | 64.0 | 17.2 | 118.9 |\\n| acquisition and integration expenses ( c ) | 10.2 | 2014 | 2014 | 2014 | 2014 |\\n| gain on remeasurement of equity investment ( d ) | -98.1 ( 98.1 ) | 2014 | 2014 | 2014 | 2014 |\\n| other adjustments ( e ) | 3.7 | -0.3 ( 0.3 ) | 61.2 | -3.3 ( 3.3 ) | -15.6 ( 15.6 ) |\\n| aggregate adjustment for income taxes ( f ) | -64.8 ( 64.8 ) | -103.0 ( 103.0 ) | -113.5 ( 113.5 ) | -71.6 ( 71.6 ) | -106.8 ( 106.8 ) |\\n| non-gaap net income ( g ) | $ 503.5 | $ 409.9 | $ 314.3 | $ 247.1 | $ 198.8 |\\n\\nacquisition and integration expenses ( c ) 10.2 2014 2014 2014 2014 gain on remeasurement of equity investment ( d ) ( 98.1 ) 2014 2014 2014 2014 other adjustments ( e ) 3.7 ( 0.3 ) 61.2 ( 3.3 ) ( 15.6 ) aggregate adjustment for income taxes ( f ) ( 64.8 ) ( 103.0 ) ( 113.5 ) ( 71.6 ) ( 106.8 ) non-gaap net income ( g ) $ 503.5 $ 409.9 $ 314.3 $ 247.1 $ 198.8 ( a ) includes amortization expense for acquisition-related intangible assets , primarily customer relationships , customer contracts and trade names .\\n( b ) represents our 35% ( 35 % ) share of an expense related to certain equity awards granted by one of the sellers to kelway coworkers in july 2015 prior to our acquisition of kelway .\\n( c ) primarily includes expenses related to the acquisition of kelway .\\n( d ) represents the gain resulting from the remeasurement of our previously held 35% ( 35 % ) equity investment to fair value upon the completion of the acquisition of kelway .\\n( e ) primarily includes expenses related to the consolidation of office locations north of chicago and secondary- offering-related expenses .\\namount in 2013 primarily relates to ipo- and secondary-offering related expenses .\\n( f ) based on a normalized effective tax rate of 38.0% ( 38.0 % ) ( 39.0% ( 39.0 % ) prior to the kelway acquisition ) , except for the non- cash equity-based compensation from our equity investment and the gain resulting from the remeasurement of our previously held 35% ( 35 % ) equity investment to fair value upon the completion of the acquisition of kelway , which were tax effected at a rate of 35.4% ( 35.4 % ) .\\nthe aggregate adjustment for income taxes also includes a $ 4.0 million deferred tax benefit recorded during the three months and year ended december 31 , 2015 as a result of a tax rate reduction in the united kingdom and additional tax expense during the year ended december 31 , 2015 of $ 3.3 million as a result of recording withholding tax on the unremitted earnings of our canadian subsidiary .\\nadditionally , note that certain acquisition costs are non-deductible. .'),\n",
       " Document(metadata={'page': 85}, page_content='supplementary information on oil and gas producing activities ( unaudited ) c o n t i n u e d summary of changes in standardized measure of discounted future net cash flows relating to proved oil and gas reserves ( in millions ) 2006 2005 2004 sales and transfers of oil and gas produced , net of production , transportation and administrative costs $ ( 5312 ) $ ( 3754 ) $ ( 2689 ) net changes in prices and production , transportation and administrative costs related to future production ( 1342 ) 6648 771 .\\n\\n| ( in millions ) | 2006 | 2005 | 2004 |\\n| sales and transfers of oil and gas produced net of production transportation and administrative costs | $ -5312 ( 5312 ) | $ -3754 ( 3754 ) | $ -2689 ( 2689 ) |\\n| net changes in prices and production transportation and administrative costs related to future production | -1342 ( 1342 ) | 6648 | 771 |\\n| extensions discoveries and improved recovery less related costs | 1290 | 700 | 1349 |\\n| development costs incurred during the period | 1251 | 1030 | 609 |\\n| changes in estimated future development costs | -527 ( 527 ) | -552 ( 552 ) | -628 ( 628 ) |\\n| revisions of previous quantity estimates | 1319 | 820 | 948 |\\n| net changes in purchases and sales of minerals in place | 30 | 4557 | 33 |\\n| accretion of discount | 1882 | 1124 | 757 |\\n| net change in income taxes | -660 ( 660 ) | -6694 ( 6694 ) | -627 ( 627 ) |\\n| timing and other | -14 ( 14 ) | 307 | 97 |\\n| net change for the year | -2083 ( 2083 ) | 4186 | 620 |\\n| beginning of year | 10601 | 6415 | 5795 |\\n| end of year | $ 8518 | $ 10601 | $ 6415 |\\n| net change for the year from discontinued operations | $ -216 ( 216 ) | $ 162 | $ -152 ( 152 ) |\\n\\n.')]"
      ]
     },
     "execution_count": 16,
     "metadata": {},
     "output_type": "execute_result"
    }
   ],
   "source": [
    "retrieved"
   ]
  },
  {
   "cell_type": "code",
   "execution_count": 17,
   "metadata": {},
   "outputs": [],
   "source": [
    "duplicates = []\n",
    "retrieved_unique = []\n",
    "for doc in retrieved:\n",
    "    if doc.metadata['page'] not in duplicates:\n",
    "        duplicates.append(doc.metadata['page'])\n",
    "        retrieved_unique.append(doc)"
   ]
  },
  {
   "cell_type": "code",
   "execution_count": 18,
   "metadata": {},
   "outputs": [
    {
     "data": {
      "text/plain": [
       "[Document(metadata={'page': 30}, page_content='management 2019s discussion and analysis of financial condition and results of operations 2013 ( continued ) ( amounts in millions , except per share amounts ) corporate and other expenses increased slightly during 2013 by $ 3.5 to $ 140.8 compared to 2012 , primarily due to an increase in salaries and related expenses , mainly attributable to higher base salaries , benefits and temporary help , partially offset by lower severance expenses and a decrease in office and general expenses .\\nliquidity and capital resources cash flow overview the following tables summarize key financial data relating to our liquidity , capital resources and uses of capital. .\\n\\n| cash flow data | years ended december 31 , 2014 | years ended december 31 , 2013 | years ended december 31 , 2012 |\\n| net income adjusted to reconcile net income to net cashprovided by operating activities1 | $ 831.2 | $ 598.4 | $ 697.2 |\\n| net cash used in working capital b2 | -131.1 ( 131.1 ) | -9.6 ( 9.6 ) | -293.2 ( 293.2 ) |\\n| changes in other non-current assets and liabilities using cash | -30.6 ( 30.6 ) | 4.1 | -46.8 ( 46.8 ) |\\n| net cash provided by operating activities | $ 669.5 | $ 592.9 | $ 357.2 |\\n| net cash used in investing activities | -200.8 ( 200.8 ) | -224.5 ( 224.5 ) | -210.2 ( 210.2 ) |\\n| net cash ( used in ) provided by financing activities | -343.9 ( 343.9 ) | -1212.3 ( 1212.3 ) | 131.3 |\\n\\n1 reflects net income adjusted primarily for depreciation and amortization of fixed assets and intangible assets , amortization of restricted stock and other non-cash compensation , non-cash ( gain ) loss related to early extinguishment of debt , and deferred income taxes .\\n2 reflects changes in accounts receivable , expenditures billable to clients , other current assets , accounts payable and accrued liabilities .\\noperating activities net cash provided by operating activities during 2014 was $ 669.5 , which was an improvement of $ 76.6 as compared to 2013 , primarily as a result of an increase in net income , offset by an increase in working capital usage of $ 121.5 .\\ndue to the seasonality of our business , we typically generate cash from working capital in the second half of a year and use cash from working capital in the first half of a year , with the largest impacts in the first and fourth quarters .\\nour net working capital usage in 2014 was impacted by our media businesses .\\nnet cash provided by operating activities during 2013 was $ 592.9 , which was an increase of $ 235.7 as compared to 2012 , primarily as a result of an improvement in working capital usage of $ 283.6 , offset by a decrease in net income .\\nthe improvement in working capital in 2013 was impacted by our media businesses and an ongoing focus on working capital management at our agencies .\\nthe timing of media buying on behalf of our clients affects our working capital and operating cash flow .\\nin most of our businesses , our agencies enter into commitments to pay production and media costs on behalf of clients .\\nto the extent possible we pay production and media charges after we have received funds from our clients .\\nthe amounts involved substantially exceed our revenues and primarily affect the level of accounts receivable , expenditures billable to clients , accounts payable and accrued liabilities .\\nour assets include both cash received and accounts receivable from clients for these pass-through arrangements , while our liabilities include amounts owed on behalf of clients to media and production suppliers .\\nour accrued liabilities are also affected by the timing of certain other payments .\\nfor example , while annual cash incentive awards are accrued throughout the year , they are generally paid during the first quarter of the subsequent year .\\ninvesting activities net cash used in investing activities during 2014 primarily related to payments for capital expenditures and acquisitions .\\ncapital expenditures of $ 148.7 related primarily to computer hardware and software and leasehold improvements .\\nwe made payments of $ 67.8 related to acquisitions completed during 2014 , net of cash acquired. .'),\n",
       " Document(metadata={'page': 41}, page_content='table of contents interest expense , net of capitalized interest increased $ 64 million , or 9.8% ( 9.8 % ) , to $ 710 million in 2013 from $ 646 million in 2012 primarily due to special charges of $ 92 million to recognize post-petition interest expense on unsecured obligations pursuant to the plan and penalty interest related to 10.5% ( 10.5 % ) secured notes and 7.50% ( 7.50 % ) senior secured notes .\\nother nonoperating expense , net of $ 84 million in 2013 consists principally of net foreign currency losses of $ 55 million and early debt extinguishment charges of $ 48 million .\\nother nonoperating income in 2012 consisted principally of a $ 280 million special credit related to the settlement of a commercial dispute partially offset by net foreign currency losses .\\nreorganization items , net reorganization items refer to revenues , expenses ( including professional fees ) , realized gains and losses and provisions for losses that are realized or incurred as a direct result of the chapter 11 cases .\\nthe following table summarizes the components included in reorganization items , net on american 2019s consolidated statements of operations for the years ended december 31 , 2013 and 2012 ( in millions ) : .\\n\\n|  | 2013 | 2012 |\\n| pension and postretirement benefits | $ 2014 | $ -66 ( 66 ) |\\n| labor-related deemed claim ( 1 ) | 1733 | 2014 |\\n| aircraft and facility financing renegotiations and rejections ( 2 ) ( 3 ) | 320 | 1951 |\\n| fair value of conversion discount ( 4 ) | 218 | 2014 |\\n| professional fees | 199 | 227 |\\n| other | 170 | 67 |\\n| total reorganization items net | $ 2640 | $ 2179 |\\n\\n( 1 ) in exchange for employees 2019 contributions to the successful reorganization , including agreeing to reductions in pay and benefits , american agreed in the plan to provide each employee group a deemed claim , which was used to provide a distribution of a portion of the equity of the reorganized entity to those employees .\\neach employee group received a deemed claim amount based upon a portion of the value of cost savings provided by that group through reductions to pay and benefits as well as through certain work rule changes .\\nthe total value of this deemed claim was approximately $ 1.7 billion .\\n( 2 ) amounts include allowed claims ( claims approved by the bankruptcy court ) and estimated allowed claims relating to ( i ) the rejection or modification of financings related to aircraft and ( ii ) entry of orders treated as unsecured claims with respect to facility agreements supporting certain issuances of special facility revenue bonds .\\nthe debtors recorded an estimated claim associated with the rejection or modification of a financing or facility agreement when the applicable motion was filed with the bankruptcy court to reject or modify such financing or facility agreement and the debtors believed that it was probable the motion would be approved , and there was sufficient information to estimate the claim .\\nsee note 2 to american 2019s consolidated financial statements in part ii , item 8b for further information .\\n( 3 ) pursuant to the plan , the debtors agreed to allow certain post-petition unsecured claims on obligations .\\nas a result , during the year ended december 31 , 2013 , american recorded reorganization charges to adjust estimated allowed claim amounts previously recorded on rejected special facility revenue bonds of $ 180 million , allowed general unsecured claims related to the 1990 and 1994 series of special facility revenue bonds that financed certain improvements at jfk , and rejected bonds that financed certain improvements at ord , which are included in the table above .\\n( 4 ) the plan allowed unsecured creditors receiving aag series a preferred stock a conversion discount of 3.5% ( 3.5 % ) .\\naccordingly , american recorded the fair value of such discount upon the confirmation of the plan by the bankruptcy court. .'),\n",
       " Document(metadata={'page': 29}, page_content='cash flows from operations .\\n\\n| in millions | fiscal year 2018 | fiscal year 2017 | fiscal year 2016 |\\n| net earnings including earnings attributable to redeemable and noncontrollinginterests | $ 2163.0 | $ 1701.1 | $ 1736.8 |\\n| depreciation and amortization | 618.8 | 603.6 | 608.1 |\\n| after-taxearnings from joint ventures | -84.7 ( 84.7 ) | -85.0 ( 85.0 ) | -88.4 ( 88.4 ) |\\n| distributions of earnings from joint ventures | 113.2 | 75.6 | 75.1 |\\n| stock-based compensation | 77.0 | 95.7 | 89.8 |\\n| deferred income taxes | -504.3 ( 504.3 ) | 183.9 | 120.6 |\\n| pension and other postretirement benefit plan contributions | -31.8 ( 31.8 ) | -45.4 ( 45.4 ) | -47.8 ( 47.8 ) |\\n| pension and other postretirement benefit plan costs | 4.6 | 35.7 | 118.1 |\\n| divestitures loss ( gain ) | - | 13.5 | -148.2 ( 148.2 ) |\\n| restructuring impairment and other exit costs | 126.0 | 117.0 | 107.2 |\\n| changes in current assets and liabilities excluding the effects of acquisitions anddivestitures | 542.1 | -194.2 ( 194.2 ) | 298.5 |\\n| other net | -182.9 ( 182.9 ) | -86.3 ( 86.3 ) | -105.6 ( 105.6 ) |\\n| net cash provided by operating activities | $ 2841.0 | $ 2415.2 | $ 2764.2 |\\n\\nin fiscal 2018 , cash provided by operations was $ 2.8 billion compared to $ 2.4 billion in fiscal 2017 .\\nthe $ 426 million increase was primarily driven by the $ 462 million increase in net earnings and the $ 736 million change in current assets and liabilities , partially offset by a $ 688 million change in deferred income taxes .\\nthe change in deferred income taxes was primarily related to the $ 638 million provisional benefit from revaluing our net u.s .\\ndeferred tax liabilities to reflect the new u.s .\\ncorporate tax rate as a result of the tcja .\\nthe $ 736 million change in current assets and liabilities was primarily due to changes in accounts payable of $ 476 million related to the extension of payment terms and timing of payments , and $ 264 million of changes in other current liabilities primarily driven by changes in income taxes payable , trade and advertising accruals , and incentive accruals .\\nwe strive to grow core working capital at or below the rate of growth in our net sales .\\nfor fiscal 2018 , core working capital decreased 27 percent , compared to a net sales increase of 1 percent .\\nin fiscal 2017 , core working capital increased 9 percent , compared to a net sales decline of 6 percent , and in fiscal 2016 , core working capital decreased 41 percent , compared to net sales decline of 6 percent .\\nin fiscal 2017 , our operations generated $ 2.4 billion of cash , compared to $ 2.8 billion in fiscal 2016 .\\nthe $ 349 million decrease was primarily driven by a $ 493 million change in current assets and liabilities .\\nthe $ 493 million change in current assets and liabilities was primarily due to changes in other current liabilities driven by changes in income taxes payable , a decrease in incentive accruals , and changes in trade and advertising accruals due to reduced spending .\\nthe change in current assets and liabilities was also impacted by the timing of accounts payable .\\nadditionally , we recorded a $ 14 million loss on a divestiture during fiscal 2017 , compared to a $ 148 million net gain on divestitures during fiscal 2016 , and classified the related cash flows as investing activities. .'),\n",
       " Document(metadata={'page': 23}, page_content=\".\\n\\n| contractual obligations | payments due by period ( in thousands ) total | payments due by period ( in thousands ) 2017 | payments due by period ( in thousands ) 2018 | payments due by period ( in thousands ) 2019 | payments due by period ( in thousands ) 2020 | payments due by period ( in thousands ) 2021 | payments due by period ( in thousands ) thereafter |\\n| long-term debt ( 1 ) | $ 3508789 | $ 203244 | $ 409257 | $ 366456 | $ 461309 | $ 329339 | $ 1739184 |\\n| line of credit ( 2 ) | 56127 | 2650 | 2650 | 2650 | 48177 | 2014 | 2014 |\\n| share of unconsolidated joint ventures' debt ( 3 ) | 91235 | 2444 | 28466 | 5737 | 11598 | 1236 | 41754 |\\n| ground leases | 311120 | 10745 | 5721 | 5758 | 5793 | 5822 | 277281 |\\n| development and construction backlog costs ( 4 ) | 344700 | 331553 | 13147 | 2014 | 2014 | 2014 | 2014 |\\n| other | 43357 | 7502 | 7342 | 5801 | 4326 | 3906 | 14480 |\\n| total contractual obligations | $ 4355328 | $ 558138 | $ 466583 | $ 386402 | $ 531203 | $ 340303 | $ 2072699 |\\n\\n( 1 ) our long-term debt consists of both secured and unsecured debt and includes both principal and interest .\\ninterest payments for variable rate debt were calculated using the interest rates as of december 31 , 2016 .\\nrepayment of our $ 250.0 million variable rate term note , which has a contractual maturity date in january 2019 , is reflected as a 2020 obligation in the table above based on the ability to exercise a one-year extension , which we may exercise at our discretion .\\n( 2 ) our unsecured line of credit has a contractual maturity date in january 2019 , but is reflected as a 2020 obligation in the table above based on the ability to exercise a one-year extension , which we may exercise at our discretion .\\ninterest payments for our unsecured line of credit were calculated using the most recent stated interest rate that was in effect.ff ( 3 ) our share of unconsolidated joint venture debt includes both principal and interest .\\ninterest expense for variable rate debt was calculated using the interest rate at december 31 , 2016 .\\n( 4 ) represents estimated remaining costs on the completion of owned development projects and third-party construction projects .\\nrelated party y transactionstt we provide property and asset management , leasing , construction and other tenant-related services to ww unconsolidated companies in which we have equity interests .\\nfor the years ended december 31 , 2016 , 2015 and 2014 we earned management fees of $ 4.5 million , $ 6.8 million and $ 8.5 million , leasing fees of $ 2.4 million , $ 3.0 million and $ 3.4 million and construction and development fees of $ 8.0 million , $ 6.1 million and $ 5.8 million , respectively , from these companies , prior to elimination of our ownership percentage .\\nyy we recorded these fees based ww on contractual terms that approximate market rates for these types of services and have eliminated our ownership percentages of these fees in the consolidated financial statements .\\ncommitments and contingenciesg the partnership has guaranteed the repayment of $ 32.9 million of economic development bonds issued by various municipalities in connection with certain commercial developments .\\nwe will be required to make payments under ww our guarantees to the extent that incremental taxes from specified developments are not sufficient to pay the bond ff debt service .\\nmanagement does not believe that it is probable that we will be required to make any significant payments in satisfaction of these guarantees .\\nthe partnership also has guaranteed the repayment of an unsecured loan of one of our unconsolidated subsidiaries .\\nat december 31 , 2016 , the maximum guarantee exposure for this loan was approximately $ 52.1 million .\\nwe lease certain land positions with terms extending toww march 2114 , with a total future payment obligation of $ 311.1 million .\\nthe payments on these ground leases , which are classified as operating leases , are not material in any individual year .\\nin addition to ground leases , we are party to other operating leases as part of conducting our business , including leases of office space from third parties , with a total future payment obligation of ff $ 43.4 million at december 31 , 2016 .\\nno future payments on these leases are material in any individual year .\\nwe are subject to various legal proceedings and claims that arise in the ordinary course of business .\\nin the opinion ww of management , the amount of any ultimate liability with respect to these actions is not expected to materially affect ff our consolidated financial statements or results of operations .\\nwe own certain parcels of land that are subject to special property tax assessments levied by quasi municipalww entities .\\nto the extent that such special assessments are fixed and determinable , the discounted value of the fulltt .\"),\n",
       " Document(metadata={'page': 39}, page_content='( 2 ) for purposes of calculating the ratio of earnings to fixed charges , earnings consist of earnings before income taxes minus income from equity investees plus fixed charges .\\nfixed charges consist of interest expense and the portion of rental expense we believe is representative of the interest component of rental expense .\\n( a ) for the years ended december 31 , 2010 and 2009 , earnings available for fixed charges were inadequate to cover fixed charges by $ 37.0 million and $ 461.2 million , respectively .\\n( 3 ) ebitda is defined as consolidated net income ( loss ) before interest expense , income tax expense ( benefit ) , depreciation , and amortization .\\nadjusted ebitda , which is a measure defined in our credit agreements , is calculated by adjusting ebitda for certain items of income and expense including ( but not limited to ) the following : ( a ) non-cash equity-based compensation ; ( b ) goodwill impairment charges ; ( c ) sponsor fees ; ( d ) certain consulting fees ; ( e ) debt-related legal and accounting costs ; ( f ) equity investment income and losses ; ( g ) certain severance and retention costs ; ( h ) gains and losses from the early extinguishment of debt ; ( i ) gains and losses from asset dispositions outside the ordinary course of business ; and ( j ) non-recurring , extraordinary or unusual gains or losses or expenses .\\nwe have included a reconciliation of ebitda and adjusted ebitda in the table below .\\nboth ebitda and adjusted ebitda are considered non-gaap financial measures .\\ngenerally , a non-gaap financial measure is a numerical measure of a company 2019s performance , financial position or cash flows that either excludes or includes amounts that are not normally included or excluded in the most directly comparable measure calculated and presented in accordance with gaap .\\nnon-gaap measures used by the company may differ from similar measures used by other companies , even when similar terms are used to identify such measures .\\nwe believe that ebitda and adjusted ebitda provide helpful information with respect to our operating performance and cash flows including our ability to meet our future debt service , capital expenditures and working capital requirements .\\nadjusted ebitda also provides helpful information as it is the primary measure used in certain financial covenants contained in our credit agreements .\\nthe following unaudited table sets forth reconciliations of net income ( loss ) to ebitda and ebitda to adjusted ebitda for the periods presented: .\\n\\n| ( in millions ) | years ended december 31 , 2013 | years ended december 31 , 2012 | years ended december 31 , 2011 | years ended december 31 , 2010 | years ended december 31 , 2009 |\\n| net income ( loss ) | $ 132.8 | $ 119.0 | $ 17.1 | $ -29.2 ( 29.2 ) | $ -373.4 ( 373.4 ) |\\n| depreciation and amortization | 208.2 | 210.2 | 204.9 | 209.4 | 218.2 |\\n| income tax expense ( benefit ) | 62.7 | 67.1 | 11.2 | -7.8 ( 7.8 ) | -87.8 ( 87.8 ) |\\n| interest expense net | 250.1 | 307.4 | 324.2 | 391.9 | 431.7 |\\n| ebitda | 653.8 | 703.7 | 557.4 | 564.3 | 188.7 |\\n| non-cash equity-based compensation | 8.6 | 22.1 | 19.5 | 11.5 | 15.9 |\\n| sponsor fees | 2.5 | 5.0 | 5.0 | 5.0 | 5.0 |\\n| consulting and debt-related professional fees | 0.1 | 0.6 | 5.1 | 15.1 | 14.1 |\\n| goodwill impairment | 2014 | 2014 | 2014 | 2014 | 241.8 |\\n| net loss ( gain ) on extinguishments of long-term debt | 64.0 | 17.2 | 118.9 | -2.0 ( 2.0 ) | 2014 |\\n| litigation net ( i ) | -4.1 ( 4.1 ) | 4.3 | 2014 | 2014 | 2014 |\\n| ipo- and secondary-offering related expenses | 75.0 | 2014 | 2014 | 2014 | 2014 |\\n| other adjustments ( ii ) | 8.6 | 13.7 | 11.4 | 7.9 | -0.1 ( 0.1 ) |\\n| adjusted ebitda | $ 808.5 | $ 766.6 | $ 717.3 | $ 601.8 | $ 465.4 |\\n\\n( i ) relates to unusual , non-recurring litigation matters .\\n( ii ) includes certain retention costs and equity investment income , certain severance costs in 2009 and a gain related to the sale of the informacast software and equipment in 2009. .'),\n",
       " Document(metadata={'page': 2}, page_content='item 6 .\\nselected financial data the following table represents our selected financial data .\\nthe table should be read in conjunction with item 7 and item 8 of this report .\\nthe table below reflects immaterial error corrections discussed in note 2 : summary of significant accounting policies in item 8. .\\n\\n| ( $ in millions except per share amounts ) | year ended december 31 2012 | year ended december 31 2011 | year ended december 31 2010 | year ended december 31 2009 | year ended december 31 2008 |\\n| sales and service revenues | $ 6708 | $ 6575 | $ 6723 | $ 6292 | $ 6189 |\\n| goodwill impairment | 2014 | 290 | 2014 | 2014 | 2465 |\\n| operating income ( loss ) | 358 | 100 | 241 | 203 | -2332 ( 2332 ) |\\n| net earnings ( loss ) | 146 | -100 ( 100 ) | 131 | 119 | -2397 ( 2397 ) |\\n| total assets | 6392 | 6069 | 5270 | 5097 | 4821 |\\n| long-term debt ( 1 ) | 1779 | 1830 | 105 | 283 | 283 |\\n| total long-term obligations | 4341 | 3838 | 1637 | 1708 | 1823 |\\n| free cash flow ( 2 ) | 170 | 331 | 168 | -269 ( 269 ) | 121 |\\n| dividends declared per share | $ 0.10 | $ 2014 | $ 2014 | $ 2014 | $ 2014 |\\n| basic earnings ( loss ) per share ( 3 ) | $ 2.96 | $ -2.05 ( 2.05 ) | $ 2.68 | $ 2.44 | $ -49.14 ( 49.14 ) |\\n| diluted earnings ( loss ) per share ( 3 ) | $ 2.91 | $ -2.05 ( 2.05 ) | $ 2.68 | $ 2.44 | $ -49.14 ( 49.14 ) |\\n\\nbasic earnings ( loss ) per share ( 3 ) $ 2.96 $ ( 2.05 ) $ 2.68 $ 2.44 $ ( 49.14 ) diluted earnings ( loss ) per share ( 3 ) $ 2.91 $ ( 2.05 ) $ 2.68 $ 2.44 $ ( 49.14 ) ( 1 ) long-term debt does not include amounts payable to our former parent as of and before december 31 , 2010 , as these amounts were due upon demand and included in current liabilities .\\n( 2 ) free cash flow is a non-gaap financial measure and represents cash from operating activities less capital expenditures .\\nsee liquidity and capital resources in item 7 for more information on this measure .\\n( 3 ) on march 30 , 2011 , the record date of the stock distribution associated with the spin-off from northrop grumman , approximately 48.8 million shares of $ 0.01 par value hii common stock were distributed to northrop grumman stockholders .\\nthis share amount was utilized for the calculation of basic and diluted earnings ( loss ) per share for the three months ended march 31 , 2011 , and all prior periods , as no common stock of the company existed prior to march 30 , 2011 , and the impact of dilutive securities in the three month period ended march 31 , 2011 , was not meaningful. .'),\n",
       " Document(metadata={'page': 79}, page_content='operating expenses millions 2010 2009 2008 % (  % ) change 2010 v 2009 % (  % ) change 2009 v 2008 .\\n\\n| millions | 2010 | 2009 | 2008 | % (  % ) change 2010 v 2009 | % (  % ) change2009 v 2008 |\\n| compensation and benefits | $ 4314 | $ 4063 | $ 4457 | 6% ( 6 % ) | ( 9 ) % (  % ) |\\n| fuel | 2486 | 1763 | 3983 | 41 | -56 ( 56 ) |\\n| purchased services and materials | 1836 | 1644 | 1928 | 12 | -15 ( 15 ) |\\n| depreciation | 1487 | 1427 | 1366 | 4 | 4 |\\n| equipment and other rents | 1142 | 1180 | 1326 | -3 ( 3 ) | -11 ( 11 ) |\\n| other | 719 | 687 | 840 | 5 | -18 ( 18 ) |\\n| total | $ 11984 | $ 10764 | $ 13900 | 11% ( 11 % ) | ( 23 ) % (  % ) |\\n\\noperating expenses increased $ 1.2 billion in 2010 versus 2009 .\\nour fuel price per gallon increased 31% ( 31 % ) during the year , accounting for $ 566 million of the increase .\\nwage and benefit inflation , depreciation , volume-related costs , and property taxes also contributed to higher expenses during 2010 compared to 2009 .\\ncost savings from productivity improvements and better resource utilization partially offset these increases .\\noperating expenses decreased $ 3.1 billion in 2009 versus 2008 .\\nour fuel price per gallon declined 44% ( 44 % ) during 2009 , decreasing operating expenses by $ 1.3 billion compared to 2008 .\\ncost savings from lower volume , productivity improvements , and better resource utilization also decreased operating expenses in 2009 .\\nin addition , lower casualty expense resulting primarily from improving trends in safety performance decreased operating expenses in 2009 .\\nconversely , wage and benefit inflation partially offset these reductions .\\ncompensation and benefits 2013 compensation and benefits include wages , payroll taxes , health and welfare costs , pension costs , other postretirement benefits , and incentive costs .\\ngeneral wage and benefit inflation increased costs by approximately $ 190 million in 2010 compared to 2009 .\\nvolume- related expenses and higher equity and incentive compensation also drove costs up during the year .\\nworkforce levels declined 1% ( 1 % ) in 2010 compared to 2009 as network efficiencies and ongoing productivity initiatives enabled us to effectively handle the 13% ( 13 % ) increase in volume levels with fewer employees .\\nlower volume and productivity initiatives led to a 10% ( 10 % ) decline in our workforce in 2009 compared to 2008 , saving $ 516 million during the year .\\nconversely , general wage and benefit inflation increased expenses , partially offsetting these savings .\\nfuel 2013 fuel includes locomotive fuel and gasoline for highway and non-highway vehicles and heavy equipment .\\nhigher diesel fuel prices , which averaged $ 2.29 per gallon ( including taxes and transportation costs ) in 2010 compared to $ 1.75 per gallon in 2009 , increased expenses by $ 566 million .\\nvolume , as measured by gross ton-miles , increased 10% ( 10 % ) in 2010 versus 2009 , driving fuel expense up by $ 166 million .\\nconversely , the use of newer , more fuel efficient locomotives , our fuel conservation programs and efficient network operations drove a 3% ( 3 % ) improvement in our fuel consumption rate in 2010 , resulting in $ 40 million of cost savings versus 2009 at the 2009 average fuel price .\\nlower diesel fuel prices , which averaged $ 1.75 per gallon ( including taxes and transportation costs ) in 2009 compared to $ 3.15 per gallon in 2008 , reduced expenses by $ 1.3 billion in 2009 .\\nvolume , as measured by gross ton-miles , decreased 17% ( 17 % ) in 2009 , lowering expenses by $ 664 million compared to 2008 .\\nour fuel consumption rate improved 4% ( 4 % ) in 2009 , resulting in $ 147 million of cost savings versus 2008 at the 2008 average fuel price .\\nthe consumption rate savings versus 2008 using the lower 2009 fuel price was $ 68 million .\\nnewer , more fuel efficient locomotives , reflecting locomotive acquisitions in recent years and the impact of a smaller fleet due to storage of some of our older locomotives ; increased use of 2010 operating expenses .'),\n",
       " Document(metadata={'page': 20}, page_content='management 2019s discussion and analysis of financial condition and results of operations 2013 ( continued ) ( amounts in millions , except per share amounts ) net cash used in investing activities during 2012 primarily related to payments for capital expenditures and acquisitions , partially offset by the net proceeds of $ 94.8 received from the sale of our remaining holdings in facebook .\\ncapital expenditures of $ 169.2 primarily related to computer hardware and software , and leasehold improvements .\\ncapital expenditures increased in 2012 compared to the prior year , primarily due to an increase in leasehold improvements made during the year .\\npayments for acquisitions of $ 145.5 primarily related to payments for new acquisitions .\\nfinancing activities net cash used in financing activities during 2013 primarily related to the purchase of long-term debt , the repurchase of our common stock , and payment of dividends .\\nwe redeemed all $ 600.0 in aggregate principal amount of our 10.00% ( 10.00 % ) notes .\\nin addition , we repurchased 31.8 shares of our common stock for an aggregate cost of $ 481.8 , including fees , and made dividend payments of $ 126.0 on our common stock .\\nnet cash provided by financing activities during 2012 primarily reflected net proceeds from our debt transactions .\\nwe issued $ 300.0 in aggregate principal amount of 2.25% ( 2.25 % ) senior notes due 2017 ( the 201c2.25% ( 201c2.25 % ) notes 201d ) , $ 500.0 in aggregate principal amount of 3.75% ( 3.75 % ) senior notes due 2023 ( the 201c3.75% ( 201c3.75 % ) notes 201d ) and $ 250.0 in aggregate principal amount of 4.00% ( 4.00 % ) senior notes due 2022 ( the 201c4.00% ( 201c4.00 % ) notes 201d ) .\\nthe proceeds from the issuance of the 4.00% ( 4.00 % ) notes were applied towards the repurchase and redemption of $ 399.6 in aggregate principal amount of our 4.25% ( 4.25 % ) notes .\\noffsetting the net proceeds from our debt transactions was the repurchase of 32.7 shares of our common stock for an aggregate cost of $ 350.5 , including fees , and dividend payments of $ 103.4 on our common stock .\\nforeign exchange rate changes the effect of foreign exchange rate changes on cash and cash equivalents included in the consolidated statements of cash flows resulted in a decrease of $ 94.1 in 2013 .\\nthe decrease was primarily a result of the u.s .\\ndollar being stronger than several foreign currencies , including the australian dollar , brazilian real , japanese yen , canadian dollar and south african rand as of december 31 , 2013 compared to december 31 , 2012 .\\nthe effect of foreign exchange rate changes on cash and cash equivalents included in the consolidated statements of cash flows resulted in a decrease of $ 6.2 in 2012 .\\nthe decrease was a result of the u.s .\\ndollar being stronger than several foreign currencies , including the brazilian real and south african rand , offset by the u.s .\\ndollar being weaker than other foreign currencies , including the australian dollar , british pound and the euro , as of as of december 31 , 2012 compared to december 31 , 2011. .\\n\\n| balance sheet data | december 31 , 2013 | december 31 , 2012 |\\n| cash cash equivalents and marketable securities | $ 1642.1 | $ 2590.8 |\\n| short-term borrowings | $ 179.1 | $ 172.1 |\\n| current portion of long-term debt | 353.6 | 216.6 |\\n| long-term debt | 1129.8 | 2060.8 |\\n| total debt | $ 1662.5 | $ 2449.5 |\\n\\nliquidity outlook we expect our cash flow from operations , cash and cash equivalents to be sufficient to meet our anticipated operating requirements at a minimum for the next twelve months .\\nwe also have a committed corporate credit facility as well as uncommitted facilities available to support our operating needs .\\nwe continue to maintain a disciplined approach to managing liquidity , with flexibility over significant uses of cash , including our capital expenditures , cash used for new acquisitions , our common stock repurchase program and our common stock dividends. .'),\n",
       " Document(metadata={'page': 86}, page_content='table of contents ( e ) other adjustments primarily include certain historical retention costs , unusual , non-recurring litigation matters , secondary-offering-related expenses and expenses related to the consolidation of office locations north of chicago .\\nduring the year ended december 31 , 2013 , we recorded ipo- and secondary-offering related expenses of $ 75.0 million .\\nfor additional information on the ipo- and secondary-offering related expenses , see note 10 ( stockholder 2019s equity ) to the accompanying consolidated financial statements .\\n( f ) includes the impact of consolidating five months for the year ended december 31 , 2015 of kelway 2019s financial results .\\n( 4 ) non-gaap net income excludes , among other things , charges related to the amortization of acquisition-related intangible assets , non-cash equity-based compensation , acquisition and integration expenses , and gains and losses from the extinguishment of long-term debt .\\nnon-gaap net income is considered a non-gaap financial measure .\\ngenerally , a non-gaap financial measure is a numerical measure of a company 2019s performance , financial position or cash flows that either excludes or includes amounts that are not normally included or excluded in the most directly comparable measure calculated and presented in accordance with gaap .\\nnon-gaap measures used by us may differ from similar measures used by other companies , even when similar terms are used to identify such measures .\\nwe believe that non-gaap net income provides meaningful information regarding our operating performance and cash flows including our ability to meet our future debt service , capital expenditures and working capital requirements .\\nthe following unaudited table sets forth a reconciliation of net income to non-gaap net income for the periods presented: .\\n\\n| ( in millions ) | years ended december 31 , 2015 | years ended december 31 , 2014 | years ended december 31 , 2013 | years ended december 31 , 2012 | years ended december 31 , 2011 |\\n| net income | $ 403.1 | $ 244.9 | $ 132.8 | $ 119.0 | $ 17.1 |\\n| amortization of intangibles ( a ) | 173.9 | 161.2 | 161.2 | 163.7 | 165.7 |\\n| non-cash equity-based compensation | 31.2 | 16.4 | 8.6 | 22.1 | 19.5 |\\n| non-cash equity-based compensation related to equity investment ( b ) | 20.0 | 2014 | 2014 | 2014 | 2014 |\\n| net loss on extinguishments of long-term debt | 24.3 | 90.7 | 64.0 | 17.2 | 118.9 |\\n| acquisition and integration expenses ( c ) | 10.2 | 2014 | 2014 | 2014 | 2014 |\\n| gain on remeasurement of equity investment ( d ) | -98.1 ( 98.1 ) | 2014 | 2014 | 2014 | 2014 |\\n| other adjustments ( e ) | 3.7 | -0.3 ( 0.3 ) | 61.2 | -3.3 ( 3.3 ) | -15.6 ( 15.6 ) |\\n| aggregate adjustment for income taxes ( f ) | -64.8 ( 64.8 ) | -103.0 ( 103.0 ) | -113.5 ( 113.5 ) | -71.6 ( 71.6 ) | -106.8 ( 106.8 ) |\\n| non-gaap net income ( g ) | $ 503.5 | $ 409.9 | $ 314.3 | $ 247.1 | $ 198.8 |\\n\\nacquisition and integration expenses ( c ) 10.2 2014 2014 2014 2014 gain on remeasurement of equity investment ( d ) ( 98.1 ) 2014 2014 2014 2014 other adjustments ( e ) 3.7 ( 0.3 ) 61.2 ( 3.3 ) ( 15.6 ) aggregate adjustment for income taxes ( f ) ( 64.8 ) ( 103.0 ) ( 113.5 ) ( 71.6 ) ( 106.8 ) non-gaap net income ( g ) $ 503.5 $ 409.9 $ 314.3 $ 247.1 $ 198.8 ( a ) includes amortization expense for acquisition-related intangible assets , primarily customer relationships , customer contracts and trade names .\\n( b ) represents our 35% ( 35 % ) share of an expense related to certain equity awards granted by one of the sellers to kelway coworkers in july 2015 prior to our acquisition of kelway .\\n( c ) primarily includes expenses related to the acquisition of kelway .\\n( d ) represents the gain resulting from the remeasurement of our previously held 35% ( 35 % ) equity investment to fair value upon the completion of the acquisition of kelway .\\n( e ) primarily includes expenses related to the consolidation of office locations north of chicago and secondary- offering-related expenses .\\namount in 2013 primarily relates to ipo- and secondary-offering related expenses .\\n( f ) based on a normalized effective tax rate of 38.0% ( 38.0 % ) ( 39.0% ( 39.0 % ) prior to the kelway acquisition ) , except for the non- cash equity-based compensation from our equity investment and the gain resulting from the remeasurement of our previously held 35% ( 35 % ) equity investment to fair value upon the completion of the acquisition of kelway , which were tax effected at a rate of 35.4% ( 35.4 % ) .\\nthe aggregate adjustment for income taxes also includes a $ 4.0 million deferred tax benefit recorded during the three months and year ended december 31 , 2015 as a result of a tax rate reduction in the united kingdom and additional tax expense during the year ended december 31 , 2015 of $ 3.3 million as a result of recording withholding tax on the unremitted earnings of our canadian subsidiary .\\nadditionally , note that certain acquisition costs are non-deductible. .'),\n",
       " Document(metadata={'page': 85}, page_content='supplementary information on oil and gas producing activities ( unaudited ) c o n t i n u e d summary of changes in standardized measure of discounted future net cash flows relating to proved oil and gas reserves ( in millions ) 2006 2005 2004 sales and transfers of oil and gas produced , net of production , transportation and administrative costs $ ( 5312 ) $ ( 3754 ) $ ( 2689 ) net changes in prices and production , transportation and administrative costs related to future production ( 1342 ) 6648 771 .\\n\\n| ( in millions ) | 2006 | 2005 | 2004 |\\n| sales and transfers of oil and gas produced net of production transportation and administrative costs | $ -5312 ( 5312 ) | $ -3754 ( 3754 ) | $ -2689 ( 2689 ) |\\n| net changes in prices and production transportation and administrative costs related to future production | -1342 ( 1342 ) | 6648 | 771 |\\n| extensions discoveries and improved recovery less related costs | 1290 | 700 | 1349 |\\n| development costs incurred during the period | 1251 | 1030 | 609 |\\n| changes in estimated future development costs | -527 ( 527 ) | -552 ( 552 ) | -628 ( 628 ) |\\n| revisions of previous quantity estimates | 1319 | 820 | 948 |\\n| net changes in purchases and sales of minerals in place | 30 | 4557 | 33 |\\n| accretion of discount | 1882 | 1124 | 757 |\\n| net change in income taxes | -660 ( 660 ) | -6694 ( 6694 ) | -627 ( 627 ) |\\n| timing and other | -14 ( 14 ) | 307 | 97 |\\n| net change for the year | -2083 ( 2083 ) | 4186 | 620 |\\n| beginning of year | 10601 | 6415 | 5795 |\\n| end of year | $ 8518 | $ 10601 | $ 6415 |\\n| net change for the year from discontinued operations | $ -216 ( 216 ) | $ 162 | $ -152 ( 152 ) |\\n\\n.')]"
      ]
     },
     "execution_count": 18,
     "metadata": {},
     "output_type": "execute_result"
    }
   ],
   "source": [
    "retrieved_unique"
   ]
  },
  {
   "cell_type": "code",
   "execution_count": 19,
   "metadata": {},
   "outputs": [],
   "source": [
    "binary_list = []\n",
    "relevant_docs = []\n",
    "\n",
    "for doc in retrieved_unique:\n",
    "    binary = classifier(doc.page_content, df['qa'][doc.metadata['page']]['question'], client)\n",
    "    binary_list.append(binary)\n",
    "    if binary == 1:\n",
    "        relevant_docs.append(doc)"
   ]
  },
  {
   "cell_type": "code",
   "execution_count": 20,
   "metadata": {},
   "outputs": [
    {
     "data": {
      "text/plain": [
       "[1.0, 1.0, 1.0, 0.0, 0.0, 1.0, 1.0, 0.0, 1.0, 0.0]"
      ]
     },
     "execution_count": 20,
     "metadata": {},
     "output_type": "execute_result"
    }
   ],
   "source": [
    "binary_list"
   ]
  },
  {
   "cell_type": "code",
   "execution_count": 21,
   "metadata": {},
   "outputs": [
    {
     "data": {
      "text/plain": [
       "[Document(metadata={'page': 30}, page_content='management 2019s discussion and analysis of financial condition and results of operations 2013 ( continued ) ( amounts in millions , except per share amounts ) corporate and other expenses increased slightly during 2013 by $ 3.5 to $ 140.8 compared to 2012 , primarily due to an increase in salaries and related expenses , mainly attributable to higher base salaries , benefits and temporary help , partially offset by lower severance expenses and a decrease in office and general expenses .\\nliquidity and capital resources cash flow overview the following tables summarize key financial data relating to our liquidity , capital resources and uses of capital. .\\n\\n| cash flow data | years ended december 31 , 2014 | years ended december 31 , 2013 | years ended december 31 , 2012 |\\n| net income adjusted to reconcile net income to net cashprovided by operating activities1 | $ 831.2 | $ 598.4 | $ 697.2 |\\n| net cash used in working capital b2 | -131.1 ( 131.1 ) | -9.6 ( 9.6 ) | -293.2 ( 293.2 ) |\\n| changes in other non-current assets and liabilities using cash | -30.6 ( 30.6 ) | 4.1 | -46.8 ( 46.8 ) |\\n| net cash provided by operating activities | $ 669.5 | $ 592.9 | $ 357.2 |\\n| net cash used in investing activities | -200.8 ( 200.8 ) | -224.5 ( 224.5 ) | -210.2 ( 210.2 ) |\\n| net cash ( used in ) provided by financing activities | -343.9 ( 343.9 ) | -1212.3 ( 1212.3 ) | 131.3 |\\n\\n1 reflects net income adjusted primarily for depreciation and amortization of fixed assets and intangible assets , amortization of restricted stock and other non-cash compensation , non-cash ( gain ) loss related to early extinguishment of debt , and deferred income taxes .\\n2 reflects changes in accounts receivable , expenditures billable to clients , other current assets , accounts payable and accrued liabilities .\\noperating activities net cash provided by operating activities during 2014 was $ 669.5 , which was an improvement of $ 76.6 as compared to 2013 , primarily as a result of an increase in net income , offset by an increase in working capital usage of $ 121.5 .\\ndue to the seasonality of our business , we typically generate cash from working capital in the second half of a year and use cash from working capital in the first half of a year , with the largest impacts in the first and fourth quarters .\\nour net working capital usage in 2014 was impacted by our media businesses .\\nnet cash provided by operating activities during 2013 was $ 592.9 , which was an increase of $ 235.7 as compared to 2012 , primarily as a result of an improvement in working capital usage of $ 283.6 , offset by a decrease in net income .\\nthe improvement in working capital in 2013 was impacted by our media businesses and an ongoing focus on working capital management at our agencies .\\nthe timing of media buying on behalf of our clients affects our working capital and operating cash flow .\\nin most of our businesses , our agencies enter into commitments to pay production and media costs on behalf of clients .\\nto the extent possible we pay production and media charges after we have received funds from our clients .\\nthe amounts involved substantially exceed our revenues and primarily affect the level of accounts receivable , expenditures billable to clients , accounts payable and accrued liabilities .\\nour assets include both cash received and accounts receivable from clients for these pass-through arrangements , while our liabilities include amounts owed on behalf of clients to media and production suppliers .\\nour accrued liabilities are also affected by the timing of certain other payments .\\nfor example , while annual cash incentive awards are accrued throughout the year , they are generally paid during the first quarter of the subsequent year .\\ninvesting activities net cash used in investing activities during 2014 primarily related to payments for capital expenditures and acquisitions .\\ncapital expenditures of $ 148.7 related primarily to computer hardware and software and leasehold improvements .\\nwe made payments of $ 67.8 related to acquisitions completed during 2014 , net of cash acquired. .'),\n",
       " Document(metadata={'page': 41}, page_content='table of contents interest expense , net of capitalized interest increased $ 64 million , or 9.8% ( 9.8 % ) , to $ 710 million in 2013 from $ 646 million in 2012 primarily due to special charges of $ 92 million to recognize post-petition interest expense on unsecured obligations pursuant to the plan and penalty interest related to 10.5% ( 10.5 % ) secured notes and 7.50% ( 7.50 % ) senior secured notes .\\nother nonoperating expense , net of $ 84 million in 2013 consists principally of net foreign currency losses of $ 55 million and early debt extinguishment charges of $ 48 million .\\nother nonoperating income in 2012 consisted principally of a $ 280 million special credit related to the settlement of a commercial dispute partially offset by net foreign currency losses .\\nreorganization items , net reorganization items refer to revenues , expenses ( including professional fees ) , realized gains and losses and provisions for losses that are realized or incurred as a direct result of the chapter 11 cases .\\nthe following table summarizes the components included in reorganization items , net on american 2019s consolidated statements of operations for the years ended december 31 , 2013 and 2012 ( in millions ) : .\\n\\n|  | 2013 | 2012 |\\n| pension and postretirement benefits | $ 2014 | $ -66 ( 66 ) |\\n| labor-related deemed claim ( 1 ) | 1733 | 2014 |\\n| aircraft and facility financing renegotiations and rejections ( 2 ) ( 3 ) | 320 | 1951 |\\n| fair value of conversion discount ( 4 ) | 218 | 2014 |\\n| professional fees | 199 | 227 |\\n| other | 170 | 67 |\\n| total reorganization items net | $ 2640 | $ 2179 |\\n\\n( 1 ) in exchange for employees 2019 contributions to the successful reorganization , including agreeing to reductions in pay and benefits , american agreed in the plan to provide each employee group a deemed claim , which was used to provide a distribution of a portion of the equity of the reorganized entity to those employees .\\neach employee group received a deemed claim amount based upon a portion of the value of cost savings provided by that group through reductions to pay and benefits as well as through certain work rule changes .\\nthe total value of this deemed claim was approximately $ 1.7 billion .\\n( 2 ) amounts include allowed claims ( claims approved by the bankruptcy court ) and estimated allowed claims relating to ( i ) the rejection or modification of financings related to aircraft and ( ii ) entry of orders treated as unsecured claims with respect to facility agreements supporting certain issuances of special facility revenue bonds .\\nthe debtors recorded an estimated claim associated with the rejection or modification of a financing or facility agreement when the applicable motion was filed with the bankruptcy court to reject or modify such financing or facility agreement and the debtors believed that it was probable the motion would be approved , and there was sufficient information to estimate the claim .\\nsee note 2 to american 2019s consolidated financial statements in part ii , item 8b for further information .\\n( 3 ) pursuant to the plan , the debtors agreed to allow certain post-petition unsecured claims on obligations .\\nas a result , during the year ended december 31 , 2013 , american recorded reorganization charges to adjust estimated allowed claim amounts previously recorded on rejected special facility revenue bonds of $ 180 million , allowed general unsecured claims related to the 1990 and 1994 series of special facility revenue bonds that financed certain improvements at jfk , and rejected bonds that financed certain improvements at ord , which are included in the table above .\\n( 4 ) the plan allowed unsecured creditors receiving aag series a preferred stock a conversion discount of 3.5% ( 3.5 % ) .\\naccordingly , american recorded the fair value of such discount upon the confirmation of the plan by the bankruptcy court. .'),\n",
       " Document(metadata={'page': 29}, page_content='cash flows from operations .\\n\\n| in millions | fiscal year 2018 | fiscal year 2017 | fiscal year 2016 |\\n| net earnings including earnings attributable to redeemable and noncontrollinginterests | $ 2163.0 | $ 1701.1 | $ 1736.8 |\\n| depreciation and amortization | 618.8 | 603.6 | 608.1 |\\n| after-taxearnings from joint ventures | -84.7 ( 84.7 ) | -85.0 ( 85.0 ) | -88.4 ( 88.4 ) |\\n| distributions of earnings from joint ventures | 113.2 | 75.6 | 75.1 |\\n| stock-based compensation | 77.0 | 95.7 | 89.8 |\\n| deferred income taxes | -504.3 ( 504.3 ) | 183.9 | 120.6 |\\n| pension and other postretirement benefit plan contributions | -31.8 ( 31.8 ) | -45.4 ( 45.4 ) | -47.8 ( 47.8 ) |\\n| pension and other postretirement benefit plan costs | 4.6 | 35.7 | 118.1 |\\n| divestitures loss ( gain ) | - | 13.5 | -148.2 ( 148.2 ) |\\n| restructuring impairment and other exit costs | 126.0 | 117.0 | 107.2 |\\n| changes in current assets and liabilities excluding the effects of acquisitions anddivestitures | 542.1 | -194.2 ( 194.2 ) | 298.5 |\\n| other net | -182.9 ( 182.9 ) | -86.3 ( 86.3 ) | -105.6 ( 105.6 ) |\\n| net cash provided by operating activities | $ 2841.0 | $ 2415.2 | $ 2764.2 |\\n\\nin fiscal 2018 , cash provided by operations was $ 2.8 billion compared to $ 2.4 billion in fiscal 2017 .\\nthe $ 426 million increase was primarily driven by the $ 462 million increase in net earnings and the $ 736 million change in current assets and liabilities , partially offset by a $ 688 million change in deferred income taxes .\\nthe change in deferred income taxes was primarily related to the $ 638 million provisional benefit from revaluing our net u.s .\\ndeferred tax liabilities to reflect the new u.s .\\ncorporate tax rate as a result of the tcja .\\nthe $ 736 million change in current assets and liabilities was primarily due to changes in accounts payable of $ 476 million related to the extension of payment terms and timing of payments , and $ 264 million of changes in other current liabilities primarily driven by changes in income taxes payable , trade and advertising accruals , and incentive accruals .\\nwe strive to grow core working capital at or below the rate of growth in our net sales .\\nfor fiscal 2018 , core working capital decreased 27 percent , compared to a net sales increase of 1 percent .\\nin fiscal 2017 , core working capital increased 9 percent , compared to a net sales decline of 6 percent , and in fiscal 2016 , core working capital decreased 41 percent , compared to net sales decline of 6 percent .\\nin fiscal 2017 , our operations generated $ 2.4 billion of cash , compared to $ 2.8 billion in fiscal 2016 .\\nthe $ 349 million decrease was primarily driven by a $ 493 million change in current assets and liabilities .\\nthe $ 493 million change in current assets and liabilities was primarily due to changes in other current liabilities driven by changes in income taxes payable , a decrease in incentive accruals , and changes in trade and advertising accruals due to reduced spending .\\nthe change in current assets and liabilities was also impacted by the timing of accounts payable .\\nadditionally , we recorded a $ 14 million loss on a divestiture during fiscal 2017 , compared to a $ 148 million net gain on divestitures during fiscal 2016 , and classified the related cash flows as investing activities. .'),\n",
       " Document(metadata={'page': 2}, page_content='item 6 .\\nselected financial data the following table represents our selected financial data .\\nthe table should be read in conjunction with item 7 and item 8 of this report .\\nthe table below reflects immaterial error corrections discussed in note 2 : summary of significant accounting policies in item 8. .\\n\\n| ( $ in millions except per share amounts ) | year ended december 31 2012 | year ended december 31 2011 | year ended december 31 2010 | year ended december 31 2009 | year ended december 31 2008 |\\n| sales and service revenues | $ 6708 | $ 6575 | $ 6723 | $ 6292 | $ 6189 |\\n| goodwill impairment | 2014 | 290 | 2014 | 2014 | 2465 |\\n| operating income ( loss ) | 358 | 100 | 241 | 203 | -2332 ( 2332 ) |\\n| net earnings ( loss ) | 146 | -100 ( 100 ) | 131 | 119 | -2397 ( 2397 ) |\\n| total assets | 6392 | 6069 | 5270 | 5097 | 4821 |\\n| long-term debt ( 1 ) | 1779 | 1830 | 105 | 283 | 283 |\\n| total long-term obligations | 4341 | 3838 | 1637 | 1708 | 1823 |\\n| free cash flow ( 2 ) | 170 | 331 | 168 | -269 ( 269 ) | 121 |\\n| dividends declared per share | $ 0.10 | $ 2014 | $ 2014 | $ 2014 | $ 2014 |\\n| basic earnings ( loss ) per share ( 3 ) | $ 2.96 | $ -2.05 ( 2.05 ) | $ 2.68 | $ 2.44 | $ -49.14 ( 49.14 ) |\\n| diluted earnings ( loss ) per share ( 3 ) | $ 2.91 | $ -2.05 ( 2.05 ) | $ 2.68 | $ 2.44 | $ -49.14 ( 49.14 ) |\\n\\nbasic earnings ( loss ) per share ( 3 ) $ 2.96 $ ( 2.05 ) $ 2.68 $ 2.44 $ ( 49.14 ) diluted earnings ( loss ) per share ( 3 ) $ 2.91 $ ( 2.05 ) $ 2.68 $ 2.44 $ ( 49.14 ) ( 1 ) long-term debt does not include amounts payable to our former parent as of and before december 31 , 2010 , as these amounts were due upon demand and included in current liabilities .\\n( 2 ) free cash flow is a non-gaap financial measure and represents cash from operating activities less capital expenditures .\\nsee liquidity and capital resources in item 7 for more information on this measure .\\n( 3 ) on march 30 , 2011 , the record date of the stock distribution associated with the spin-off from northrop grumman , approximately 48.8 million shares of $ 0.01 par value hii common stock were distributed to northrop grumman stockholders .\\nthis share amount was utilized for the calculation of basic and diluted earnings ( loss ) per share for the three months ended march 31 , 2011 , and all prior periods , as no common stock of the company existed prior to march 30 , 2011 , and the impact of dilutive securities in the three month period ended march 31 , 2011 , was not meaningful. .'),\n",
       " Document(metadata={'page': 79}, page_content='operating expenses millions 2010 2009 2008 % (  % ) change 2010 v 2009 % (  % ) change 2009 v 2008 .\\n\\n| millions | 2010 | 2009 | 2008 | % (  % ) change 2010 v 2009 | % (  % ) change2009 v 2008 |\\n| compensation and benefits | $ 4314 | $ 4063 | $ 4457 | 6% ( 6 % ) | ( 9 ) % (  % ) |\\n| fuel | 2486 | 1763 | 3983 | 41 | -56 ( 56 ) |\\n| purchased services and materials | 1836 | 1644 | 1928 | 12 | -15 ( 15 ) |\\n| depreciation | 1487 | 1427 | 1366 | 4 | 4 |\\n| equipment and other rents | 1142 | 1180 | 1326 | -3 ( 3 ) | -11 ( 11 ) |\\n| other | 719 | 687 | 840 | 5 | -18 ( 18 ) |\\n| total | $ 11984 | $ 10764 | $ 13900 | 11% ( 11 % ) | ( 23 ) % (  % ) |\\n\\noperating expenses increased $ 1.2 billion in 2010 versus 2009 .\\nour fuel price per gallon increased 31% ( 31 % ) during the year , accounting for $ 566 million of the increase .\\nwage and benefit inflation , depreciation , volume-related costs , and property taxes also contributed to higher expenses during 2010 compared to 2009 .\\ncost savings from productivity improvements and better resource utilization partially offset these increases .\\noperating expenses decreased $ 3.1 billion in 2009 versus 2008 .\\nour fuel price per gallon declined 44% ( 44 % ) during 2009 , decreasing operating expenses by $ 1.3 billion compared to 2008 .\\ncost savings from lower volume , productivity improvements , and better resource utilization also decreased operating expenses in 2009 .\\nin addition , lower casualty expense resulting primarily from improving trends in safety performance decreased operating expenses in 2009 .\\nconversely , wage and benefit inflation partially offset these reductions .\\ncompensation and benefits 2013 compensation and benefits include wages , payroll taxes , health and welfare costs , pension costs , other postretirement benefits , and incentive costs .\\ngeneral wage and benefit inflation increased costs by approximately $ 190 million in 2010 compared to 2009 .\\nvolume- related expenses and higher equity and incentive compensation also drove costs up during the year .\\nworkforce levels declined 1% ( 1 % ) in 2010 compared to 2009 as network efficiencies and ongoing productivity initiatives enabled us to effectively handle the 13% ( 13 % ) increase in volume levels with fewer employees .\\nlower volume and productivity initiatives led to a 10% ( 10 % ) decline in our workforce in 2009 compared to 2008 , saving $ 516 million during the year .\\nconversely , general wage and benefit inflation increased expenses , partially offsetting these savings .\\nfuel 2013 fuel includes locomotive fuel and gasoline for highway and non-highway vehicles and heavy equipment .\\nhigher diesel fuel prices , which averaged $ 2.29 per gallon ( including taxes and transportation costs ) in 2010 compared to $ 1.75 per gallon in 2009 , increased expenses by $ 566 million .\\nvolume , as measured by gross ton-miles , increased 10% ( 10 % ) in 2010 versus 2009 , driving fuel expense up by $ 166 million .\\nconversely , the use of newer , more fuel efficient locomotives , our fuel conservation programs and efficient network operations drove a 3% ( 3 % ) improvement in our fuel consumption rate in 2010 , resulting in $ 40 million of cost savings versus 2009 at the 2009 average fuel price .\\nlower diesel fuel prices , which averaged $ 1.75 per gallon ( including taxes and transportation costs ) in 2009 compared to $ 3.15 per gallon in 2008 , reduced expenses by $ 1.3 billion in 2009 .\\nvolume , as measured by gross ton-miles , decreased 17% ( 17 % ) in 2009 , lowering expenses by $ 664 million compared to 2008 .\\nour fuel consumption rate improved 4% ( 4 % ) in 2009 , resulting in $ 147 million of cost savings versus 2008 at the 2008 average fuel price .\\nthe consumption rate savings versus 2008 using the lower 2009 fuel price was $ 68 million .\\nnewer , more fuel efficient locomotives , reflecting locomotive acquisitions in recent years and the impact of a smaller fleet due to storage of some of our older locomotives ; increased use of 2010 operating expenses .'),\n",
       " Document(metadata={'page': 86}, page_content='table of contents ( e ) other adjustments primarily include certain historical retention costs , unusual , non-recurring litigation matters , secondary-offering-related expenses and expenses related to the consolidation of office locations north of chicago .\\nduring the year ended december 31 , 2013 , we recorded ipo- and secondary-offering related expenses of $ 75.0 million .\\nfor additional information on the ipo- and secondary-offering related expenses , see note 10 ( stockholder 2019s equity ) to the accompanying consolidated financial statements .\\n( f ) includes the impact of consolidating five months for the year ended december 31 , 2015 of kelway 2019s financial results .\\n( 4 ) non-gaap net income excludes , among other things , charges related to the amortization of acquisition-related intangible assets , non-cash equity-based compensation , acquisition and integration expenses , and gains and losses from the extinguishment of long-term debt .\\nnon-gaap net income is considered a non-gaap financial measure .\\ngenerally , a non-gaap financial measure is a numerical measure of a company 2019s performance , financial position or cash flows that either excludes or includes amounts that are not normally included or excluded in the most directly comparable measure calculated and presented in accordance with gaap .\\nnon-gaap measures used by us may differ from similar measures used by other companies , even when similar terms are used to identify such measures .\\nwe believe that non-gaap net income provides meaningful information regarding our operating performance and cash flows including our ability to meet our future debt service , capital expenditures and working capital requirements .\\nthe following unaudited table sets forth a reconciliation of net income to non-gaap net income for the periods presented: .\\n\\n| ( in millions ) | years ended december 31 , 2015 | years ended december 31 , 2014 | years ended december 31 , 2013 | years ended december 31 , 2012 | years ended december 31 , 2011 |\\n| net income | $ 403.1 | $ 244.9 | $ 132.8 | $ 119.0 | $ 17.1 |\\n| amortization of intangibles ( a ) | 173.9 | 161.2 | 161.2 | 163.7 | 165.7 |\\n| non-cash equity-based compensation | 31.2 | 16.4 | 8.6 | 22.1 | 19.5 |\\n| non-cash equity-based compensation related to equity investment ( b ) | 20.0 | 2014 | 2014 | 2014 | 2014 |\\n| net loss on extinguishments of long-term debt | 24.3 | 90.7 | 64.0 | 17.2 | 118.9 |\\n| acquisition and integration expenses ( c ) | 10.2 | 2014 | 2014 | 2014 | 2014 |\\n| gain on remeasurement of equity investment ( d ) | -98.1 ( 98.1 ) | 2014 | 2014 | 2014 | 2014 |\\n| other adjustments ( e ) | 3.7 | -0.3 ( 0.3 ) | 61.2 | -3.3 ( 3.3 ) | -15.6 ( 15.6 ) |\\n| aggregate adjustment for income taxes ( f ) | -64.8 ( 64.8 ) | -103.0 ( 103.0 ) | -113.5 ( 113.5 ) | -71.6 ( 71.6 ) | -106.8 ( 106.8 ) |\\n| non-gaap net income ( g ) | $ 503.5 | $ 409.9 | $ 314.3 | $ 247.1 | $ 198.8 |\\n\\nacquisition and integration expenses ( c ) 10.2 2014 2014 2014 2014 gain on remeasurement of equity investment ( d ) ( 98.1 ) 2014 2014 2014 2014 other adjustments ( e ) 3.7 ( 0.3 ) 61.2 ( 3.3 ) ( 15.6 ) aggregate adjustment for income taxes ( f ) ( 64.8 ) ( 103.0 ) ( 113.5 ) ( 71.6 ) ( 106.8 ) non-gaap net income ( g ) $ 503.5 $ 409.9 $ 314.3 $ 247.1 $ 198.8 ( a ) includes amortization expense for acquisition-related intangible assets , primarily customer relationships , customer contracts and trade names .\\n( b ) represents our 35% ( 35 % ) share of an expense related to certain equity awards granted by one of the sellers to kelway coworkers in july 2015 prior to our acquisition of kelway .\\n( c ) primarily includes expenses related to the acquisition of kelway .\\n( d ) represents the gain resulting from the remeasurement of our previously held 35% ( 35 % ) equity investment to fair value upon the completion of the acquisition of kelway .\\n( e ) primarily includes expenses related to the consolidation of office locations north of chicago and secondary- offering-related expenses .\\namount in 2013 primarily relates to ipo- and secondary-offering related expenses .\\n( f ) based on a normalized effective tax rate of 38.0% ( 38.0 % ) ( 39.0% ( 39.0 % ) prior to the kelway acquisition ) , except for the non- cash equity-based compensation from our equity investment and the gain resulting from the remeasurement of our previously held 35% ( 35 % ) equity investment to fair value upon the completion of the acquisition of kelway , which were tax effected at a rate of 35.4% ( 35.4 % ) .\\nthe aggregate adjustment for income taxes also includes a $ 4.0 million deferred tax benefit recorded during the three months and year ended december 31 , 2015 as a result of a tax rate reduction in the united kingdom and additional tax expense during the year ended december 31 , 2015 of $ 3.3 million as a result of recording withholding tax on the unremitted earnings of our canadian subsidiary .\\nadditionally , note that certain acquisition costs are non-deductible. .')]"
      ]
     },
     "execution_count": 21,
     "metadata": {},
     "output_type": "execute_result"
    }
   ],
   "source": [
    "relevant_docs"
   ]
  },
  {
   "cell_type": "markdown",
   "metadata": {},
   "source": [
    "Let's now evaluate the quality of the retrieval"
   ]
  },
  {
   "cell_type": "code",
   "execution_count": 27,
   "metadata": {},
   "outputs": [],
   "source": [
    "doc_list = []\n",
    "\n",
    "for i, entry in enumerate(df['qa']):\n",
    "    augmented_query = context_augment(entry['question'], client)\n",
    "    retrieved = db.similarity_search(entry['question'] + augmented_query, k=10)\n",
    "\n",
    "    duplicates = []\n",
    "    retrieved_unique = []\n",
    "    for doc in retrieved:\n",
    "        if doc.metadata['page'] not in duplicates:\n",
    "            duplicates.append(doc.metadata['page'])\n",
    "            retrieved_unique.append(doc)\n",
    "    \n",
    "    binary_list = []\n",
    "    relevant_docs = []\n",
    "    for doc in retrieved_unique:\n",
    "        binary = classifier(doc.page_content, df['qa'][doc.metadata['page']]['question'], client)\n",
    "        binary_list.append(binary)\n",
    "        if binary == 1:\n",
    "            relevant_docs.append(doc)\n",
    "    doc_list.append(relevant_docs)\n",
    "    \n",
    "df['context'] = doc_list"
   ]
  },
  {
   "cell_type": "code",
   "execution_count": 29,
   "metadata": {},
   "outputs": [
    {
     "data": {
      "text/html": [
       "<div>\n",
       "<style scoped>\n",
       "    .dataframe tbody tr th:only-of-type {\n",
       "        vertical-align: middle;\n",
       "    }\n",
       "\n",
       "    .dataframe tbody tr th {\n",
       "        vertical-align: top;\n",
       "    }\n",
       "\n",
       "    .dataframe thead th {\n",
       "        text-align: right;\n",
       "    }\n",
       "</style>\n",
       "<table border=\"1\" class=\"dataframe\">\n",
       "  <thead>\n",
       "    <tr style=\"text-align: right;\">\n",
       "      <th></th>\n",
       "      <th>pre_text</th>\n",
       "      <th>post_text</th>\n",
       "      <th>filename</th>\n",
       "      <th>table_ori</th>\n",
       "      <th>table</th>\n",
       "      <th>id</th>\n",
       "      <th>annotation</th>\n",
       "      <th>join_text</th>\n",
       "      <th>input_tokens</th>\n",
       "      <th>qa</th>\n",
       "      <th>context</th>\n",
       "    </tr>\n",
       "  </thead>\n",
       "  <tbody>\n",
       "    <tr>\n",
       "      <th>0</th>\n",
       "      <td>[hii expects to incur higher costs to complete...</td>\n",
       "      <td>[.]</td>\n",
       "      <td>HII/2011/page_90.pdf</td>\n",
       "      <td>[[($ in millions), Employee Compensation, Othe...</td>\n",
       "      <td>[[( $ in millions ), employee compensation, ot...</td>\n",
       "      <td>Double_HII/2011/page_90.pdf</td>\n",
       "      <td>{'amt_table': '&lt;table class='wikitable'&gt;&lt;tr&gt;&lt;t...</td>\n",
       "      <td>hii expects to incur higher costs to complete ...</td>\n",
       "      <td>1002</td>\n",
       "      <td>{'question': 'what is the net change in employ...</td>\n",
       "      <td>[page_content='table of contents interest expe...</td>\n",
       "    </tr>\n",
       "    <tr>\n",
       "      <th>1</th>\n",
       "      <td>[business subsequent to the acquisition ., the...</td>\n",
       "      <td>[rental expense for operating leases was appro...</td>\n",
       "      <td>LKQ/2018/page_102.pdf</td>\n",
       "      <td>[[2019, $294,269], [2020, 256,172], [2021, 210...</td>\n",
       "      <td>[[2019, $ 294269], [2020, 256172], [2021, 2106...</td>\n",
       "      <td>Single_LKQ/2018/page_102.pdf-2</td>\n",
       "      <td>{'amt_table': '&lt;table class='wikitable'&gt;&lt;tr&gt;&lt;t...</td>\n",
       "      <td>business subsequent to the acquisition .\\nthe ...</td>\n",
       "      <td>919</td>\n",
       "      <td>{'question': 'what was the percentage change i...</td>\n",
       "      <td>[page_content='operating expenses millions 201...</td>\n",
       "    </tr>\n",
       "    <tr>\n",
       "      <th>2</th>\n",
       "      <td>[item 6 ., selected financial data the followi...</td>\n",
       "      <td>[basic earnings ( loss ) per share ( 3 ) $ 2.9...</td>\n",
       "      <td>HII/2012/page_47.pdf</td>\n",
       "      <td>[[, Year Ended December 31], [($ in millions, ...</td>\n",
       "      <td>[[( $ in millions except per share amounts ), ...</td>\n",
       "      <td>Single_HII/2012/page_47.pdf-1</td>\n",
       "      <td>{'amt_table': '&lt;table class='wikitable'&gt;&lt;tr&gt;&lt;t...</td>\n",
       "      <td>item 6 .\\nselected financial data the followin...</td>\n",
       "      <td>780</td>\n",
       "      <td>{'question': 'what was the net increase in tot...</td>\n",
       "      <td>[page_content='consolidated income statement r...</td>\n",
       "    </tr>\n",
       "    <tr>\n",
       "      <th>3</th>\n",
       "      <td>[american tower corporation and subsidiaries n...</td>\n",
       "      <td>[aggregate rent expense ( including the effect...</td>\n",
       "      <td>AMT/2004/page_91.pdf</td>\n",
       "      <td>[[2005, $106,116], [2006, 106,319], [2007, 106...</td>\n",
       "      <td>[[2005, $ 106116], [2006, 106319], [2007, 1060...</td>\n",
       "      <td>Single_AMT/2004/page_91.pdf-3</td>\n",
       "      <td>{'amt_table': '&lt;table class='wikitable'&gt;&lt;tr&gt;&lt;t...</td>\n",
       "      <td>american tower corporation and subsidiaries no...</td>\n",
       "      <td>869</td>\n",
       "      <td>{'question': 'what was the average rental expe...</td>\n",
       "      <td>[page_content='wood products sales in the unit...</td>\n",
       "    </tr>\n",
       "    <tr>\n",
       "      <th>4</th>\n",
       "      <td>[backlog applied manufactures systems to meet ...</td>\n",
       "      <td>[applied 2019s backlog on any particular date ...</td>\n",
       "      <td>AMAT/2015/page_14.pdf</td>\n",
       "      <td>[[, 2015, 2014, , (In millions, except percent...</td>\n",
       "      <td>[[, 2015, 2014, , ( in millions except percent...</td>\n",
       "      <td>Single_AMAT/2015/page_14.pdf-2</td>\n",
       "      <td>{'amt_table': '&lt;table class='wikitable'&gt;&lt;tr&gt;&lt;t...</td>\n",
       "      <td>backlog applied manufactures systems to meet d...</td>\n",
       "      <td>600</td>\n",
       "      <td>{'question': 'what is the growth rate in the s...</td>\n",
       "      <td>[page_content='as noted above , as a result of...</td>\n",
       "    </tr>\n",
       "  </tbody>\n",
       "</table>\n",
       "</div>"
      ],
      "text/plain": [
       "                                            pre_text  \\\n",
       "0  [hii expects to incur higher costs to complete...   \n",
       "1  [business subsequent to the acquisition ., the...   \n",
       "2  [item 6 ., selected financial data the followi...   \n",
       "3  [american tower corporation and subsidiaries n...   \n",
       "4  [backlog applied manufactures systems to meet ...   \n",
       "\n",
       "                                           post_text               filename  \\\n",
       "0                                                [.]   HII/2011/page_90.pdf   \n",
       "1  [rental expense for operating leases was appro...  LKQ/2018/page_102.pdf   \n",
       "2  [basic earnings ( loss ) per share ( 3 ) $ 2.9...   HII/2012/page_47.pdf   \n",
       "3  [aggregate rent expense ( including the effect...   AMT/2004/page_91.pdf   \n",
       "4  [applied 2019s backlog on any particular date ...  AMAT/2015/page_14.pdf   \n",
       "\n",
       "                                           table_ori  \\\n",
       "0  [[($ in millions), Employee Compensation, Othe...   \n",
       "1  [[2019, $294,269], [2020, 256,172], [2021, 210...   \n",
       "2  [[, Year Ended December 31], [($ in millions, ...   \n",
       "3  [[2005, $106,116], [2006, 106,319], [2007, 106...   \n",
       "4  [[, 2015, 2014, , (In millions, except percent...   \n",
       "\n",
       "                                               table  \\\n",
       "0  [[( $ in millions ), employee compensation, ot...   \n",
       "1  [[2019, $ 294269], [2020, 256172], [2021, 2106...   \n",
       "2  [[( $ in millions except per share amounts ), ...   \n",
       "3  [[2005, $ 106116], [2006, 106319], [2007, 1060...   \n",
       "4  [[, 2015, 2014, , ( in millions except percent...   \n",
       "\n",
       "                               id  \\\n",
       "0     Double_HII/2011/page_90.pdf   \n",
       "1  Single_LKQ/2018/page_102.pdf-2   \n",
       "2   Single_HII/2012/page_47.pdf-1   \n",
       "3   Single_AMT/2004/page_91.pdf-3   \n",
       "4  Single_AMAT/2015/page_14.pdf-2   \n",
       "\n",
       "                                          annotation  \\\n",
       "0  {'amt_table': '<table class='wikitable'><tr><t...   \n",
       "1  {'amt_table': '<table class='wikitable'><tr><t...   \n",
       "2  {'amt_table': '<table class='wikitable'><tr><t...   \n",
       "3  {'amt_table': '<table class='wikitable'><tr><t...   \n",
       "4  {'amt_table': '<table class='wikitable'><tr><t...   \n",
       "\n",
       "                                           join_text  input_tokens  \\\n",
       "0  hii expects to incur higher costs to complete ...          1002   \n",
       "1  business subsequent to the acquisition .\\nthe ...           919   \n",
       "2  item 6 .\\nselected financial data the followin...           780   \n",
       "3  american tower corporation and subsidiaries no...           869   \n",
       "4  backlog applied manufactures systems to meet d...           600   \n",
       "\n",
       "                                                  qa  \\\n",
       "0  {'question': 'what is the net change in employ...   \n",
       "1  {'question': 'what was the percentage change i...   \n",
       "2  {'question': 'what was the net increase in tot...   \n",
       "3  {'question': 'what was the average rental expe...   \n",
       "4  {'question': 'what is the growth rate in the s...   \n",
       "\n",
       "                                             context  \n",
       "0  [page_content='table of contents interest expe...  \n",
       "1  [page_content='operating expenses millions 201...  \n",
       "2  [page_content='consolidated income statement r...  \n",
       "3  [page_content='wood products sales in the unit...  \n",
       "4  [page_content='as noted above , as a result of...  "
      ]
     },
     "execution_count": 29,
     "metadata": {},
     "output_type": "execute_result"
    }
   ],
   "source": [
    "df.head()"
   ]
  },
  {
   "cell_type": "code",
   "execution_count": 30,
   "metadata": {},
   "outputs": [
    {
     "data": {
      "text/plain": [
       "[Document(metadata={'page': 41}, page_content='table of contents interest expense , net of capitalized interest increased $ 64 million , or 9.8% ( 9.8 % ) , to $ 710 million in 2013 from $ 646 million in 2012 primarily due to special charges of $ 92 million to recognize post-petition interest expense on unsecured obligations pursuant to the plan and penalty interest related to 10.5% ( 10.5 % ) secured notes and 7.50% ( 7.50 % ) senior secured notes .\\nother nonoperating expense , net of $ 84 million in 2013 consists principally of net foreign currency losses of $ 55 million and early debt extinguishment charges of $ 48 million .\\nother nonoperating income in 2012 consisted principally of a $ 280 million special credit related to the settlement of a commercial dispute partially offset by net foreign currency losses .\\nreorganization items , net reorganization items refer to revenues , expenses ( including professional fees ) , realized gains and losses and provisions for losses that are realized or incurred as a direct result of the chapter 11 cases .\\nthe following table summarizes the components included in reorganization items , net on american 2019s consolidated statements of operations for the years ended december 31 , 2013 and 2012 ( in millions ) : .\\n\\n|  | 2013 | 2012 |\\n| pension and postretirement benefits | $ 2014 | $ -66 ( 66 ) |\\n| labor-related deemed claim ( 1 ) | 1733 | 2014 |\\n| aircraft and facility financing renegotiations and rejections ( 2 ) ( 3 ) | 320 | 1951 |\\n| fair value of conversion discount ( 4 ) | 218 | 2014 |\\n| professional fees | 199 | 227 |\\n| other | 170 | 67 |\\n| total reorganization items net | $ 2640 | $ 2179 |\\n\\n( 1 ) in exchange for employees 2019 contributions to the successful reorganization , including agreeing to reductions in pay and benefits , american agreed in the plan to provide each employee group a deemed claim , which was used to provide a distribution of a portion of the equity of the reorganized entity to those employees .\\neach employee group received a deemed claim amount based upon a portion of the value of cost savings provided by that group through reductions to pay and benefits as well as through certain work rule changes .\\nthe total value of this deemed claim was approximately $ 1.7 billion .\\n( 2 ) amounts include allowed claims ( claims approved by the bankruptcy court ) and estimated allowed claims relating to ( i ) the rejection or modification of financings related to aircraft and ( ii ) entry of orders treated as unsecured claims with respect to facility agreements supporting certain issuances of special facility revenue bonds .\\nthe debtors recorded an estimated claim associated with the rejection or modification of a financing or facility agreement when the applicable motion was filed with the bankruptcy court to reject or modify such financing or facility agreement and the debtors believed that it was probable the motion would be approved , and there was sufficient information to estimate the claim .\\nsee note 2 to american 2019s consolidated financial statements in part ii , item 8b for further information .\\n( 3 ) pursuant to the plan , the debtors agreed to allow certain post-petition unsecured claims on obligations .\\nas a result , during the year ended december 31 , 2013 , american recorded reorganization charges to adjust estimated allowed claim amounts previously recorded on rejected special facility revenue bonds of $ 180 million , allowed general unsecured claims related to the 1990 and 1994 series of special facility revenue bonds that financed certain improvements at jfk , and rejected bonds that financed certain improvements at ord , which are included in the table above .\\n( 4 ) the plan allowed unsecured creditors receiving aag series a preferred stock a conversion discount of 3.5% ( 3.5 % ) .\\naccordingly , american recorded the fair value of such discount upon the confirmation of the plan by the bankruptcy court. .'),\n",
       " Document(metadata={'page': 30}, page_content='management 2019s discussion and analysis of financial condition and results of operations 2013 ( continued ) ( amounts in millions , except per share amounts ) corporate and other expenses increased slightly during 2013 by $ 3.5 to $ 140.8 compared to 2012 , primarily due to an increase in salaries and related expenses , mainly attributable to higher base salaries , benefits and temporary help , partially offset by lower severance expenses and a decrease in office and general expenses .\\nliquidity and capital resources cash flow overview the following tables summarize key financial data relating to our liquidity , capital resources and uses of capital. .\\n\\n| cash flow data | years ended december 31 , 2014 | years ended december 31 , 2013 | years ended december 31 , 2012 |\\n| net income adjusted to reconcile net income to net cashprovided by operating activities1 | $ 831.2 | $ 598.4 | $ 697.2 |\\n| net cash used in working capital b2 | -131.1 ( 131.1 ) | -9.6 ( 9.6 ) | -293.2 ( 293.2 ) |\\n| changes in other non-current assets and liabilities using cash | -30.6 ( 30.6 ) | 4.1 | -46.8 ( 46.8 ) |\\n| net cash provided by operating activities | $ 669.5 | $ 592.9 | $ 357.2 |\\n| net cash used in investing activities | -200.8 ( 200.8 ) | -224.5 ( 224.5 ) | -210.2 ( 210.2 ) |\\n| net cash ( used in ) provided by financing activities | -343.9 ( 343.9 ) | -1212.3 ( 1212.3 ) | 131.3 |\\n\\n1 reflects net income adjusted primarily for depreciation and amortization of fixed assets and intangible assets , amortization of restricted stock and other non-cash compensation , non-cash ( gain ) loss related to early extinguishment of debt , and deferred income taxes .\\n2 reflects changes in accounts receivable , expenditures billable to clients , other current assets , accounts payable and accrued liabilities .\\noperating activities net cash provided by operating activities during 2014 was $ 669.5 , which was an improvement of $ 76.6 as compared to 2013 , primarily as a result of an increase in net income , offset by an increase in working capital usage of $ 121.5 .\\ndue to the seasonality of our business , we typically generate cash from working capital in the second half of a year and use cash from working capital in the first half of a year , with the largest impacts in the first and fourth quarters .\\nour net working capital usage in 2014 was impacted by our media businesses .\\nnet cash provided by operating activities during 2013 was $ 592.9 , which was an increase of $ 235.7 as compared to 2012 , primarily as a result of an improvement in working capital usage of $ 283.6 , offset by a decrease in net income .\\nthe improvement in working capital in 2013 was impacted by our media businesses and an ongoing focus on working capital management at our agencies .\\nthe timing of media buying on behalf of our clients affects our working capital and operating cash flow .\\nin most of our businesses , our agencies enter into commitments to pay production and media costs on behalf of clients .\\nto the extent possible we pay production and media charges after we have received funds from our clients .\\nthe amounts involved substantially exceed our revenues and primarily affect the level of accounts receivable , expenditures billable to clients , accounts payable and accrued liabilities .\\nour assets include both cash received and accounts receivable from clients for these pass-through arrangements , while our liabilities include amounts owed on behalf of clients to media and production suppliers .\\nour accrued liabilities are also affected by the timing of certain other payments .\\nfor example , while annual cash incentive awards are accrued throughout the year , they are generally paid during the first quarter of the subsequent year .\\ninvesting activities net cash used in investing activities during 2014 primarily related to payments for capital expenditures and acquisitions .\\ncapital expenditures of $ 148.7 related primarily to computer hardware and software and leasehold improvements .\\nwe made payments of $ 67.8 related to acquisitions completed during 2014 , net of cash acquired. .'),\n",
       " Document(metadata={'page': 93}, page_content='in june 2011 , the fasb issued asu no .\\n2011-05 201ccomprehensive income 2013 presentation of comprehensive income . 201d asu 2011-05 requires comprehensive income , the components of net income , and the components of other comprehensive income either in a single continuous statement of comprehensive income or in two separate but consecutive statements .\\nin both choices , an entity is required to present each component of net income along with total net income , each component of other comprehensive income along with a total for other comprehensive income , and a total amount for comprehensive income .\\nthis update eliminates the option to present the components of other comprehensive income as part of the statement of changes in stockholders\\' equity .\\nthe amendments in this update do not change the items that must be reported in other comprehensive income or when an item of other comprehensive income must be reclassified to net income .\\nthe amendments in this update should be applied retrospectively and is effective for interim and annual reporting periods beginning after december 15 , 2011 .\\nthe company adopted this guidance in the first quarter of 2012 .\\nthe adoption of asu 2011-05 is for presentation purposes only and had no material impact on the company 2019s consolidated financial statements .\\n3 .\\ninventories , net : merchandise inventory the company used the lifo method of accounting for approximately 95% ( 95 % ) of inventories at both december 29 , 2012 and december 31 , 2011 .\\nunder lifo , the company 2019s cost of sales reflects the costs of the most recently purchased inventories , while the inventory carrying balance represents the costs for inventories purchased in fiscal 2012 and prior years .\\nthe company recorded a reduction to cost of sales of $ 24087 and $ 29554 in fiscal 2012 and fiscal 2010 , respectively .\\nas a result of utilizing lifo , the company recorded an increase to cost of sales of $ 24708 for fiscal 2011 , due to an increase in supply chain costs and inflationary pressures affecting certain product categories .\\nthe company 2019s overall costs to acquire inventory for the same or similar products have generally decreased historically as the company has been able to leverage its continued growth , execution of merchandise strategies and realization of supply chain efficiencies .\\nproduct cores the remaining inventories are comprised of product cores , the non-consumable portion of certain parts and batteries , which are valued under the first-in , first-out ( \"fifo\" ) method .\\nproduct cores are included as part of the company\\'s merchandise costs and are either passed on to the customer or returned to the vendor .\\nbecause product cores are not subject to frequent cost changes like the company\\'s other merchandise inventory , there is no material difference when applying either the lifo or fifo valuation method .\\ninventory overhead costs purchasing and warehousing costs included in inventory at december 29 , 2012 and december 31 , 2011 , were $ 134258 and $ 126840 , respectively .\\ninventory balance and inventory reserves inventory balances at the end of fiscal 2012 and 2011 were as follows : december 29 , december 31 .\\n\\n|  | december 292012 | december 312011 |\\n| inventories at fifo net | $ 2182419 | $ 1941055 |\\n| adjustments to state inventories at lifo | 126190 | 102103 |\\n| inventories at lifo net | $ 2308609 | $ 2043158 |\\n\\ninventory quantities are tracked through a perpetual inventory system .\\nthe company completes physical inventories and other targeted inventory counts in its store locations to ensure the accuracy of the perpetual inventory quantities of both merchandise and core inventory in these locations .\\nin its distribution centers and pdq aes , the company uses a cycle counting program to ensure the accuracy of the perpetual inventory quantities of both merchandise and product core inventory .\\nreserves advance auto parts , inc .\\nand subsidiaries notes to the consolidated financial statements december 29 , 2012 , december 31 , 2011 and january 1 , 2011 ( in thousands , except per share data ) .'),\n",
       " Document(metadata={'page': 96}, page_content='consolidated income statement review net income for 2009 was $ 2.4 billion and for 2008 was $ 914 million .\\namounts for 2009 include operating results of national city and the fourth quarter impact of a $ 687 million after-tax gain related to blackrock 2019s acquisition of bgi .\\nincreases in income statement comparisons to 2008 , except as noted , are primarily due to the operating results of national city .\\nour consolidated income statement is presented in item 8 of this report .\\nnet interest income and net interest margin year ended december 31 dollars in millions 2009 2008 .\\n\\n| year ended december 31 dollars in millions | 2009 | 2008 |\\n| net interest income | $ 9083 | $ 3854 |\\n| net interest margin | 3.82% ( 3.82 % ) | 3.37% ( 3.37 % ) |\\n\\nchanges in net interest income and margin result from the interaction of the volume and composition of interest-earning assets and related yields , interest-bearing liabilities and related rates paid , and noninterest-bearing sources of funding .\\nsee statistical information 2013 analysis of year-to-year changes in net interest ( unaudited ) income and average consolidated balance sheet and net interest analysis in item 8 of this report for additional information .\\nhigher net interest income for 2009 compared with 2008 reflected the increase in average interest-earning assets due to national city and the improvement in the net interest margin .\\nthe net interest margin was 3.82% ( 3.82 % ) for 2009 and 3.37% ( 3.37 % ) for 2008 .\\nthe following factors impacted the comparison : 2022 a decrease in the rate accrued on interest-bearing liabilities of 97 basis points .\\nthe rate accrued on interest-bearing deposits , the largest component , decreased 107 basis points .\\n2022 these factors were partially offset by a 45 basis point decrease in the yield on interest-earning assets .\\nthe yield on loans , which represented the largest portion of our earning assets in 2009 , decreased 30 basis points .\\n2022 in addition , the impact of noninterest-bearing sources of funding decreased 7 basis points .\\nfor comparing to the broader market , the average federal funds rate was .16% ( .16 % ) for 2009 compared with 1.94% ( 1.94 % ) for 2008 .\\nwe expect our net interest income for 2010 will likely be modestly lower as a result of cash recoveries on purchased impaired loans in 2009 and additional run-off of higher- yielding assets , which could be mitigated by rising interest rates .\\nthis assumes our current expectations for interest rates and economic conditions 2013 we include our current economic assumptions underlying our forward-looking statements in the cautionary statement regarding forward-looking information section of this item 7 .\\nnoninterest income summary noninterest income was $ 7.1 billion for 2009 and $ 2.4 billion for 2008 .\\nnoninterest income for 2009 included the following : 2022 the gain on blackrock/bgi transaction of $ 1.076 billion , 2022 net credit-related other-than-temporary impairments ( otti ) on debt and equity securities of $ 577 million , 2022 net gains on sales of securities of $ 550 million , 2022 gains on hedging of residential mortgage servicing rights of $ 355 million , 2022 valuation and sale income related to our commercial mortgage loans held for sale , net of hedges , of $ 107 million , 2022 gains of $ 103 million related to our blackrock ltip shares adjustment in the first quarter , and net losses on private equity and alternative investments of $ 93 million .\\nnoninterest income for 2008 included the following : 2022 net otti on debt and equity securities of $ 312 million , 2022 gains of $ 246 million related to our blackrock ltip shares adjustment , 2022 valuation and sale losses related to our commercial mortgage loans held for sale , net of hedges , of $ 197 million , 2022 impairment and other losses related to private equity and alternative investments of $ 180 million , 2022 income from hilliard lyons totaling $ 164 million , including the first quarter gain of $ 114 million from the sale of this business , 2022 net gains on sales of securities of $ 106 million , and 2022 a gain of $ 95 million related to the redemption of a portion of our visa class b common shares related to visa 2019s march 2008 initial public offering .\\nadditional analysis asset management revenue increased $ 172 million to $ 858 million in 2009 , compared with $ 686 million in 2008 .\\nthis increase reflected improving equity markets , new business generation and a shift in assets into higher yielding equity investments during the second half of 2009 .\\nassets managed totaled $ 103 billion at both december 31 , 2009 and 2008 , including the impact of national city .\\nthe asset management group section of the business segments review section of this item 7 includes further discussion of assets under management .\\nconsumer services fees totaled $ 1.290 billion in 2009 compared with $ 623 million in 2008 .\\nservice charges on deposits totaled $ 950 million for 2009 and $ 372 million for 2008 .\\nboth increases were primarily driven by the impact of the national city acquisition .\\nreduced consumer spending .'),\n",
       " Document(metadata={'page': 56}, page_content='13 .\\npension and other postretirement benefit plans the company has defined benefit pension plans covering eligible employees in the united states and in certain of its international subsidiaries .\\nas a result of plan design changes approved in 2011 , beginning on january 1 , 2013 , active participants in merck 2019s primary u.s .\\ndefined benefit pension plans are accruing pension benefits using new cash balance formulas based on age , service , pay and interest .\\nhowever , during a transition period from january 1 , 2013 through december 31 , 2019 , participants will earn the greater of the benefit as calculated under the employee 2019s legacy final average pay formula or their new cash balance formula .\\nfor all years of service after december 31 , 2019 , participants will earn future benefits under only the cash balance formula .\\nin addition , the company provides medical benefits , principally to its eligible u.s .\\nretirees and their dependents , through its other postretirement benefit plans .\\nthe company uses december 31 as the year-end measurement date for all of its pension plans and other postretirement benefit plans .\\nnet periodic benefit cost the net periodic benefit cost for pension and other postretirement benefit plans consisted of the following components: .\\n\\n| years ended december 31 | pension benefits 2013 | pension benefits 2012 | pension benefits 2011 | pension benefits 2013 | pension benefits 2012 | 2011 |\\n| service cost | $ 682 | $ 555 | $ 619 | $ 102 | $ 82 | $ 110 |\\n| interest cost | 665 | 661 | 718 | 107 | 121 | 141 |\\n| expected return on plan assets | -1097 ( 1097 ) | -970 ( 970 ) | -972 ( 972 ) | -126 ( 126 ) | -136 ( 136 ) | -142 ( 142 ) |\\n| net amortization | 336 | 185 | 201 | -50 ( 50 ) | -35 ( 35 ) | -17 ( 17 ) |\\n| termination benefits | 58 | 27 | 59 | 50 | 18 | 29 |\\n| curtailments | -23 ( 23 ) | -10 ( 10 ) | -86 ( 86 ) | -11 ( 11 ) | -7 ( 7 ) | 1 |\\n| settlements | 23 | 18 | 4 | 2014 | 2014 | 2014 |\\n| net periodic benefit cost | $ 644 | $ 466 | $ 543 | $ 72 | $ 43 | $ 122 |\\n\\nthe increase in net periodic benefit cost for pension and other postretirement benefit plans in 2013 as compared with 2012 is largely attributable to a change in the discount rate .\\nthe net periodic benefit cost attributable to u.s .\\npension plans included in the above table was $ 348 million in 2013 , $ 268 million in 2012 and $ 406 million in in connection with restructuring actions ( see note 3 ) , termination charges were recorded in 2013 , 2012 and 2011 on pension and other postretirement benefit plans related to expanded eligibility for certain employees exiting merck .\\nalso , in connection with these restructuring activities , curtailments were recorded in 2013 , 2012 and 2011 on pension and other postretirement benefit plans .\\nin addition , settlements were recorded in 2013 , 2012 and 2011 on certain domestic and international pension plans .\\ntable of contents .'),\n",
       " Document(metadata={'page': 13}, page_content='a reconciliation of the beginning and ending amount of unrecognized tax benefits , for the periods indicated , is as follows: .\\n\\n| ( dollars in thousands ) | 2010 | 2009 | 2008 |\\n| balance at january 1 | $ 29010 | $ 34366 | $ 29132 |\\n| additions based on tax positions related to the current year | 7119 | 6997 | 5234 |\\n| additions for tax positions of prior years | - | - | - |\\n| reductions for tax positions of prior years | - | - | - |\\n| settlements with taxing authorities | -12356 ( 12356 ) | -12353 ( 12353 ) | - |\\n| lapses of applicable statutes of limitations | - | - | - |\\n| balance at december 31 | $ 23773 | $ 29010 | $ 34366 |\\n\\nthe entire amount of the unrecognized tax benefits would affect the effective tax rate if recognized .\\nin 2010 , the company favorably settled a 2003 and 2004 irs audit .\\nthe company recorded a net overall tax benefit including accrued interest of $ 25920 thousand .\\nin addition , the company was also able to take down a $ 12356 thousand fin 48 reserve that had been established regarding the 2003 and 2004 irs audit .\\nthe company is no longer subject to u.s .\\nfederal , state and local or foreign income tax examinations by tax authorities for years before 2007 .\\nthe company recognizes accrued interest related to net unrecognized tax benefits and penalties in income taxes .\\nduring the years ended december 31 , 2010 , 2009 and 2008 , the company accrued and recognized a net expense ( benefit ) of approximately $ ( 9938 ) thousand , $ 1563 thousand and $ 2446 thousand , respectively , in interest and penalties .\\nincluded within the 2010 net expense ( benefit ) of $ ( 9938 ) thousand is $ ( 10591 ) thousand of accrued interest related to the 2003 and 2004 irs audit .\\nthe company is not aware of any positions for which it is reasonably possible that the total amounts of unrecognized tax benefits will significantly increase or decrease within twelve months of the reporting date .\\nfor u.s .\\nincome tax purposes the company has foreign tax credit carryforwards of $ 55026 thousand that begin to expire in 2014 .\\nin addition , for u.s .\\nincome tax purposes the company has $ 41693 thousand of alternative minimum tax credits that do not expire .\\nmanagement believes that it is more likely than not that the company will realize the benefits of its net deferred tax assets and , accordingly , no valuation allowance has been recorded for the periods presented .\\ntax benefits of $ 629 thousand and $ 1714 thousand related to share-based compensation deductions for stock options exercised in 2010 and 2009 , respectively , are included within additional paid-in capital of the shareholders 2019 equity section of the consolidated balance sheets. .'),\n",
       " Document(metadata={'page': 17}, page_content='contributions and future benefit payments we expect to make contributions of $ 28.1 million to our defined benefit , other postretirement , and postemployment benefits plans in fiscal 2009 .\\nactual 2009 contributions could exceed our current projections , as influenced by our decision to undertake discretionary funding of our benefit trusts versus other competing investment priorities and future changes in government requirements .\\nestimated benefit payments , which reflect expected future service , as appropriate , are expected to be paid from fiscal 2009-2018 as follows : in millions defined benefit pension postretirement benefit plans gross payments medicare subsidy receipts postemployment benefit ......................................................................................................................................................................................... .\\n\\n| in millions | defined benefit pension plans | other postretirement benefit plans gross payments | medicare subsidy receipts | postemployment benefit plans |\\n| 2009 | $ 176.3 | $ 56.0 | $ -6.1 ( 6.1 ) | $ 16.6 |\\n| 2010 | 182.5 | 59.9 | -6.7 ( 6.7 ) | 17.5 |\\n| 2011 | 189.8 | 63.3 | -7.3 ( 7.3 ) | 18.1 |\\n| 2012 | 197.5 | 67.0 | -8.0 ( 8.0 ) | 18.8 |\\n| 2013 | 206.6 | 71.7 | -8.7 ( 8.7 ) | 19.4 |\\n| 2014 2013 2018 | 1187.3 | 406.8 | -55.3 ( 55.3 ) | 106.3 |\\n\\ndefined contribution plans the general mills savings plan is a defined contribution plan that covers salaried and nonunion employees .\\nit had net assets of $ 2309.9 million as of may 25 , 2008 and $ 2303.0 million as of may 27 , 2007.this plan is a 401 ( k ) savings plan that includes a number of investment funds and an employee stock ownership plan ( esop ) .\\nwe sponsor another savings plan for certain hourly employees with net assets of $ 16.0 million as of may 25 , 2008 .\\nour total recognized expense related to defined contribution plans was $ 61.9 million in fiscal 2008 , $ 48.3 million in fiscal 2007 , and $ 45.5 million in fiscal 2006 .\\nthe esop originally purchased our common stock principally with funds borrowed from third parties and guaranteed by us.the esop shares are included in net shares outstanding for the purposes of calculating eps .\\nthe esop 2019s third-party debt was repaid on june 30 , 2007 .\\nthe esop 2019s only assets are our common stock and temporary cash balances.the esop 2019s share of the total defined contribution expense was $ 52.3 million in fiscal 2008 , $ 40.1 million in fiscal 2007 , and $ 37.6 million in fiscal 2006 .\\nthe esop 2019s expensewas calculated by the 201cshares allocated 201dmethod .\\nthe esop used our common stock to convey benefits to employees and , through increased stock ownership , to further align employee interests with those of stockholders.wematched a percentage of employee contributions to the general mills savings plan with a base match plus a variable year end match that depended on annual results .\\nemployees received our match in the form of common stock .\\nour cash contribution to the esop was calculated so as to pay off enough debt to release sufficient shares to make our match .\\nthe esop used our cash contributions to the plan , plus the dividends received on the esop 2019s leveraged shares , to make principal and interest payments on the esop 2019s debt .\\nas loan payments were made , shares became unencumbered by debt and were committed to be allocated .\\nthe esop allocated shares to individual employee accounts on the basis of the match of employee payroll savings ( contributions ) , plus reinvested dividends received on previously allocated shares .\\nthe esop incurred net interest of less than $ 1.0 million in each of fiscal 2007 and 2006 .\\nthe esop used dividends of $ 2.5 million in fiscal 2007 and $ 3.9 million in 2006 , along with our contributions of less than $ 1.0 million in each of fiscal 2007 and 2006 to make interest and principal payments .\\nthe number of shares of our common stock allocated to participants in the esop was 5.2 million as of may 25 , 2008 , and 5.4 million as of may 27 , 2007 .\\nannual report 2008 81 .'),\n",
       " Document(metadata={'page': 74}, page_content='the following tables present a reconciliation of the beginning and ending balances of the fair value measurements using significant unobservable inputs ( level 3 ) for 2017 and 2016 , respectively: .\\n\\n|  | level 3 |\\n| balance as of january 1 2017 | $ 140 |\\n| actual return on assets | 2 |\\n| purchases issuances and settlements net | 136 |\\n| balance as of december 31 2017 | $ 278 |\\n\\npurchases , issuances and settlements , net .\\n.\\n.\\n.\\n.\\n.\\n.\\n.\\n.\\n.\\n.\\n.\\n.\\n.\\n.\\n.\\n.\\n.\\n.\\n.\\n.\\n.\\n.\\n.\\n.\\n.\\n.\\n.\\n.\\n.\\n.\\n.\\n.\\n.\\n.\\n.\\n.\\n.\\n.\\n.\\n.\\n.\\n.\\n.\\n( 4 ) balance as of december 31 , 2016 .\\n.\\n.\\n.\\n.\\n.\\n.\\n.\\n.\\n.\\n.\\n.\\n.\\n.\\n.\\n.\\n.\\n.\\n.\\n.\\n.\\n.\\n.\\n.\\n.\\n.\\n.\\n.\\n.\\n.\\n.\\n.\\n.\\n.\\n.\\n.\\n.\\n.\\n.\\n.\\n.\\n.\\n.\\n.\\n.\\n.\\n.\\n.\\n.\\n.\\n.\\n.\\n.\\n.\\n$ 140 the company 2019s postretirement benefit plans have different levels of funded status and the assets are held under various trusts .\\nthe investments and risk mitigation strategies for the plans are tailored specifically for each trust .\\nin setting new strategic asset mixes , consideration is given to the likelihood that the selected asset allocation will effectively fund the projected plan liabilities and meet the risk tolerance criteria of the company .\\nthe company periodically updates the long-term , strategic asset allocations for these plans through asset liability studies and uses various analytics to determine the optimal asset allocation .\\nconsiderations include plan liability characteristics , liquidity needs , funding requirements , expected rates of return and the distribution of returns .\\nstrategies to address the goal of ensuring sufficient assets to pay benefits include target allocations to a broad array of asset classes and , within asset classes , strategies are employed to provide adequate returns , diversification and liquidity .\\nin 2012 , the company implemented a de-risking strategy for the american water pension plan after conducting an asset-liability study to reduce the volatility of the funded status of the plan .\\nas part of the de-risking strategy , the company revised the asset allocations to increase the matching characteristics of fixed-income assets relative to liabilities .\\nthe fixed income portion of the portfolio was designed to match the bond-like and long-dated nature of the postretirement liabilities .\\nin 2017 , the company further increased its exposure to liability-driven investing and increased its fixed-income allocation to 50% ( 50 % ) , up from 40% ( 40 % ) , in an effort to further decrease the funded status volatility of the plan and hedge the portfolio from movements in interest rates .\\nin 2012 , the company also implemented a de-risking strategy for the medical bargaining trust within the plan to minimize volatility .\\nin 2017 , the company conducted a new asset-liability study that indicated medical trend inflation that outpaced the consumer price index by more than 2% ( 2 % ) for the last 20 years .\\ngiven continuously rising medical costs , the company decided to increase the equity exposure of the portfolio to 30% ( 30 % ) , up from 20% ( 20 % ) , while reducing the fixed-income portion of the portfolio from 80% ( 80 % ) to 70% ( 70 % ) .\\nthe company also conducted an asset-liability study for the post-retirement non-bargaining medical plan .\\nits allocation was adjusted to make it more conservative , reducing the equity allocation from 70% ( 70 % ) to 60% ( 60 % ) and increasing the fixed- income allocation from 30% ( 30 % ) to 40% ( 40 % ) .\\nthe post-retirement medical non-bargaining plan 2019s equity allocation was reduced due to the cap on benefits for some non-union participants and resultant reduction in the plan 2019s liabilities .\\nthese changes will take place in 2018 .\\nthe company engages third party investment managers for all invested assets .\\nmanagers are not permitted to invest outside of the asset class ( e.g .\\nfixed income , equity , alternatives ) or strategy for which they have been appointed .\\ninvestment management agreements and recurring performance and attribution analysis are used as tools to ensure investment managers invest solely within the investment strategy they have been provided .\\nfutures and options may be used to adjust portfolio duration to align with a plan 2019s targeted investment policy. .'),\n",
       " Document(metadata={'page': 80}, page_content='the hartford financial services group , inc .\\nnotes to consolidated financial statements ( continued ) 10 .\\nsales inducements accounting policy the company currently offers enhanced crediting rates or bonus payments to contract holders on certain of its individual and group annuity products .\\nthe expense associated with offering a bonus is deferred and amortized over the life of the related contract in a pattern consistent with the amortization of deferred policy acquisition costs .\\namortization expense associated with expenses previously deferred is recorded over the remaining life of the contract .\\nconsistent with the unlock , the company unlocked the amortization of the sales inducement asset .\\nsee note 7 for more information concerning the unlock .\\nchanges in deferred sales inducement activity were as follows for the years ended december 31: .\\n\\n|  | 2011 | 2010 | 2009 |\\n| balance beginning of year | $ 459 | $ 438 | $ 553 |\\n| sales inducements deferred | 20 | 31 | 59 |\\n| amortization charged to income | -17 ( 17 ) | -8 ( 8 ) | -105 ( 105 ) |\\n| amortization 2014 unlock | -28 ( 28 ) | -2 ( 2 ) | -69 ( 69 ) |\\n| balance end of year | $ 434 | $ 459 | $ 438 |\\n\\n11 .\\nreserves for future policy benefits and unpaid losses and loss adjustment expenses life insurance products accounting policy liabilities for future policy benefits are calculated by the net level premium method using interest , withdrawal and mortality assumptions appropriate at the time the policies were issued .\\nthe methods used in determining the liability for unpaid losses and future policy benefits are standard actuarial methods recognized by the american academy of actuaries .\\nfor the tabular reserves , discount rates are based on the company 2019s earned investment yield and the morbidity/mortality tables used are standard industry tables modified to reflect the company 2019s actual experience when appropriate .\\nin particular , for the company 2019s group disability known claim reserves , the morbidity table for the early durations of claim is based exclusively on the company 2019s experience , incorporating factors such as gender , elimination period and diagnosis .\\nthese reserves are computed such that they are expected to meet the company 2019s future policy obligations .\\nfuture policy benefits are computed at amounts that , with additions from estimated premiums to be received and with interest on such reserves compounded annually at certain assumed rates , are expected to be sufficient to meet the company 2019s policy obligations at their maturities or in the event of an insured 2019s death .\\nchanges in or deviations from the assumptions used for mortality , morbidity , expected future premiums and interest can significantly affect the company 2019s reserve levels and related future operations and , as such , provisions for adverse deviation are built into the long-tailed liability assumptions .\\nliabilities for the company 2019s group life and disability contracts , as well as its individual term life insurance policies , include amounts for unpaid losses and future policy benefits .\\nliabilities for unpaid losses include estimates of amounts to fully settle known reported claims , as well as claims related to insured events that the company estimates have been incurred but have not yet been reported .\\nthese reserve estimates are based on known facts and interpretations of circumstances , and consideration of various internal factors including the hartford 2019s experience with similar cases , historical trends involving claim payment patterns , loss payments , pending levels of unpaid claims , loss control programs and product mix .\\nin addition , the reserve estimates are influenced by consideration of various external factors including court decisions , economic conditions and public attitudes .\\nthe effects of inflation are implicitly considered in the reserving process. .')]"
      ]
     },
     "execution_count": 30,
     "metadata": {},
     "output_type": "execute_result"
    }
   ],
   "source": [
    "df['context'][0]"
   ]
  },
  {
   "cell_type": "code",
   "execution_count": 35,
   "metadata": {},
   "outputs": [],
   "source": [
    "df1 = df.copy()"
   ]
  },
  {
   "cell_type": "code",
   "execution_count": 43,
   "metadata": {},
   "outputs": [
    {
     "data": {
      "text/html": [
       "<div>\n",
       "<style scoped>\n",
       "    .dataframe tbody tr th:only-of-type {\n",
       "        vertical-align: middle;\n",
       "    }\n",
       "\n",
       "    .dataframe tbody tr th {\n",
       "        vertical-align: top;\n",
       "    }\n",
       "\n",
       "    .dataframe thead th {\n",
       "        text-align: right;\n",
       "    }\n",
       "</style>\n",
       "<table border=\"1\" class=\"dataframe\">\n",
       "  <thead>\n",
       "    <tr style=\"text-align: right;\">\n",
       "      <th></th>\n",
       "      <th>pre_text</th>\n",
       "      <th>post_text</th>\n",
       "      <th>filename</th>\n",
       "      <th>table_ori</th>\n",
       "      <th>table</th>\n",
       "      <th>id</th>\n",
       "      <th>annotation</th>\n",
       "      <th>join_text</th>\n",
       "      <th>input_tokens</th>\n",
       "      <th>qa</th>\n",
       "      <th>context</th>\n",
       "    </tr>\n",
       "  </thead>\n",
       "  <tbody>\n",
       "    <tr>\n",
       "      <th>0</th>\n",
       "      <td>[hii expects to incur higher costs to complete...</td>\n",
       "      <td>[.]</td>\n",
       "      <td>HII/2011/page_90.pdf</td>\n",
       "      <td>[[($ in millions), Employee Compensation, Othe...</td>\n",
       "      <td>[[( $ in millions ), employee compensation, ot...</td>\n",
       "      <td>Double_HII/2011/page_90.pdf</td>\n",
       "      <td>{'amt_table': '&lt;table class='wikitable'&gt;&lt;tr&gt;&lt;t...</td>\n",
       "      <td>hii expects to incur higher costs to complete ...</td>\n",
       "      <td>1002</td>\n",
       "      <td>{'question': 'what is the net change in employ...</td>\n",
       "      <td>[page_content='table of contents interest expe...</td>\n",
       "    </tr>\n",
       "    <tr>\n",
       "      <th>1</th>\n",
       "      <td>[business subsequent to the acquisition ., the...</td>\n",
       "      <td>[rental expense for operating leases was appro...</td>\n",
       "      <td>LKQ/2018/page_102.pdf</td>\n",
       "      <td>[[2019, $294,269], [2020, 256,172], [2021, 210...</td>\n",
       "      <td>[[2019, $ 294269], [2020, 256172], [2021, 2106...</td>\n",
       "      <td>Single_LKQ/2018/page_102.pdf-2</td>\n",
       "      <td>{'amt_table': '&lt;table class='wikitable'&gt;&lt;tr&gt;&lt;t...</td>\n",
       "      <td>business subsequent to the acquisition .\\nthe ...</td>\n",
       "      <td>919</td>\n",
       "      <td>{'question': 'what was the percentage change i...</td>\n",
       "      <td>[page_content='operating expenses millions 201...</td>\n",
       "    </tr>\n",
       "    <tr>\n",
       "      <th>2</th>\n",
       "      <td>[item 6 ., selected financial data the followi...</td>\n",
       "      <td>[basic earnings ( loss ) per share ( 3 ) $ 2.9...</td>\n",
       "      <td>HII/2012/page_47.pdf</td>\n",
       "      <td>[[, Year Ended December 31], [($ in millions, ...</td>\n",
       "      <td>[[( $ in millions except per share amounts ), ...</td>\n",
       "      <td>Single_HII/2012/page_47.pdf-1</td>\n",
       "      <td>{'amt_table': '&lt;table class='wikitable'&gt;&lt;tr&gt;&lt;t...</td>\n",
       "      <td>item 6 .\\nselected financial data the followin...</td>\n",
       "      <td>780</td>\n",
       "      <td>{'question': 'what was the net increase in tot...</td>\n",
       "      <td>[page_content='consolidated income statement r...</td>\n",
       "    </tr>\n",
       "    <tr>\n",
       "      <th>3</th>\n",
       "      <td>[american tower corporation and subsidiaries n...</td>\n",
       "      <td>[aggregate rent expense ( including the effect...</td>\n",
       "      <td>AMT/2004/page_91.pdf</td>\n",
       "      <td>[[2005, $106,116], [2006, 106,319], [2007, 106...</td>\n",
       "      <td>[[2005, $ 106116], [2006, 106319], [2007, 1060...</td>\n",
       "      <td>Single_AMT/2004/page_91.pdf-3</td>\n",
       "      <td>{'amt_table': '&lt;table class='wikitable'&gt;&lt;tr&gt;&lt;t...</td>\n",
       "      <td>american tower corporation and subsidiaries no...</td>\n",
       "      <td>869</td>\n",
       "      <td>{'question': 'what was the average rental expe...</td>\n",
       "      <td>[page_content='wood products sales in the unit...</td>\n",
       "    </tr>\n",
       "    <tr>\n",
       "      <th>4</th>\n",
       "      <td>[backlog applied manufactures systems to meet ...</td>\n",
       "      <td>[applied 2019s backlog on any particular date ...</td>\n",
       "      <td>AMAT/2015/page_14.pdf</td>\n",
       "      <td>[[, 2015, 2014, , (In millions, except percent...</td>\n",
       "      <td>[[, 2015, 2014, , ( in millions except percent...</td>\n",
       "      <td>Single_AMAT/2015/page_14.pdf-2</td>\n",
       "      <td>{'amt_table': '&lt;table class='wikitable'&gt;&lt;tr&gt;&lt;t...</td>\n",
       "      <td>backlog applied manufactures systems to meet d...</td>\n",
       "      <td>600</td>\n",
       "      <td>{'question': 'what is the growth rate in the s...</td>\n",
       "      <td>[page_content='as noted above , as a result of...</td>\n",
       "    </tr>\n",
       "  </tbody>\n",
       "</table>\n",
       "</div>"
      ],
      "text/plain": [
       "                                            pre_text  \\\n",
       "0  [hii expects to incur higher costs to complete...   \n",
       "1  [business subsequent to the acquisition ., the...   \n",
       "2  [item 6 ., selected financial data the followi...   \n",
       "3  [american tower corporation and subsidiaries n...   \n",
       "4  [backlog applied manufactures systems to meet ...   \n",
       "\n",
       "                                           post_text               filename  \\\n",
       "0                                                [.]   HII/2011/page_90.pdf   \n",
       "1  [rental expense for operating leases was appro...  LKQ/2018/page_102.pdf   \n",
       "2  [basic earnings ( loss ) per share ( 3 ) $ 2.9...   HII/2012/page_47.pdf   \n",
       "3  [aggregate rent expense ( including the effect...   AMT/2004/page_91.pdf   \n",
       "4  [applied 2019s backlog on any particular date ...  AMAT/2015/page_14.pdf   \n",
       "\n",
       "                                           table_ori  \\\n",
       "0  [[($ in millions), Employee Compensation, Othe...   \n",
       "1  [[2019, $294,269], [2020, 256,172], [2021, 210...   \n",
       "2  [[, Year Ended December 31], [($ in millions, ...   \n",
       "3  [[2005, $106,116], [2006, 106,319], [2007, 106...   \n",
       "4  [[, 2015, 2014, , (In millions, except percent...   \n",
       "\n",
       "                                               table  \\\n",
       "0  [[( $ in millions ), employee compensation, ot...   \n",
       "1  [[2019, $ 294269], [2020, 256172], [2021, 2106...   \n",
       "2  [[( $ in millions except per share amounts ), ...   \n",
       "3  [[2005, $ 106116], [2006, 106319], [2007, 1060...   \n",
       "4  [[, 2015, 2014, , ( in millions except percent...   \n",
       "\n",
       "                               id  \\\n",
       "0     Double_HII/2011/page_90.pdf   \n",
       "1  Single_LKQ/2018/page_102.pdf-2   \n",
       "2   Single_HII/2012/page_47.pdf-1   \n",
       "3   Single_AMT/2004/page_91.pdf-3   \n",
       "4  Single_AMAT/2015/page_14.pdf-2   \n",
       "\n",
       "                                          annotation  \\\n",
       "0  {'amt_table': '<table class='wikitable'><tr><t...   \n",
       "1  {'amt_table': '<table class='wikitable'><tr><t...   \n",
       "2  {'amt_table': '<table class='wikitable'><tr><t...   \n",
       "3  {'amt_table': '<table class='wikitable'><tr><t...   \n",
       "4  {'amt_table': '<table class='wikitable'><tr><t...   \n",
       "\n",
       "                                           join_text  input_tokens  \\\n",
       "0  hii expects to incur higher costs to complete ...          1002   \n",
       "1  business subsequent to the acquisition .\\nthe ...           919   \n",
       "2  item 6 .\\nselected financial data the followin...           780   \n",
       "3  american tower corporation and subsidiaries no...           869   \n",
       "4  backlog applied manufactures systems to meet d...           600   \n",
       "\n",
       "                                                  qa  \\\n",
       "0  {'question': 'what is the net change in employ...   \n",
       "1  {'question': 'what was the percentage change i...   \n",
       "2  {'question': 'what was the net increase in tot...   \n",
       "3  {'question': 'what was the average rental expe...   \n",
       "4  {'question': 'what is the growth rate in the s...   \n",
       "\n",
       "                                             context  \n",
       "0  [page_content='table of contents interest expe...  \n",
       "1  [page_content='operating expenses millions 201...  \n",
       "2  [page_content='consolidated income statement r...  \n",
       "3  [page_content='wood products sales in the unit...  \n",
       "4  [page_content='as noted above , as a result of...  "
      ]
     },
     "execution_count": 43,
     "metadata": {},
     "output_type": "execute_result"
    }
   ],
   "source": [
    "df1.head()"
   ]
  },
  {
   "cell_type": "code",
   "execution_count": 68,
   "metadata": {},
   "outputs": [],
   "source": [
    "df1['retrieved'] = df.apply(lambda row: [i.metadata['page'] for i in row['context']], axis=1)\n",
    "df1['correct_retrieve'] = df1.apply(lambda row: row.name in row['retrieved'], axis=1)"
   ]
  },
  {
   "cell_type": "code",
   "execution_count": 71,
   "metadata": {},
   "outputs": [
    {
     "name": "stdout",
     "output_type": "stream",
     "text": [
      "Recall: 46.00%\n"
     ]
    }
   ],
   "source": [
    "# Calculate the percentage of True values\n",
    "percentage_true = df1['correct_retrieve'].mean() * 100\n",
    "\n",
    "print(f\"Recall: {percentage_true:.2f}%\")"
   ]
  }
 ],
 "metadata": {
  "kernelspec": {
   "display_name": ".venv",
   "language": "python",
   "name": "python3"
  },
  "language_info": {
   "codemirror_mode": {
    "name": "ipython",
    "version": 3
   },
   "file_extension": ".py",
   "mimetype": "text/x-python",
   "name": "python",
   "nbconvert_exporter": "python",
   "pygments_lexer": "ipython3",
   "version": "3.12.0"
  }
 },
 "nbformat": 4,
 "nbformat_minor": 2
}
